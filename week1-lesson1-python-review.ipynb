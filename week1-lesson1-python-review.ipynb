{
 "cells": [
  {
   "cell_type": "markdown",
   "id": "4b01eedf-f77b-4be6-8ccf-ef7f73a3ac87",
   "metadata": {},
   "source": [
    "# Python Review \n",
    "\n",
    "Short review about some core concepts in Python exempolified by objects in the NumPy library. Goals:\n",
    "\n",
    "- recall basic Python vocabulary\n",
    "- practice markdown syntax"
   ]
  },
  {
   "cell_type": "markdown",
   "id": "3ff2f64e-a397-48b3-a8f2-600407ff3273",
   "metadata": {},
   "source": [
    "## Libraries and Packges\n",
    "**library:** is a collection of the code that we can use to perform specific tasks in our programs. It can be a single file or multiple files.\n",
    "\n",
    "**NumPy:**\n",
    "\n",
    "- core library for numerical computing in Python\n",
    "- many of libraries us NumPy arrays as their building blocks\n",
    "- computations on NumPy objects are optimized for speed and memory usage\n",
    "\n",
    "Let's import NumPy with its **standard abbreviations** `np`:"
   ]
  },
  {
   "cell_type": "code",
   "execution_count": 8,
   "id": "d5676895-fc07-4b93-8a7c-875465eac9cc",
   "metadata": {
    "tags": []
   },
   "outputs": [],
   "source": [
    "import numpy as np"
   ]
  },
  {
   "cell_type": "markdown",
   "id": "0e2e2aba-d256-4598-8e32-3e30d541fbfd",
   "metadata": {},
   "source": [
    "(esc + press M -> convert code to markdown cell)"
   ]
  },
  {
   "cell_type": "markdown",
   "id": "28cfaf21-27c8-4641-b572-ba195ca11117",
   "metadata": {},
   "source": [
    "## Variables\n",
    "**Variable:** a name we assign to a particular object in Python\n",
    "\n",
    "Example:"
   ]
  },
  {
   "cell_type": "code",
   "execution_count": 2,
   "id": "b152fa55-f63a-4669-a53b-6f2390fe7c22",
   "metadata": {
    "tags": []
   },
   "outputs": [],
   "source": [
    "# Assign a small array to variable a\n",
    "a = np.array([[1,1,2],[3,5,8]])"
   ]
  },
  {
   "cell_type": "markdown",
   "id": "4f3ced83-7ef7-41fa-aeda-7fc754f3d6e6",
   "metadata": {},
   "source": [
    "To view a variable's value from our Jupyter notebook:"
   ]
  },
  {
   "cell_type": "code",
   "execution_count": 3,
   "id": "2adaec66-b253-40bd-b695-5f1fb87a679c",
   "metadata": {
    "tags": []
   },
   "outputs": [
    {
     "data": {
      "text/plain": [
       "array([[1, 1, 2],\n",
       "       [3, 5, 8]])"
      ]
     },
     "execution_count": 3,
     "metadata": {},
     "output_type": "execute_result"
    }
   ],
   "source": [
    "# Show the value\n",
    "a"
   ]
  },
  {
   "cell_type": "code",
   "execution_count": 4,
   "id": "81cf5c6a-9d98-47d5-8b95-89260ae5f2e8",
   "metadata": {
    "tags": []
   },
   "outputs": [
    {
     "name": "stdout",
     "output_type": "stream",
     "text": [
      "[[1 1 2]\n",
      " [3 5 8]]\n"
     ]
    }
   ],
   "source": [
    "# Print the value \n",
    "print(a)"
   ]
  },
  {
   "cell_type": "markdown",
   "id": "476a7f46-473d-4351-9030-8e19d0c90155",
   "metadata": {},
   "source": [
    "## Convention: Use `snake_case` for naming variables\n",
    "This is the convention we will use in the course. Why? `my-variable` or `MyVariable` or `myVariable`,\n",
    "PEP 8 - Style guide for Puthon Code recommends snake_case\n",
    "It looks more professional when things are the same.\n",
    "\n",
    "**Remember variable names should both be descriptive and consise!**\n",
    "\n",
    "## Obejects\n",
    "\n",
    "**objects,** informally, is a bundle of *properties* and *actions* about something specific.\n",
    "\n",
    "Example:\n",
    "\n",
    "Object: data frame \n",
    "Properties: number of rows, names of columns, and date created.\n",
    "Actions: selecting a specific row or adding a new column\n",
    "\n",
    "A variable is the name we give a specific object, and the same object can be referenced by different variables.\n",
    "\n",
    "object is thing and variable is what we name it. Like different languages have different words for same thing.\n",
    "\n",
    "In practice, we often use the word variable and object interchangeably.\n",
    "\n",
    "## Types\n",
    "\n",
    "Every object in Python has a **type**, the type tells us what kind of object we have.\n",
    "We can also call the type of an object, the **class** ob an object, both mean what kind of object we have.\n"
   ]
  },
  {
   "cell_type": "code",
   "execution_count": 5,
   "id": "671d6fcf-1e10-40ef-ba66-234a7dd35817",
   "metadata": {
    "tags": []
   },
   "outputs": [
    {
     "name": "stdout",
     "output_type": "stream",
     "text": [
      "[[1 1 2]\n",
      " [3 5 8]]\n"
     ]
    }
   ],
   "source": [
    "print(a)\n"
   ]
  },
  {
   "cell_type": "code",
   "execution_count": 6,
   "id": "214a30e3-eb88-42f3-845d-050561a702eb",
   "metadata": {
    "tags": []
   },
   "outputs": [
    {
     "data": {
      "text/plain": [
       "numpy.ndarray"
      ]
     },
     "execution_count": 6,
     "metadata": {},
     "output_type": "execute_result"
    }
   ],
   "source": [
    "# see the type/class of a variable/object by using the `type` function\n",
    "type(a)"
   ]
  },
  {
   "cell_type": "code",
   "execution_count": 9,
   "id": "9899eb83-3653-4880-a451-57fb291db1ac",
   "metadata": {
    "tags": []
   },
   "outputs": [
    {
     "data": {
      "text/plain": [
       "numpy.ndarray"
      ]
     },
     "execution_count": 9,
     "metadata": {},
     "output_type": "execute_result"
    }
   ],
   "source": [
    "np.ndarray"
   ]
  },
  {
   "cell_type": "markdown",
   "id": "7cb4ff1c-5870-4a62-9917-8b65b68c545d",
   "metadata": {},
   "source": [
    "The numpy.ndarray is the core object/data type of NumPy package. "
   ]
  },
  {
   "cell_type": "code",
   "execution_count": 11,
   "id": "2668d24b-e2d1-4c56-b9e7-de224bfea925",
   "metadata": {
    "tags": []
   },
   "outputs": [
    {
     "data": {
      "text/plain": [
       "numpy.int64"
      ]
     },
     "execution_count": 11,
     "metadata": {},
     "output_type": "execute_result"
    }
   ],
   "source": [
    "np.int64"
   ]
  },
  {
   "cell_type": "code",
   "execution_count": 12,
   "id": "2d259920-e128-4a22-a4fb-8b80e971cc39",
   "metadata": {
    "tags": []
   },
   "outputs": [
    {
     "data": {
      "text/plain": [
       "numpy.int64"
      ]
     },
     "execution_count": 12,
     "metadata": {},
     "output_type": "execute_result"
    }
   ],
   "source": [
    "type(a[0,0])"
   ]
  },
  {
   "cell_type": "markdown",
   "id": "25235c0f-2b5a-4e78-b13a-4b5dc6b06bb7",
   "metadata": {},
   "source": [
    "`numpy.int64` is not thej standard Python integer type `int`.\n",
    "\n",
    "`numpy.int64` is a special data type in Numpy telling us that 1 is an integer stored as a 64-bit number\n",
    "\n",
    "Check-in: access the value 5 in array `a`\n"
   ]
  },
  {
   "cell_type": "code",
   "execution_count": 15,
   "id": "bb6128f0-f50f-4adf-8bb5-c0f28057e691",
   "metadata": {
    "tags": []
   },
   "outputs": [
    {
     "data": {
      "text/plain": [
       "5"
      ]
     },
     "execution_count": 15,
     "metadata": {},
     "output_type": "execute_result"
    }
   ],
   "source": [
    "#trying to get value five its going to be a[1,1] bc it is columns and rows so its the 2nd column 2n row and since its python \n",
    "#0 = 1\n",
    "\n",
    "a[1,1]"
   ]
  },
  {
   "cell_type": "markdown",
   "id": "edc5ab3b-a0ce-4f3b-9532-1bc7692d5db0",
   "metadata": {},
   "source": [
    "## Functions\n",
    "\n",
    "`print` was our first example of a python **function**\n",
    "\n",
    "Functions take in a set of **arguements**, separated by commmas, and use those arguments to create an **output**.\n",
    "\n",
    "In the course, we'll be using argument and parameter interchangable, but have slightly different meaning,\n",
    "Arguement is the actual value you give to the function?\n",
    "\n",
    "We can ask for info about what a function does by ? followed by the function name "
   ]
  },
  {
   "cell_type": "code",
   "execution_count": 16,
   "id": "0bb7a110-f1b5-4546-bc69-ca5049b1c813",
   "metadata": {
    "tags": []
   },
   "outputs": [
    {
     "data": {
      "text/plain": [
       "\u001b[0;31mDocstring:\u001b[0m\n",
       "print(value, ..., sep=' ', end='\\n', file=sys.stdout, flush=False)\n",
       "\n",
       "Prints the values to a stream, or to sys.stdout by default.\n",
       "Optional keyword arguments:\n",
       "file:  a file-like object (stream); defaults to the current sys.stdout.\n",
       "sep:   string inserted between values, default a space.\n",
       "end:   string appended after the last value, default a newline.\n",
       "flush: whether to forcibly flush the stream.\n",
       "\u001b[0;31mType:\u001b[0m      builtin_function_or_method\n"
      ]
     },
     "metadata": {},
     "output_type": "display_data"
    }
   ],
   "source": [
    "# Example \n",
    "\n",
    "?print"
   ]
  },
  {
   "cell_type": "markdown",
   "id": "f42ac756-84af-426d-918d-ab629be94ca2",
   "metadata": {},
   "source": [
    "What we obtain is a **docstring**, a special type of comment that is used to document how a function (or a class, or module) works.\n",
    "\n",
    "Notice that there are different types of arguments inside the function's parenthesis.\n",
    "\n",
    "Roughly speaking, a function has two types of arguments:\n",
    "\n",
    "- **non-optional arguments**: arguments *you* have to specify for the function to work\n",
    "- **optional arguments**: arguments that are pre filled with a default value by the function, but you can override them. optional arguments appear inside the parenthesis () in the for `optional_arguments = default_value.`\n",
    "\n",
    "Example\n",
    "\n",
    "`end` is a parameter in `print` with default value a new line\n",
    "We can pass the value `:-)` to this parameter so that it finishesd the line with `:-)` instead:\n"
   ]
  },
  {
   "cell_type": "code",
   "execution_count": 17,
   "id": "638a96f3-04ab-4781-983b-7b6381540d3b",
   "metadata": {
    "tags": []
   },
   "outputs": [
    {
     "name": "stdout",
     "output_type": "stream",
     "text": [
      "Change the end parameter:-)"
     ]
    }
   ],
   "source": [
    "print('Change the end parameter', end= ':-)')"
   ]
  },
  {
   "cell_type": "markdown",
   "id": "31d85ef1-15da-4ebb-ab27-870dde5f499f",
   "metadata": {},
   "source": [
    "## Attributes and methods\n",
    "\n",
    "An object in python has attributes and methods.\n",
    "\n",
    "- **attribute**: a property of the object, some piece of information about it, like length, weight of a dog.\n",
    "- **method**: a procedure associated with an object, so it is an action where the main ingredient is the object itself, like a dog barks\n",
    "\n",
    "## Check-in \n",
    "\n",
    "make a diagram like the cat one for a class `fish`. What are its attributes and methods\n",
    "\n",
    "Example:\n",
    "\n",
    "NumPy arrays have many methods and attributes. For example:"
   ]
  },
  {
   "cell_type": "code",
   "execution_count": 18,
   "id": "2cc40f98-41ae-4bce-8e3d-b1fcb59a235f",
   "metadata": {
    "tags": []
   },
   "outputs": [
    {
     "data": {
      "text/plain": [
       "array([[1, 1, 2],\n",
       "       [3, 5, 8]])"
      ]
     },
     "execution_count": 18,
     "metadata": {},
     "output_type": "execute_result"
    }
   ],
   "source": [
    "a"
   ]
  },
  {
   "cell_type": "code",
   "execution_count": 19,
   "id": "9fee45ab-f82c-4b33-bb44-947f5c9c7b44",
   "metadata": {
    "tags": []
   },
   "outputs": [
    {
     "name": "stdout",
     "output_type": "stream",
     "text": [
      "[[1 3]\n",
      " [1 5]\n",
      " [2 8]]\n"
     ]
    }
   ],
   "source": [
    "# T is an example of an attribute, it returns the transpose of array\n",
    "\n",
    "print(a.T)"
   ]
  },
  {
   "cell_type": "code",
   "execution_count": 21,
   "id": "c7d6945d-2a7d-463b-8e07-c93933a42abc",
   "metadata": {
    "tags": []
   },
   "outputs": [
    {
     "data": {
      "text/plain": [
       "numpy.ndarray"
      ]
     },
     "execution_count": 21,
     "metadata": {},
     "output_type": "execute_result"
    }
   ],
   "source": [
    "type(a.T)"
   ]
  },
  {
   "cell_type": "code",
   "execution_count": 26,
   "id": "4d5fe618-59ee-43b2-928b-724efa644dea",
   "metadata": {
    "tags": []
   },
   "outputs": [
    {
     "name": "stdout",
     "output_type": "stream",
     "text": [
      "(2, 3)\n",
      "<class 'tuple'>\n"
     ]
    }
   ],
   "source": [
    "# Shape is another attribute that tells us the shape of the array\n",
    "\n",
    "print(a.shape)\n",
    "\n",
    "# its (2, 3) because two columns, three rows\n",
    "\n",
    "print(type(a.shape))"
   ]
  },
  {
   "cell_type": "markdown",
   "id": "d20e3fab-52a9-471a-b54c-9bf27c5d5dc6",
   "metadata": {},
   "source": [
    "Attributes for the same object can have many different types"
   ]
  },
  {
   "cell_type": "code",
   "execution_count": 30,
   "id": "17edb10a-b505-4583-a7df-62257e109689",
   "metadata": {
    "tags": []
   },
   "outputs": [
    {
     "name": "stdout",
     "output_type": "stream",
     "text": [
      "dim: 2 | type: <class 'int'>\n"
     ]
    }
   ],
   "source": [
    "# ndim is an attribute holding the number of array dimensions\n",
    "print('dim:', a.ndim, '| type:', type(a.ndim))"
   ]
  },
  {
   "cell_type": "markdown",
   "id": "78719fb6-edfd-4d7a-bda7-2974628e604f",
   "metadata": {},
   "source": [
    "Attributes can have many different data types.\n",
    "\n",
    "Some examples of methods.\n"
   ]
  },
  {
   "cell_type": "code",
   "execution_count": 31,
   "id": "f6bfdd4a-a025-462d-ab26-ba0e727c9e9c",
   "metadata": {
    "tags": []
   },
   "outputs": [
    {
     "name": "stdout",
     "output_type": "stream",
     "text": [
      "[[1 1 2]\n",
      " [3 5 8]]\n"
     ]
    },
    {
     "data": {
      "text/plain": [
       "array([1, 1, 2])"
      ]
     },
     "execution_count": 31,
     "metadata": {},
     "output_type": "execute_result"
    }
   ],
   "source": [
    "# The min method returns the minimum value in the array along a specified axis\n",
    "print(a)\n",
    "a.min(axis=0)"
   ]
  },
  {
   "cell_type": "code",
   "execution_count": 32,
   "id": "fb07553d-c584-400c-b249-5145473632a4",
   "metadata": {
    "tags": []
   },
   "outputs": [
    {
     "data": {
      "text/plain": [
       "1"
      ]
     },
     "execution_count": 32,
     "metadata": {},
     "output_type": "execute_result"
    }
   ],
   "source": [
    "# Run min method with axis \n",
    "a.min()"
   ]
  },
  {
   "cell_type": "markdown",
   "id": "6c96eb65-759b-4d67-900b-207207468f49",
   "metadata": {},
   "source": [
    "Remember, methods are **functions** associated with an object. We can confirm this!"
   ]
  },
  {
   "cell_type": "code",
   "execution_count": 33,
   "id": "54fec3c4-d03a-401e-953f-50f4d5ae0c5e",
   "metadata": {
    "tags": []
   },
   "outputs": [
    {
     "data": {
      "text/plain": [
       "[[1, 1, 2], [3, 5, 8]]"
      ]
     },
     "execution_count": 33,
     "metadata": {},
     "output_type": "execute_result"
    }
   ],
   "source": [
    "# method tolist() transform array into a list\n",
    "a.tolist()"
   ]
  },
  {
   "cell_type": "code",
   "execution_count": 34,
   "id": "dd268b3e-6a1a-4416-aee4-01f8b1257b09",
   "metadata": {
    "tags": []
   },
   "outputs": [
    {
     "data": {
      "text/plain": [
       "builtin_function_or_method"
      ]
     },
     "execution_count": 34,
     "metadata": {},
     "output_type": "execute_result"
    }
   ],
   "source": [
    "type(a.tolist)"
   ]
  },
  {
   "cell_type": "code",
   "execution_count": 36,
   "id": "e8265f72-72fa-448e-909b-3771834e3bf0",
   "metadata": {
    "tags": []
   },
   "outputs": [
    {
     "name": "stdout",
     "output_type": "stream",
     "text": [
      "Type help() for interactive help, or help(object) for help about object.\n"
     ]
    }
   ],
   "source": [
    "print(help)"
   ]
  },
  {
   "cell_type": "code",
   "execution_count": 37,
   "id": "b3aa3df5-73c2-45bc-a474-704d312ad4c8",
   "metadata": {
    "tags": []
   },
   "outputs": [
    {
     "data": {
      "text/plain": [
       "\u001b[0;31mSignature:\u001b[0m   \u001b[0mhelp\u001b[0m\u001b[0;34m(\u001b[0m\u001b[0;34m*\u001b[0m\u001b[0margs\u001b[0m\u001b[0;34m,\u001b[0m \u001b[0;34m**\u001b[0m\u001b[0mkwds\u001b[0m\u001b[0;34m)\u001b[0m\u001b[0;34m\u001b[0m\u001b[0;34m\u001b[0m\u001b[0m\n",
       "\u001b[0;31mType:\u001b[0m        _Helper\n",
       "\u001b[0;31mString form:\u001b[0m Type help() for interactive help, or help(object) for help about object.\n",
       "\u001b[0;31mNamespace:\u001b[0m   Python builtin\n",
       "\u001b[0;31mFile:\u001b[0m        /opt/anaconda3/lib/python3.9/_sitebuiltins.py\n",
       "\u001b[0;31mDocstring:\u001b[0m  \n",
       "Define the builtin 'help'.\n",
       "\n",
       "This is a wrapper around pydoc.help that provides a helpful message\n",
       "when 'help' is typed at the Python interactive prompt.\n",
       "\n",
       "Calling help() at the Python prompt starts an interactive help session.\n",
       "Calling help(thing) prints help for the python object 'thing'.\n"
      ]
     },
     "metadata": {},
     "output_type": "display_data"
    }
   ],
   "source": [
    "?help\n"
   ]
  },
  {
   "cell_type": "code",
   "execution_count": 55,
   "id": "f0030660-4d35-49db-b60c-cab57bc334ae",
   "metadata": {
    "tags": []
   },
   "outputs": [],
   "source": [
    "# read the print function help. What is the type of the arguement sep? is this optional?"
   ]
  },
  {
   "cell_type": "code",
   "execution_count": 57,
   "id": "40881951-e3a8-4f2e-a45d-172f80842b27",
   "metadata": {
    "tags": []
   },
   "outputs": [
    {
     "data": {
      "text/plain": [
       "\u001b[0;31mDocstring:\u001b[0m\n",
       "print(value, ..., sep=' ', end='\\n', file=sys.stdout, flush=False)\n",
       "\n",
       "Prints the values to a stream, or to sys.stdout by default.\n",
       "Optional keyword arguments:\n",
       "file:  a file-like object (stream); defaults to the current sys.stdout.\n",
       "sep:   string inserted between values, default a space.\n",
       "end:   string appended after the last value, default a newline.\n",
       "flush: whether to forcibly flush the stream.\n",
       "\u001b[0;31mType:\u001b[0m      builtin_function_or_method\n"
      ]
     },
     "metadata": {},
     "output_type": "display_data"
    }
   ],
   "source": [
    "?print"
   ]
  },
  {
   "cell_type": "code",
   "execution_count": 50,
   "id": "e3008c10-278b-46ce-be9a-e1a3ed064a89",
   "metadata": {
    "tags": []
   },
   "outputs": [],
   "source": [
    "value77 = 77\n",
    "#the little aprostrophes so it knows its not an integer\n",
    "stringvalue = '99'"
   ]
  },
  {
   "cell_type": "code",
   "execution_count": 51,
   "id": "2e9c2dd1-a40c-4092-81f7-8322adab9bb3",
   "metadata": {
    "tags": []
   },
   "outputs": [
    {
     "name": "stdout",
     "output_type": "stream",
     "text": [
      "77%99%77\n"
     ]
    }
   ],
   "source": [
    "print(value77, stringvalue, value77, sep= '%')"
   ]
  }
 ],
 "metadata": {
  "kernelspec": {
   "display_name": "Anaconda 3 (Base)",
   "language": "python",
   "name": "base"
  },
  "language_info": {
   "codemirror_mode": {
    "name": "ipython",
    "version": 3
   },
   "file_extension": ".py",
   "mimetype": "text/x-python",
   "name": "python",
   "nbconvert_exporter": "python",
   "pygments_lexer": "ipython3",
   "version": "3.9.13"
  }
 },
 "nbformat": 4,
 "nbformat_minor": 5
}
