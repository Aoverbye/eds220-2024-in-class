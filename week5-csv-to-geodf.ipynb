{
 "cells": [
  {
   "cell_type": "markdown",
   "id": "ee825be3-2187-4135-b1b0-4bfef52660bf",
   "metadata": {},
   "source": [
    "## CSV to `GeoDataFrame`"
   ]
  },
  {
   "cell_type": "code",
   "execution_count": 77,
   "id": "f7479d2b-b891-477c-a381-54e81353aa35",
   "metadata": {
    "tags": []
   },
   "outputs": [],
   "source": [
    "# Import libraries\n",
    "import os\n",
    "import pandas as pd\n",
    "from pandas.api.types import is_string_dtype, is_numeric_dtype\n",
    "import geopandas as gpd\n",
    "import matplotlib.pyplot as plt"
   ]
  },
  {
   "cell_type": "code",
   "execution_count": 78,
   "id": "c4c65f79-183a-41b4-b15b-e1ede6ad0639",
   "metadata": {
    "tags": []
   },
   "outputs": [
    {
     "data": {
      "text/html": [
       "<div>\n",
       "<style scoped>\n",
       "    .dataframe tbody tr th:only-of-type {\n",
       "        vertical-align: middle;\n",
       "    }\n",
       "\n",
       "    .dataframe tbody tr th {\n",
       "        vertical-align: top;\n",
       "    }\n",
       "\n",
       "    .dataframe thead th {\n",
       "        text-align: right;\n",
       "    }\n",
       "</style>\n",
       "<table border=\"1\" class=\"dataframe\">\n",
       "  <thead>\n",
       "    <tr style=\"text-align: right;\">\n",
       "      <th></th>\n",
       "      <th>objectid</th>\n",
       "      <th>plant_code</th>\n",
       "      <th>plant_name</th>\n",
       "      <th>utility_id</th>\n",
       "      <th>utility_name</th>\n",
       "      <th>sector_name</th>\n",
       "      <th>street_address</th>\n",
       "      <th>city</th>\n",
       "      <th>county</th>\n",
       "      <th>state</th>\n",
       "      <th>zip</th>\n",
       "      <th>primsource</th>\n",
       "      <th>source_desc</th>\n",
       "      <th>tech_desc</th>\n",
       "      <th>install_mw</th>\n",
       "      <th>total_mw</th>\n",
       "      <th>bat_mw</th>\n",
       "      <th>bio_mw</th>\n",
       "      <th>coal_mw</th>\n",
       "      <th>geo_mw</th>\n",
       "      <th>hydro_mw</th>\n",
       "      <th>hydrops_mw</th>\n",
       "      <th>ng_mw</th>\n",
       "      <th>nuclear_mw</th>\n",
       "      <th>crude_mw</th>\n",
       "      <th>solar_mw</th>\n",
       "      <th>wind_mw</th>\n",
       "      <th>other_mw</th>\n",
       "      <th>source</th>\n",
       "      <th>period</th>\n",
       "      <th>longitude</th>\n",
       "      <th>latitude</th>\n",
       "    </tr>\n",
       "  </thead>\n",
       "  <tbody>\n",
       "    <tr>\n",
       "      <th>0</th>\n",
       "      <td>11570</td>\n",
       "      <td>1</td>\n",
       "      <td>Sand Point</td>\n",
       "      <td>63560</td>\n",
       "      <td>TDX Sand Point Generating, LLC</td>\n",
       "      <td>Electric Utility</td>\n",
       "      <td>100 Power Plant Way</td>\n",
       "      <td>Sand Point</td>\n",
       "      <td>Aleutians East</td>\n",
       "      <td>Alaska</td>\n",
       "      <td>99661.0</td>\n",
       "      <td>petroleum</td>\n",
       "      <td>Petroleum = 1.3 MW, Wind = 0.4 MW</td>\n",
       "      <td>Petroleum Liquids; Onshore Wind Turbine;</td>\n",
       "      <td>3.7</td>\n",
       "      <td>1.7</td>\n",
       "      <td>NaN</td>\n",
       "      <td>NaN</td>\n",
       "      <td>NaN</td>\n",
       "      <td>NaN</td>\n",
       "      <td>NaN</td>\n",
       "      <td>NaN</td>\n",
       "      <td>NaN</td>\n",
       "      <td>NaN</td>\n",
       "      <td>1.3</td>\n",
       "      <td>NaN</td>\n",
       "      <td>0.4</td>\n",
       "      <td>NaN</td>\n",
       "      <td>EIA-860, EIA-860M and EIA-923</td>\n",
       "      <td>202305.0</td>\n",
       "      <td>-160.497222</td>\n",
       "      <td>55.339722</td>\n",
       "    </tr>\n",
       "    <tr>\n",
       "      <th>1</th>\n",
       "      <td>11571</td>\n",
       "      <td>2</td>\n",
       "      <td>Bankhead Dam</td>\n",
       "      <td>195</td>\n",
       "      <td>Alabama Power Co</td>\n",
       "      <td>Electric Utility</td>\n",
       "      <td>19001 Lock 17 Road</td>\n",
       "      <td>Northport</td>\n",
       "      <td>Tuscaloosa</td>\n",
       "      <td>Alabama</td>\n",
       "      <td>35476.0</td>\n",
       "      <td>hydroelectric</td>\n",
       "      <td>Hydroelectric = 53 MW</td>\n",
       "      <td>Conventional Hydroelectric</td>\n",
       "      <td>53.9</td>\n",
       "      <td>53.0</td>\n",
       "      <td>NaN</td>\n",
       "      <td>NaN</td>\n",
       "      <td>NaN</td>\n",
       "      <td>NaN</td>\n",
       "      <td>53.0</td>\n",
       "      <td>NaN</td>\n",
       "      <td>NaN</td>\n",
       "      <td>NaN</td>\n",
       "      <td>NaN</td>\n",
       "      <td>NaN</td>\n",
       "      <td>NaN</td>\n",
       "      <td>NaN</td>\n",
       "      <td>EIA-860, EIA-860M and EIA-923</td>\n",
       "      <td>202305.0</td>\n",
       "      <td>-87.356823</td>\n",
       "      <td>33.458665</td>\n",
       "    </tr>\n",
       "    <tr>\n",
       "      <th>2</th>\n",
       "      <td>11572</td>\n",
       "      <td>3</td>\n",
       "      <td>Barry</td>\n",
       "      <td>195</td>\n",
       "      <td>Alabama Power Co</td>\n",
       "      <td>Electric Utility</td>\n",
       "      <td>North Highway 43</td>\n",
       "      <td>Bucks</td>\n",
       "      <td>Mobile</td>\n",
       "      <td>Alabama</td>\n",
       "      <td>36512.0</td>\n",
       "      <td>natural gas</td>\n",
       "      <td>Coal = 1118.5 MW, Natural Gas = 1296.2 MW</td>\n",
       "      <td>Conventional Steam Coal; Natural Gas Fired Com...</td>\n",
       "      <td>2569.5</td>\n",
       "      <td>2414.7</td>\n",
       "      <td>NaN</td>\n",
       "      <td>NaN</td>\n",
       "      <td>1118.5</td>\n",
       "      <td>NaN</td>\n",
       "      <td>NaN</td>\n",
       "      <td>NaN</td>\n",
       "      <td>1296.2</td>\n",
       "      <td>NaN</td>\n",
       "      <td>NaN</td>\n",
       "      <td>NaN</td>\n",
       "      <td>NaN</td>\n",
       "      <td>NaN</td>\n",
       "      <td>EIA-860, EIA-860M and EIA-923</td>\n",
       "      <td>202305.0</td>\n",
       "      <td>-88.010300</td>\n",
       "      <td>31.006900</td>\n",
       "    </tr>\n",
       "  </tbody>\n",
       "</table>\n",
       "</div>"
      ],
      "text/plain": [
       "  objectid plant_code    plant_name utility_id  \\\n",
       "0    11570          1    Sand Point      63560   \n",
       "1    11571          2  Bankhead Dam        195   \n",
       "2    11572          3         Barry        195   \n",
       "\n",
       "                     utility_name       sector_name       street_address  \\\n",
       "0  TDX Sand Point Generating, LLC  Electric Utility  100 Power Plant Way   \n",
       "1                Alabama Power Co  Electric Utility   19001 Lock 17 Road   \n",
       "2                Alabama Power Co  Electric Utility     North Highway 43   \n",
       "\n",
       "         city          county    state      zip     primsource  \\\n",
       "0  Sand Point  Aleutians East   Alaska  99661.0      petroleum   \n",
       "1   Northport      Tuscaloosa  Alabama  35476.0  hydroelectric   \n",
       "2       Bucks          Mobile  Alabama  36512.0    natural gas   \n",
       "\n",
       "                                 source_desc  \\\n",
       "0          Petroleum = 1.3 MW, Wind = 0.4 MW   \n",
       "1                      Hydroelectric = 53 MW   \n",
       "2  Coal = 1118.5 MW, Natural Gas = 1296.2 MW   \n",
       "\n",
       "                                           tech_desc  install_mw  total_mw  \\\n",
       "0           Petroleum Liquids; Onshore Wind Turbine;         3.7       1.7   \n",
       "1                         Conventional Hydroelectric        53.9      53.0   \n",
       "2  Conventional Steam Coal; Natural Gas Fired Com...      2569.5    2414.7   \n",
       "\n",
       "   bat_mw  bio_mw  coal_mw  geo_mw  hydro_mw  hydrops_mw   ng_mw nuclear_mw  \\\n",
       "0     NaN     NaN      NaN     NaN       NaN         NaN     NaN        NaN   \n",
       "1     NaN     NaN      NaN     NaN      53.0         NaN     NaN        NaN   \n",
       "2     NaN     NaN   1118.5     NaN       NaN         NaN  1296.2        NaN   \n",
       "\n",
       "   crude_mw  solar_mw  wind_mw  other_mw                         source  \\\n",
       "0       1.3       NaN      0.4       NaN  EIA-860, EIA-860M and EIA-923   \n",
       "1       NaN       NaN      NaN       NaN  EIA-860, EIA-860M and EIA-923   \n",
       "2       NaN       NaN      NaN       NaN  EIA-860, EIA-860M and EIA-923   \n",
       "\n",
       "     period   longitude   latitude  \n",
       "0  202305.0 -160.497222  55.339722  \n",
       "1  202305.0  -87.356823  33.458665  \n",
       "2  202305.0  -88.010300  31.006900  "
      ]
     },
     "execution_count": 78,
     "metadata": {},
     "output_type": "execute_result"
    }
   ],
   "source": [
    "# Diplau all columns \n",
    "pd.set_option('display.max.columns', None)\n",
    "\n",
    "# Import power plants data\n",
    "URL = 'https://raw.githubusercontent.com/carmengg/eds-220-book/refs/heads/main/data/power_plants_epsg4269.csv'\n",
    "power_plants = pd.read_csv(URL)\n",
    "\n",
    "power_plants = power_plants.drop(columns='Unnamed: 0')\n",
    "power_plants.head(3)"
   ]
  },
  {
   "cell_type": "markdown",
   "id": "8f9efdaf-f5fe-415a-a054-b16a89db91a0",
   "metadata": {},
   "source": [
    "Lets use the long and lat columns in the csv to create a geodataframe.\n",
    "These indivate the location of the power plants in the NAD83 CRS (EPSG:4269).\n",
    "We can use the `geopandas` function `points_from_xy()`"
   ]
  },
  {
   "cell_type": "code",
   "execution_count": 79,
   "id": "fccd504a-27e5-48d1-8d29-65ca710e8216",
   "metadata": {
    "tags": []
   },
   "outputs": [
    {
     "data": {
      "text/plain": [
       "<GeometryArray>\n",
       "[ <POINT (-160.497 55.34)>,  <POINT (-87.357 33.459)>,\n",
       "   <POINT (-88.01 31.007)>,  <POINT (-86.283 32.584)>,\n",
       " <POINT (-106.375 31.757)>,  <POINT (-87.781 32.602)>,\n",
       "  <POINT (-86.052 33.784)>,   <POINT (-87.45 33.255)>,\n",
       "  <POINT (-86.255 32.619)>,  <POINT (-86.338 33.426)>,\n",
       " ...\n",
       "  <POINT (-80.124 35.396)>,   <POINT (-77.898 35.36)>,\n",
       "  <POINT (-78.077 35.299)>,  <POINT (-78.077 35.299)>,\n",
       "  <POINT (-80.652 35.556)>,   <POINT (-82.376 35.38)>,\n",
       "  <POINT (-79.368 36.009)>,  <POINT (-79.736 35.273)>,\n",
       "   <POINT (-73.91 42.877)>,  <POINT (-77.276 41.838)>]\n",
       "Length: 12009, dtype: geometry"
      ]
     },
     "execution_count": 79,
     "metadata": {},
     "output_type": "execute_result"
    }
   ],
   "source": [
    "# Create points from lat and long\n",
    "points = gpd.points_from_xy(power_plants.longitude,\n",
    "                            power_plants.latitude)\n",
    "points"
   ]
  },
  {
   "cell_type": "code",
   "execution_count": 5,
   "id": "016786fa-13d0-46cb-ac84-bb6ed4fb297a",
   "metadata": {
    "tags": []
   },
   "outputs": [],
   "source": [
    "# Create geodataframe\n",
    "power_plants = gpd.GeoDataFrame(power_plants, # Dataframe\n",
    "                                geometry=points, # Specify geometry column\n",
    "                                crs ='EPSG:4269') # Specify CR"
   ]
  },
  {
   "cell_type": "code",
   "execution_count": 6,
   "id": "340b333a-24e4-4cbd-a94a-ccbb1d619993",
   "metadata": {
    "tags": []
   },
   "outputs": [
    {
     "name": "stdout",
     "output_type": "stream",
     "text": [
      "CRS EPSG:4269\n",
      "is CRS geographic:  True\n"
     ]
    }
   ],
   "source": [
    "print ('CRS', power_plants.crs)\n",
    "print ('is CRS geographic: ', power_plants.crs.is_geographic)"
   ]
  },
  {
   "cell_type": "code",
   "execution_count": 7,
   "id": "8139fc6c-a20e-4f62-9b1b-840b60ec368e",
   "metadata": {
    "tags": []
   },
   "outputs": [
    {
     "data": {
      "text/plain": [
       "<Axes: >"
      ]
     },
     "execution_count": 7,
     "metadata": {},
     "output_type": "execute_result"
    },
    {
     "data": {
      "image/png": "[encoded data removed]",
      "text/plain": [
       "<Figure size 640x480 with 1 Axes>"
      ]
     },
     "metadata": {},
     "output_type": "display_data"
    }
   ],
   "source": [
    "power_plants.plot()  "
   ]
  },
  {
   "cell_type": "markdown",
   "id": "7636eb36-face-4d80-8209-acbd30b33c1a",
   "metadata": {},
   "source": [
    "## F-string\n",
    "\n",
    "so far, we have printed variables using string concatenation inside the print() funtcion: we use commas to separate every variabl and string that we want to print example:"
   ]
  },
  {
   "cell_type": "code",
   "execution_count": 8,
   "id": "4c8ebf57-2836-4902-9b20-1ab339edbd36",
   "metadata": {
    "tags": []
   },
   "outputs": [
    {
     "name": "stdout",
     "output_type": "stream",
     "text": [
      "CRS:  EPSG:4269\n"
     ]
    }
   ],
   "source": [
    "print('CRS: ', power_plants.crs)"
   ]
  },
  {
   "cell_type": "markdown",
   "id": "0dc85d01-88d4-4f9f-9f20-addffa7fd127",
   "metadata": {},
   "source": [
    "Another popular way to mix variables and strings in a print statement is by creating an **f-string**, stands for \"formatted string\".\n",
    "The simplest syntax:\n",
    "\n",
    "```python\n",
    "f\"sometext {replace}\"\n",
    "```\n",
    " Where `replace` can be a variable, na expression, a function, or method call.\n",
    " \n",
    " Example:"
   ]
  },
  {
   "cell_type": "code",
   "execution_count": 9,
   "id": "5737f777-1e09-4f3c-a2af-cd2a167fe075",
   "metadata": {
    "tags": []
   },
   "outputs": [
    {
     "data": {
      "text/plain": [
       "'ellipsoid: GRS 1980'"
      ]
     },
     "execution_count": 9,
     "metadata": {},
     "output_type": "execute_result"
    }
   ],
   "source": [
    "# Check what is the ellipsoid:\n",
    "f\"ellipsoid: {power_plants.crs.ellipsoid}\""
   ]
  },
  {
   "cell_type": "markdown",
   "id": "0f158b2b-b653-4f71-8e09-1b24368b2874",
   "metadata": {},
   "source": [
    "# Use f-string inside the print function\n",
    "print(f\"datum: {power_plants.crs.datum}\"\n",
    "\n",
    "fstring can live on its own or be in print function"
   ]
  },
  {
   "cell_type": "code",
   "execution_count": 10,
   "id": "ac49bcec-a74c-47e1-94c1-4bf3f3f81b0b",
   "metadata": {
    "tags": []
   },
   "outputs": [
    {
     "name": "stdout",
     "output_type": "stream",
     "text": [
      "datum: North American Datum 1983\n"
     ]
    }
   ],
   "source": [
    "print(f\"datum: {power_plants.crs.datum}\")"
   ]
  },
  {
   "cell_type": "code",
   "execution_count": 11,
   "id": "57f17d91-0a17-41ba-8932-c75ae232c16e",
   "metadata": {
    "tags": []
   },
   "outputs": [
    {
     "name": "stdout",
     "output_type": "stream",
     "text": [
      "Is the CRS geographic?:   True\n",
      "Is this projected?:       False\n"
     ]
    }
   ],
   "source": [
    "# Set the label width to 25 characters, aligning the answers\n",
    "print(f\"{'Is the CRS geographic?:' :<25} {power_plants.crs.is_geographic}\")\n",
    "print(f\"{'Is this projected?:' :<25} {power_plants.crs.is_projected}\")"
   ]
  },
  {
   "cell_type": "markdown",
   "id": "bad928a0-b1d2-4043-97e7-6569161976ef",
   "metadata": {},
   "source": [
    "## Import shapefile "
   ]
  },
  {
   "cell_type": "code",
   "execution_count": 12,
   "id": "eb63e6ee-71ef-4a71-8400-4ea090dcf826",
   "metadata": {
    "tags": []
   },
   "outputs": [
    {
     "data": {
      "text/plain": [
       "'/Users/overbye/MEDS/EDS-220/eds220-2024-in-class'"
      ]
     },
     "execution_count": 12,
     "metadata": {},
     "output_type": "execute_result"
    }
   ],
   "source": [
    "# Os lets us see our working directory directly from our notebook\n",
    "os.getcwd()"
   ]
  },
  {
   "cell_type": "code",
   "execution_count": 80,
   "id": "906b3bcd-8207-4c30-a4af-5012901c145a",
   "metadata": {
    "tags": []
   },
   "outputs": [
    {
     "data": {
      "text/html": [
       "<div>\n",
       "<style scoped>\n",
       "    .dataframe tbody tr th:only-of-type {\n",
       "        vertical-align: middle;\n",
       "    }\n",
       "\n",
       "    .dataframe tbody tr th {\n",
       "        vertical-align: top;\n",
       "    }\n",
       "\n",
       "    .dataframe thead th {\n",
       "        text-align: right;\n",
       "    }\n",
       "</style>\n",
       "<table border=\"1\" class=\"dataframe\">\n",
       "  <thead>\n",
       "    <tr style=\"text-align: right;\">\n",
       "      <th></th>\n",
       "      <th>region</th>\n",
       "      <th>division</th>\n",
       "      <th>statefp</th>\n",
       "      <th>statens</th>\n",
       "      <th>geoid</th>\n",
       "      <th>stusps</th>\n",
       "      <th>name</th>\n",
       "      <th>lsad</th>\n",
       "      <th>mtfcc</th>\n",
       "      <th>funcstat</th>\n",
       "      <th>aland</th>\n",
       "      <th>awater</th>\n",
       "      <th>intptlat</th>\n",
       "      <th>intptlon</th>\n",
       "      <th>geometry</th>\n",
       "    </tr>\n",
       "  </thead>\n",
       "  <tbody>\n",
       "    <tr>\n",
       "      <th>0</th>\n",
       "      <td>3</td>\n",
       "      <td>5</td>\n",
       "      <td>54</td>\n",
       "      <td>01779805</td>\n",
       "      <td>54</td>\n",
       "      <td>WV</td>\n",
       "      <td>West Virginia</td>\n",
       "      <td>00</td>\n",
       "      <td>G4000</td>\n",
       "      <td>A</td>\n",
       "      <td>62266456923</td>\n",
       "      <td>489045863</td>\n",
       "      <td>+38.6472854</td>\n",
       "      <td>-080.6183274</td>\n",
       "      <td>POLYGON ((-77.75438 39.33346, -77.75422 39.333...</td>\n",
       "    </tr>\n",
       "    <tr>\n",
       "      <th>1</th>\n",
       "      <td>3</td>\n",
       "      <td>5</td>\n",
       "      <td>12</td>\n",
       "      <td>00294478</td>\n",
       "      <td>12</td>\n",
       "      <td>FL</td>\n",
       "      <td>Florida</td>\n",
       "      <td>00</td>\n",
       "      <td>G4000</td>\n",
       "      <td>A</td>\n",
       "      <td>138962819934</td>\n",
       "      <td>45971472526</td>\n",
       "      <td>+28.3989775</td>\n",
       "      <td>-082.5143005</td>\n",
       "      <td>MULTIPOLYGON (((-83.10874 24.62949, -83.10711 ...</td>\n",
       "    </tr>\n",
       "    <tr>\n",
       "      <th>2</th>\n",
       "      <td>2</td>\n",
       "      <td>3</td>\n",
       "      <td>17</td>\n",
       "      <td>01779784</td>\n",
       "      <td>17</td>\n",
       "      <td>IL</td>\n",
       "      <td>Illinois</td>\n",
       "      <td>00</td>\n",
       "      <td>G4000</td>\n",
       "      <td>A</td>\n",
       "      <td>143778515726</td>\n",
       "      <td>6216539665</td>\n",
       "      <td>+40.1028754</td>\n",
       "      <td>-089.1526108</td>\n",
       "      <td>POLYGON ((-87.89243 38.28285, -87.89334 38.282...</td>\n",
       "    </tr>\n",
       "  </tbody>\n",
       "</table>\n",
       "</div>"
      ],
      "text/plain": [
       "  region division statefp   statens geoid stusps           name lsad  mtfcc  \\\n",
       "0      3        5      54  01779805    54     WV  West Virginia   00  G4000   \n",
       "1      3        5      12  00294478    12     FL        Florida   00  G4000   \n",
       "2      2        3      17  01779784    17     IL       Illinois   00  G4000   \n",
       "\n",
       "  funcstat         aland       awater     intptlat      intptlon  \\\n",
       "0        A   62266456923    489045863  +38.6472854  -080.6183274   \n",
       "1        A  138962819934  45971472526  +28.3989775  -082.5143005   \n",
       "2        A  143778515726   6216539665  +40.1028754  -089.1526108   \n",
       "\n",
       "                                            geometry  \n",
       "0  POLYGON ((-77.75438 39.33346, -77.75422 39.333...  \n",
       "1  MULTIPOLYGON (((-83.10874 24.62949, -83.10711 ...  \n",
       "2  POLYGON ((-87.89243 38.28285, -87.89334 38.282...  "
      ]
     },
     "execution_count": 80,
     "metadata": {},
     "output_type": "execute_result"
    }
   ],
   "source": [
    "# Create an absolute file path \n",
    "# / indicates where we will start\n",
    "fp = os.path.join('/',\n",
    "                  'courses', \n",
    "                  'EDS220',\n",
    "                  'data',\n",
    "                 'tl_2022_us_state',\n",
    "                 'tl_2022_us_state.shp')\n",
    "fp\n",
    "states = gpd.read_file(fp)\n",
    "\n",
    "# simplify column names\n",
    "states.columns = states.columns.str.lower()\n",
    "\n",
    "states.head(3)"
   ]
  },
  {
   "cell_type": "code",
   "execution_count": 14,
   "id": "25e2ad27-1acb-4025-b0fd-40d99c3d5992",
   "metadata": {
    "tags": []
   },
   "outputs": [
    {
     "name": "stdout",
     "output_type": "stream",
     "text": [
      "EPSG:4269\n"
     ]
    },
    {
     "data": {
      "text/plain": [
       "<Axes: >"
      ]
     },
     "execution_count": 14,
     "metadata": {},
     "output_type": "execute_result"
    },
    {
     "data": {
      "image/png": "[encoded data removed]",
      "text/plain": [
       "<Figure size 640x480 with 1 Axes>"
      ]
     },
     "metadata": {},
     "output_type": "display_data"
    }
   ],
   "source": [
    "# IT IS SUPER IMPORTAANT TO LOOK IN CRS\n",
    "print(states.crs)\n",
    "states.plot()"
   ]
  },
  {
   "cell_type": "markdown",
   "id": "5f43f473-6d6c-4736-8897-e8e2e7a78bd3",
   "metadata": {},
   "source": [
    "`for` loops\n",
    "\n",
    "They are bread and butter, super inmportant to be able to use.\n",
    "It can be easier to work with th ecodes as numbers instead of strings, lets update the corresponding colunns in the geo-dataframe:\n",
    "`region`, `division`, `satefp`\n",
    "\n",
    "First thing, check if these are columns with strings"
   ]
  },
  {
   "cell_type": "code",
   "execution_count": 15,
   "id": "a03e7ad4-8ea4-47be-8238-90373925d206",
   "metadata": {
    "tags": []
   },
   "outputs": [
    {
     "name": "stdout",
     "output_type": "stream",
     "text": [
      "region is string dtypes? True\n",
      "division is string dtypes? True\n",
      "statefp is string dtypes? True\n"
     ]
    }
   ],
   "source": [
    "print(f\"region is string dtypes? {is_string_dtype(states['region'])}\")\n",
    "print(f\"division is string dtypes? {is_string_dtype(states['division'])}\")\n",
    "print(f\"statefp is string dtypes? {is_string_dtype(states['statefp'])}\")"
   ]
  },
  {
   "cell_type": "code",
   "execution_count": 16,
   "id": "87bdf8fd-d3d4-41be-b1eb-9f1dea2cceb9",
   "metadata": {
    "tags": []
   },
   "outputs": [
    {
     "name": "stdout",
     "output_type": "stream",
     "text": [
      "region is string dtype? True\n",
      "division is string dtype? True\n",
      "statefp is string dtype? True\n"
     ]
    }
   ],
   "source": [
    "code_cols = ['region', 'division', 'statefp']\n",
    "\n",
    "# Check whether codes columns are strings\n",
    "for column in code_cols:\n",
    "    print(f\"{column} is string dtype? {is_string_dtype(states[column])}\")"
   ]
  },
  {
   "cell_type": "markdown",
   "id": "5c64e843-ba5c-4e79-ac06-64e7163edc2f",
   "metadata": {},
   "source": [
    "`for` loops execute a block of code a fixed number of times, iterating over a set of objects. In this case, we iterate over the list of column names.\n",
    "\n",
    "**DRY code***\n",
    "\n",
    "Dry = don't repeate yourself is a core program principle that encourages reducing redundancy and consolidating repeated logic\n",
    "If you need to repeat the \"Same\" code more than twice, you probably need a `for` loop.\n",
    "\n",
    "Next, update the data type of the code columns to be integers.\n",
    "This time, we check the data type of the column using the `is_numeric_dtype()` and `assert` statement:"
   ]
  },
  {
   "cell_type": "code",
   "execution_count": 81,
   "id": "274ea169-04e4-4f9a-8729-c921d69da6ba",
   "metadata": {
    "tags": []
   },
   "outputs": [],
   "source": [
    "# Update code columns into integers \n",
    "for column in code_cols:\n",
    "    states[column] = states[column].astype('int')\n",
    "    assert is_numeric_dtype(states[column]) # check conversion"
   ]
  },
  {
   "cell_type": "markdown",
   "id": "72d75592-1392-46e3-a9b1-fc151bcc9961",
   "metadata": {},
   "source": [
    "The `assert` keyword does nothing if the expression next to it evaluates to `True`.\n",
    "If the expression evaluates to `False` then `assert` raises and `AssertionError` and stops your code from running.\n"
   ]
  },
  {
   "cell_type": "code",
   "execution_count": 18,
   "id": "460b74dc-e7d2-4595-b161-ec91eef788f2",
   "metadata": {
    "tags": []
   },
   "outputs": [
    {
     "data": {
      "text/plain": [
       "True"
      ]
     },
     "execution_count": 18,
     "metadata": {},
     "output_type": "execute_result"
    }
   ],
   "source": [
    "2 + 2 == 4"
   ]
  },
  {
   "cell_type": "code",
   "execution_count": 19,
   "id": "fdbc1a9a-7a84-4f1d-ac4c-9d67403b173d",
   "metadata": {
    "tags": []
   },
   "outputs": [],
   "source": [
    "# Does nothing if statement is True \n",
    "assert 2 + 2 == 4"
   ]
  },
  {
   "cell_type": "code",
   "execution_count": 20,
   "id": "242a9af2-aeac-40cd-8f22-34aa67109c3f",
   "metadata": {
    "tags": []
   },
   "outputs": [
    {
     "ename": "AssertionError",
     "evalue": "",
     "output_type": "error",
     "traceback": [
      "\u001b[0;31m---------------------------------------------------------------------------\u001b[0m",
      "\u001b[0;31mAssertionError\u001b[0m                            Traceback (most recent call last)",
      "Cell \u001b[0;32mIn[20], line 2\u001b[0m\n\u001b[1;32m      1\u001b[0m \u001b[38;5;66;03m# Assert raises an error if the statement is false\u001b[39;00m\n\u001b[0;32m----> 2\u001b[0m \u001b[38;5;28;01massert\u001b[39;00m \u001b[38;5;241m2\u001b[39m \u001b[38;5;241m+\u001b[39m \u001b[38;5;241m2\u001b[39m \u001b[38;5;241m==\u001b[39m \u001b[38;5;241m3\u001b[39m\n",
      "\u001b[0;31mAssertionError\u001b[0m: "
     ]
    }
   ],
   "source": [
    "# Assert raises an error if the statement is false\n",
    "assert 2 + 2 == 3"
   ]
  },
  {
   "cell_type": "markdown",
   "id": "da36b8e4-5e87-4046-afa8-7847dcb60979",
   "metadata": {},
   "source": [
    "Assert is a way to check for erros in the code. This is how autograder works "
   ]
  },
  {
   "cell_type": "markdown",
   "id": "346de59d-1a0e-4f89-9640-38057ccd9bf1",
   "metadata": {},
   "source": [
    "## Data selection\n",
    "\n",
    "For this lesson, we want to use only the contigous states. The `states` geo-dataframe covers a bigger extension."
   ]
  },
  {
   "cell_type": "code",
   "execution_count": null,
   "id": "4266dd70-e5e6-4f8b-86a7-073d7340038d",
   "metadata": {
    "tags": []
   },
   "outputs": [],
   "source": [
    "states.plot()"
   ]
  },
  {
   "cell_type": "markdown",
   "id": "76a0fe9a-9df0-4271-8b5c-c9f6cd7820a1",
   "metadata": {},
   "source": [
    "## Check-in\n",
    "- What are the unique values for region, division, or state codes in the data?\n",
    "- Which codes should we select to keep only the states codes in the US?"
   ]
  },
  {
   "cell_type": "code",
   "execution_count": 82,
   "id": "88e0fd2b-eb32-4776-9e35-84928e94e7a2",
   "metadata": {
    "tags": []
   },
   "outputs": [
    {
     "data": {
      "text/plain": [
       "array([3, 2, 1, 4, 9])"
      ]
     },
     "execution_count": 82,
     "metadata": {},
     "output_type": "execute_result"
    }
   ],
   "source": [
    "# Check for unique values\n",
    "states['region'].unique()\n"
   ]
  },
  {
   "cell_type": "code",
   "execution_count": null,
   "id": "7d3ed52e-d503-4a16-8069-24fd8a3f1ee5",
   "metadata": {
    "tags": []
   },
   "outputs": [],
   "source": [
    "# This is how she did it in class\n",
    "states.region.unique()"
   ]
  },
  {
   "cell_type": "markdown",
   "id": "879d8cf2-2a38-48a7-87a6-2e619d9472ac",
   "metadata": {},
   "source": [
    "Hawaii and Alaska have codes 2, 15 and then region 9 should also be excluded. "
   ]
  },
  {
   "cell_type": "code",
   "execution_count": 83,
   "id": "4fab0e1a-f9bb-44e8-880a-d1de3b83ce44",
   "metadata": {
    "tags": []
   },
   "outputs": [
    {
     "data": {
      "text/plain": [
       "0     False\n",
       "1     False\n",
       "2     False\n",
       "3     False\n",
       "4     False\n",
       "5     False\n",
       "6     False\n",
       "7     False\n",
       "8     False\n",
       "9     False\n",
       "10    False\n",
       "11    False\n",
       "12    False\n",
       "13    False\n",
       "14    False\n",
       "15    False\n",
       "16    False\n",
       "17    False\n",
       "18    False\n",
       "19    False\n",
       "20    False\n",
       "21    False\n",
       "22    False\n",
       "23    False\n",
       "24    False\n",
       "25    False\n",
       "26    False\n",
       "27    False\n",
       "28    False\n",
       "29    False\n",
       "30    False\n",
       "31     True\n",
       "32    False\n",
       "33    False\n",
       "34    False\n",
       "35    False\n",
       "36    False\n",
       "37    False\n",
       "38    False\n",
       "39    False\n",
       "40     True\n",
       "41    False\n",
       "42    False\n",
       "43    False\n",
       "44    False\n",
       "45    False\n",
       "46    False\n",
       "47    False\n",
       "48    False\n",
       "49    False\n",
       "50    False\n",
       "51    False\n",
       "52    False\n",
       "53    False\n",
       "54    False\n",
       "55    False\n",
       "Name: statefp, dtype: bool"
      ]
     },
     "execution_count": 83,
     "metadata": {},
     "output_type": "execute_result"
    }
   ],
   "source": [
    "# Select continguous US states\n",
    "contiguous = states [(states.region!=9) & (states.statefp.isin([2,15]))]\n",
    "\n",
    "# Check if column values are in this list \n",
    "states.statefp.isin([2,15])"
   ]
  },
  {
   "cell_type": "code",
   "execution_count": null,
   "id": "0742a61e-11a7-43f4-aa87-dd33c960c29e",
   "metadata": {
    "tags": []
   },
   "outputs": [],
   "source": [
    "# Tilda negates whole expression\n",
    "~states.statefp.isin([2,15])"
   ]
  },
  {
   "cell_type": "code",
   "execution_count": 84,
   "id": "6c31aa42-46da-4804-8440-6053e470a6cd",
   "metadata": {
    "tags": []
   },
   "outputs": [
    {
     "data": {
      "text/plain": [
       "<Axes: >"
      ]
     },
     "execution_count": 84,
     "metadata": {},
     "output_type": "execute_result"
    },
    {
     "data": {
      "image/png": "[encoded data removed]",
      "text/plain": [
       "<Figure size 640x480 with 1 Axes>"
      ]
     },
     "metadata": {},
     "output_type": "display_data"
    }
   ],
   "source": [
    "# Add a tilda to the whole statement to negate \n",
    "contiguous = states [(states.region!=9) & (~states.statefp.isin([2,15]))]\n",
    "contiguous.plot()"
   ]
  },
  {
   "cell_type": "markdown",
   "id": "a8c2ce06-41e3-4062-b622-226dbad35228",
   "metadata": {},
   "source": [
    "The `~` tilde symbol is used in Python to negate a statement.\n",
    "\n",
    "Select the data in the `power_plants` data frame for the contiguous US states."
   ]
  },
  {
   "cell_type": "code",
   "execution_count": null,
   "id": "66f6530c-d3f9-40d1-bf39-9a16c917d4c5",
   "metadata": {
    "tags": []
   },
   "outputs": [],
   "source": [
    "# Select the data in the `power_plants` data frame for the contiguous US states.\n",
    "power_plants = power_plants[~power_plants.state.isin(['Puerto Rico', 'Hawaii', 'Alaska'])]"
   ]
  },
  {
   "cell_type": "markdown",
   "id": "8b0ce579-8c8b-455d-8a81-054a31cdda0a",
   "metadata": {},
   "source": [
    "# Plotting \n",
    "\n",
    "Before we plot our data we want to make sure they are in the same crs."
   ]
  },
  {
   "cell_type": "code",
   "execution_count": null,
   "id": "c8799ca7-9a67-475f-976e-663ab71e5d31",
   "metadata": {
    "tags": []
   },
   "outputs": [],
   "source": [
    "# Check if the crs match\n",
    "contiguous.crs == power_plants.crs"
   ]
  },
  {
   "cell_type": "code",
   "execution_count": 86,
   "id": "d2f66bbd-7903-462c-ab9a-a9181cb54991",
   "metadata": {
    "tags": []
   },
   "outputs": [
    {
     "ename": "AttributeError",
     "evalue": "Line2D.set() got an unexpected keyword argument 'legend_kwds'",
     "output_type": "error",
     "traceback": [
      "\u001b[0;31m---------------------------------------------------------------------------\u001b[0m",
      "\u001b[0;31mAttributeError\u001b[0m                            Traceback (most recent call last)",
      "Cell \u001b[0;32mIn[86], line 16\u001b[0m\n\u001b[1;32m     10\u001b[0m contiguous\u001b[38;5;241m.\u001b[39mplot(ax\u001b[38;5;241m=\u001b[39max,\n\u001b[1;32m     11\u001b[0m                 color\u001b[38;5;241m=\u001b[39m\u001b[38;5;124m'\u001b[39m\u001b[38;5;124mnone\u001b[39m\u001b[38;5;124m'\u001b[39m,\n\u001b[1;32m     12\u001b[0m                 edgecolor\u001b[38;5;241m=\u001b[39m\u001b[38;5;124m'\u001b[39m\u001b[38;5;124mblack\u001b[39m\u001b[38;5;124m'\u001b[39m)\n\u001b[1;32m     14\u001b[0m \u001b[38;5;66;03m# Add electric power plants colored by energy source\u001b[39;00m\n\u001b[0;32m---> 16\u001b[0m \u001b[43mpower_plants\u001b[49m\u001b[38;5;241;43m.\u001b[39;49m\u001b[43mplot\u001b[49m\u001b[43m(\u001b[49m\u001b[43max\u001b[49m\u001b[38;5;241;43m=\u001b[39;49m\u001b[43max\u001b[49m\u001b[43m,\u001b[49m\n\u001b[1;32m     17\u001b[0m \u001b[43m                  \u001b[49m\u001b[43mcolumn\u001b[49m\u001b[38;5;241;43m=\u001b[39;49m\u001b[38;5;124;43m'\u001b[39;49m\u001b[38;5;124;43mprimsource\u001b[39;49m\u001b[38;5;124;43m'\u001b[39;49m\u001b[43m,\u001b[49m\u001b[43m \u001b[49m\u001b[38;5;66;43;03m# Color by values in this column\u001b[39;49;00m\n\u001b[1;32m     18\u001b[0m \u001b[43m                  \u001b[49m\u001b[43mlegend\u001b[49m\u001b[38;5;241;43m=\u001b[39;49m\u001b[38;5;28;43;01mTrue\u001b[39;49;00m\u001b[43m,\u001b[49m\n\u001b[1;32m     19\u001b[0m \u001b[43m                  \u001b[49m\u001b[43mmarkersize\u001b[49m\u001b[38;5;241;43m=\u001b[39;49m\u001b[38;5;241;43m4\u001b[39;49m\u001b[43m,\u001b[49m\u001b[43m \u001b[49m\u001b[38;5;66;43;03m# Change the size of the dots\u001b[39;49;00m\n\u001b[1;32m     20\u001b[0m \u001b[43m                  \u001b[49m\u001b[43mcmap\u001b[49m\u001b[38;5;241;43m=\u001b[39;49m\u001b[38;5;124;43m'\u001b[39;49m\u001b[38;5;124;43mtab20\u001b[39;49m\u001b[38;5;124;43m'\u001b[39;49m\u001b[43m,\u001b[49m\u001b[43m \u001b[49m\u001b[38;5;66;43;03m# Change color scheme of dots\u001b[39;49;00m\n\u001b[1;32m     21\u001b[0m \u001b[43m                  \u001b[49m\u001b[43malpha\u001b[49m\u001b[38;5;241;43m=\u001b[39;49m\u001b[38;5;241;43m0.5\u001b[39;49m\u001b[43m,\u001b[49m\n\u001b[1;32m     22\u001b[0m \u001b[43m                  \u001b[49m\u001b[43mlegend_kwds\u001b[49m\u001b[38;5;241;43m=\u001b[39;49m\u001b[43m \u001b[49m\u001b[43m{\u001b[49m\n\u001b[1;32m     23\u001b[0m \u001b[43m                      \u001b[49m\u001b[38;5;124;43m'\u001b[39;49m\u001b[38;5;124;43mtitle\u001b[39;49m\u001b[38;5;124;43m'\u001b[39;49m\u001b[43m:\u001b[49m\u001b[38;5;124;43m'\u001b[39;49m\u001b[38;5;124;43mPrimary energy source\u001b[39;49m\u001b[38;5;124;43m'\u001b[39;49m\u001b[43m,\u001b[49m\n\u001b[1;32m     24\u001b[0m \u001b[43m                      \u001b[49m\u001b[38;5;124;43m'\u001b[39;49m\u001b[38;5;124;43mtitle_fontsize\u001b[39;49m\u001b[38;5;124;43m'\u001b[39;49m\u001b[43m:\u001b[49m\u001b[38;5;124;43m'\u001b[39;49m\u001b[38;5;124;43msmall\u001b[39;49m\u001b[38;5;124;43m'\u001b[39;49m\u001b[43m,\u001b[49m\n\u001b[1;32m     25\u001b[0m \u001b[43m                      \u001b[49m\u001b[38;5;124;43m'\u001b[39;49m\u001b[38;5;124;43mncol\u001b[39;49m\u001b[38;5;124;43m'\u001b[39;49m\u001b[43m:\u001b[49m\u001b[38;5;241;43m6\u001b[39;49m\u001b[43m,\u001b[49m\n\u001b[1;32m     26\u001b[0m \u001b[43m                      \u001b[49m\u001b[38;5;124;43m'\u001b[39;49m\u001b[38;5;124;43mloc\u001b[39;49m\u001b[38;5;124;43m'\u001b[39;49m\u001b[43m:\u001b[49m\u001b[38;5;124;43m'\u001b[39;49m\u001b[38;5;124;43mupper left\u001b[39;49m\u001b[38;5;124;43m'\u001b[39;49m\u001b[43m,\u001b[49m\n\u001b[1;32m     27\u001b[0m \u001b[43m                      \u001b[49m\u001b[38;5;124;43m'\u001b[39;49m\u001b[38;5;124;43mbbox_to_anchor\u001b[39;49m\u001b[38;5;124;43m'\u001b[39;49m\u001b[43m:\u001b[49m\u001b[43m(\u001b[49m\u001b[38;5;241;43m0\u001b[39;49m\u001b[43m,\u001b[49m\u001b[38;5;241;43m0\u001b[39;49m\u001b[43m)\u001b[49m\n\u001b[1;32m     28\u001b[0m \u001b[43m                  \u001b[49m\u001b[43m}\u001b[49m\n\u001b[1;32m     29\u001b[0m \u001b[43m                 \u001b[49m\u001b[43m)\u001b[49m\n\u001b[1;32m     31\u001b[0m plt\u001b[38;5;241m.\u001b[39mshow()\n",
      "File \u001b[0;32m/opt/anaconda3/envs/eds220-env/lib/python3.11/site-packages/pandas/plotting/_core.py:1030\u001b[0m, in \u001b[0;36mPlotAccessor.__call__\u001b[0;34m(self, *args, **kwargs)\u001b[0m\n\u001b[1;32m   1027\u001b[0m             label_name \u001b[38;5;241m=\u001b[39m label_kw \u001b[38;5;129;01mor\u001b[39;00m data\u001b[38;5;241m.\u001b[39mcolumns\n\u001b[1;32m   1028\u001b[0m             data\u001b[38;5;241m.\u001b[39mcolumns \u001b[38;5;241m=\u001b[39m label_name\n\u001b[0;32m-> 1030\u001b[0m \u001b[38;5;28;01mreturn\u001b[39;00m \u001b[43mplot_backend\u001b[49m\u001b[38;5;241;43m.\u001b[39;49m\u001b[43mplot\u001b[49m\u001b[43m(\u001b[49m\u001b[43mdata\u001b[49m\u001b[43m,\u001b[49m\u001b[43m \u001b[49m\u001b[43mkind\u001b[49m\u001b[38;5;241;43m=\u001b[39;49m\u001b[43mkind\u001b[49m\u001b[43m,\u001b[49m\u001b[43m \u001b[49m\u001b[38;5;241;43m*\u001b[39;49m\u001b[38;5;241;43m*\u001b[39;49m\u001b[43mkwargs\u001b[49m\u001b[43m)\u001b[49m\n",
      "File \u001b[0;32m/opt/anaconda3/envs/eds220-env/lib/python3.11/site-packages/pandas/plotting/_matplotlib/__init__.py:71\u001b[0m, in \u001b[0;36mplot\u001b[0;34m(data, kind, **kwargs)\u001b[0m\n\u001b[1;32m     69\u001b[0m         kwargs[\u001b[38;5;124m\"\u001b[39m\u001b[38;5;124max\u001b[39m\u001b[38;5;124m\"\u001b[39m] \u001b[38;5;241m=\u001b[39m \u001b[38;5;28mgetattr\u001b[39m(ax, \u001b[38;5;124m\"\u001b[39m\u001b[38;5;124mleft_ax\u001b[39m\u001b[38;5;124m\"\u001b[39m, ax)\n\u001b[1;32m     70\u001b[0m plot_obj \u001b[38;5;241m=\u001b[39m PLOT_CLASSES[kind](data, \u001b[38;5;241m*\u001b[39m\u001b[38;5;241m*\u001b[39mkwargs)\n\u001b[0;32m---> 71\u001b[0m \u001b[43mplot_obj\u001b[49m\u001b[38;5;241;43m.\u001b[39;49m\u001b[43mgenerate\u001b[49m\u001b[43m(\u001b[49m\u001b[43m)\u001b[49m\n\u001b[1;32m     72\u001b[0m plot_obj\u001b[38;5;241m.\u001b[39mdraw()\n\u001b[1;32m     73\u001b[0m \u001b[38;5;28;01mreturn\u001b[39;00m plot_obj\u001b[38;5;241m.\u001b[39mresult\n",
      "File \u001b[0;32m/opt/anaconda3/envs/eds220-env/lib/python3.11/site-packages/pandas/plotting/_matplotlib/core.py:501\u001b[0m, in \u001b[0;36mMPLPlot.generate\u001b[0;34m(self)\u001b[0m\n\u001b[1;32m    499\u001b[0m \u001b[38;5;28mself\u001b[39m\u001b[38;5;241m.\u001b[39m_compute_plot_data()\n\u001b[1;32m    500\u001b[0m fig \u001b[38;5;241m=\u001b[39m \u001b[38;5;28mself\u001b[39m\u001b[38;5;241m.\u001b[39mfig\n\u001b[0;32m--> 501\u001b[0m \u001b[38;5;28;43mself\u001b[39;49m\u001b[38;5;241;43m.\u001b[39;49m\u001b[43m_make_plot\u001b[49m\u001b[43m(\u001b[49m\u001b[43mfig\u001b[49m\u001b[43m)\u001b[49m\n\u001b[1;32m    502\u001b[0m \u001b[38;5;28mself\u001b[39m\u001b[38;5;241m.\u001b[39m_add_table()\n\u001b[1;32m    503\u001b[0m \u001b[38;5;28mself\u001b[39m\u001b[38;5;241m.\u001b[39m_make_legend()\n",
      "File \u001b[0;32m/opt/anaconda3/envs/eds220-env/lib/python3.11/site-packages/pandas/plotting/_matplotlib/core.py:1550\u001b[0m, in \u001b[0;36mLinePlot._make_plot\u001b[0;34m(self, fig)\u001b[0m\n\u001b[1;32m   1547\u001b[0m label \u001b[38;5;241m=\u001b[39m \u001b[38;5;28mself\u001b[39m\u001b[38;5;241m.\u001b[39m_mark_right_label(label, index\u001b[38;5;241m=\u001b[39mi)\n\u001b[1;32m   1548\u001b[0m kwds[\u001b[38;5;124m\"\u001b[39m\u001b[38;5;124mlabel\u001b[39m\u001b[38;5;124m\"\u001b[39m] \u001b[38;5;241m=\u001b[39m label\n\u001b[0;32m-> 1550\u001b[0m newlines \u001b[38;5;241m=\u001b[39m \u001b[43mplotf\u001b[49m\u001b[43m(\u001b[49m\n\u001b[1;32m   1551\u001b[0m \u001b[43m    \u001b[49m\u001b[43max\u001b[49m\u001b[43m,\u001b[49m\n\u001b[1;32m   1552\u001b[0m \u001b[43m    \u001b[49m\u001b[43mx\u001b[49m\u001b[43m,\u001b[49m\n\u001b[1;32m   1553\u001b[0m \u001b[43m    \u001b[49m\u001b[43my\u001b[49m\u001b[43m,\u001b[49m\n\u001b[1;32m   1554\u001b[0m \u001b[43m    \u001b[49m\u001b[43mstyle\u001b[49m\u001b[38;5;241;43m=\u001b[39;49m\u001b[43mstyle\u001b[49m\u001b[43m,\u001b[49m\n\u001b[1;32m   1555\u001b[0m \u001b[43m    \u001b[49m\u001b[43mcolumn_num\u001b[49m\u001b[38;5;241;43m=\u001b[39;49m\u001b[43mi\u001b[49m\u001b[43m,\u001b[49m\n\u001b[1;32m   1556\u001b[0m \u001b[43m    \u001b[49m\u001b[43mstacking_id\u001b[49m\u001b[38;5;241;43m=\u001b[39;49m\u001b[43mstacking_id\u001b[49m\u001b[43m,\u001b[49m\n\u001b[1;32m   1557\u001b[0m \u001b[43m    \u001b[49m\u001b[43mis_errorbar\u001b[49m\u001b[38;5;241;43m=\u001b[39;49m\u001b[43mis_errorbar\u001b[49m\u001b[43m,\u001b[49m\n\u001b[1;32m   1558\u001b[0m \u001b[43m    \u001b[49m\u001b[38;5;241;43m*\u001b[39;49m\u001b[38;5;241;43m*\u001b[39;49m\u001b[43mkwds\u001b[49m\u001b[43m,\u001b[49m\n\u001b[1;32m   1559\u001b[0m \u001b[43m\u001b[49m\u001b[43m)\u001b[49m\n\u001b[1;32m   1560\u001b[0m \u001b[38;5;28mself\u001b[39m\u001b[38;5;241m.\u001b[39m_append_legend_handles_labels(newlines[\u001b[38;5;241m0\u001b[39m], label)\n\u001b[1;32m   1562\u001b[0m \u001b[38;5;28;01mif\u001b[39;00m \u001b[38;5;28mself\u001b[39m\u001b[38;5;241m.\u001b[39m_is_ts_plot():\n\u001b[1;32m   1563\u001b[0m     \u001b[38;5;66;03m# reset of xlim should be used for ts data\u001b[39;00m\n\u001b[1;32m   1564\u001b[0m     \u001b[38;5;66;03m# TODO: GH28021, should find a way to change view limit on xaxis\u001b[39;00m\n",
      "File \u001b[0;32m/opt/anaconda3/envs/eds220-env/lib/python3.11/site-packages/pandas/plotting/_matplotlib/core.py:1586\u001b[0m, in \u001b[0;36mLinePlot._plot\u001b[0;34m(cls, ax, x, y, style, column_num, stacking_id, **kwds)\u001b[0m\n\u001b[1;32m   1584\u001b[0m     \u001b[38;5;28mcls\u001b[39m\u001b[38;5;241m.\u001b[39m_initialize_stacker(ax, stacking_id, \u001b[38;5;28mlen\u001b[39m(y))\n\u001b[1;32m   1585\u001b[0m y_values \u001b[38;5;241m=\u001b[39m \u001b[38;5;28mcls\u001b[39m\u001b[38;5;241m.\u001b[39m_get_stacked_values(ax, stacking_id, y, kwds[\u001b[38;5;124m\"\u001b[39m\u001b[38;5;124mlabel\u001b[39m\u001b[38;5;124m\"\u001b[39m])\n\u001b[0;32m-> 1586\u001b[0m lines \u001b[38;5;241m=\u001b[39m \u001b[43mMPLPlot\u001b[49m\u001b[38;5;241;43m.\u001b[39;49m\u001b[43m_plot\u001b[49m\u001b[43m(\u001b[49m\u001b[43max\u001b[49m\u001b[43m,\u001b[49m\u001b[43m \u001b[49m\u001b[43mx\u001b[49m\u001b[43m,\u001b[49m\u001b[43m \u001b[49m\u001b[43my_values\u001b[49m\u001b[43m,\u001b[49m\u001b[43m \u001b[49m\u001b[43mstyle\u001b[49m\u001b[38;5;241;43m=\u001b[39;49m\u001b[43mstyle\u001b[49m\u001b[43m,\u001b[49m\u001b[43m \u001b[49m\u001b[38;5;241;43m*\u001b[39;49m\u001b[38;5;241;43m*\u001b[39;49m\u001b[43mkwds\u001b[49m\u001b[43m)\u001b[49m\n\u001b[1;32m   1587\u001b[0m \u001b[38;5;28mcls\u001b[39m\u001b[38;5;241m.\u001b[39m_update_stacker(ax, stacking_id, y)\n\u001b[1;32m   1588\u001b[0m \u001b[38;5;28;01mreturn\u001b[39;00m lines\n",
      "File \u001b[0;32m/opt/anaconda3/envs/eds220-env/lib/python3.11/site-packages/pandas/plotting/_matplotlib/converter.py:95\u001b[0m, in \u001b[0;36mregister_pandas_matplotlib_converters.<locals>.wrapper\u001b[0;34m(*args, **kwargs)\u001b[0m\n\u001b[1;32m     92\u001b[0m \u001b[38;5;129m@functools\u001b[39m\u001b[38;5;241m.\u001b[39mwraps(func)\n\u001b[1;32m     93\u001b[0m \u001b[38;5;28;01mdef\u001b[39;00m \u001b[38;5;21mwrapper\u001b[39m(\u001b[38;5;241m*\u001b[39margs, \u001b[38;5;241m*\u001b[39m\u001b[38;5;241m*\u001b[39mkwargs):\n\u001b[1;32m     94\u001b[0m     \u001b[38;5;28;01mwith\u001b[39;00m pandas_converters():\n\u001b[0;32m---> 95\u001b[0m         \u001b[38;5;28;01mreturn\u001b[39;00m \u001b[43mfunc\u001b[49m\u001b[43m(\u001b[49m\u001b[38;5;241;43m*\u001b[39;49m\u001b[43margs\u001b[49m\u001b[43m,\u001b[49m\u001b[43m \u001b[49m\u001b[38;5;241;43m*\u001b[39;49m\u001b[38;5;241;43m*\u001b[39;49m\u001b[43mkwargs\u001b[49m\u001b[43m)\u001b[49m\n",
      "File \u001b[0;32m/opt/anaconda3/envs/eds220-env/lib/python3.11/site-packages/pandas/plotting/_matplotlib/core.py:981\u001b[0m, in \u001b[0;36mMPLPlot._plot\u001b[0;34m(cls, ax, x, y, style, is_errorbar, **kwds)\u001b[0m\n\u001b[1;32m    978\u001b[0m \u001b[38;5;28;01melse\u001b[39;00m:\n\u001b[1;32m    979\u001b[0m     \u001b[38;5;66;03m# prevent style kwarg from going to errorbar, where it is unsupported\u001b[39;00m\n\u001b[1;32m    980\u001b[0m     args \u001b[38;5;241m=\u001b[39m (x, y, style) \u001b[38;5;28;01mif\u001b[39;00m style \u001b[38;5;129;01mis\u001b[39;00m \u001b[38;5;129;01mnot\u001b[39;00m \u001b[38;5;28;01mNone\u001b[39;00m \u001b[38;5;28;01melse\u001b[39;00m (x, y)\n\u001b[0;32m--> 981\u001b[0m     \u001b[38;5;28;01mreturn\u001b[39;00m \u001b[43max\u001b[49m\u001b[38;5;241;43m.\u001b[39;49m\u001b[43mplot\u001b[49m\u001b[43m(\u001b[49m\u001b[38;5;241;43m*\u001b[39;49m\u001b[43margs\u001b[49m\u001b[43m,\u001b[49m\u001b[43m \u001b[49m\u001b[38;5;241;43m*\u001b[39;49m\u001b[38;5;241;43m*\u001b[39;49m\u001b[43mkwds\u001b[49m\u001b[43m)\u001b[49m\n",
      "File \u001b[0;32m/opt/anaconda3/envs/eds220-env/lib/python3.11/site-packages/matplotlib/axes/_axes.py:1688\u001b[0m, in \u001b[0;36mAxes.plot\u001b[0;34m(self, scalex, scaley, data, *args, **kwargs)\u001b[0m\n\u001b[1;32m   1445\u001b[0m \u001b[38;5;250m\u001b[39m\u001b[38;5;124;03m\"\"\"\u001b[39;00m\n\u001b[1;32m   1446\u001b[0m \u001b[38;5;124;03mPlot y versus x as lines and/or markers.\u001b[39;00m\n\u001b[1;32m   1447\u001b[0m \n\u001b[0;32m   (...)\u001b[0m\n\u001b[1;32m   1685\u001b[0m \u001b[38;5;124;03m(``'green'``) or hex strings (``'#008000'``).\u001b[39;00m\n\u001b[1;32m   1686\u001b[0m \u001b[38;5;124;03m\"\"\"\u001b[39;00m\n\u001b[1;32m   1687\u001b[0m kwargs \u001b[38;5;241m=\u001b[39m cbook\u001b[38;5;241m.\u001b[39mnormalize_kwargs(kwargs, mlines\u001b[38;5;241m.\u001b[39mLine2D)\n\u001b[0;32m-> 1688\u001b[0m lines \u001b[38;5;241m=\u001b[39m [\u001b[38;5;241m*\u001b[39m\u001b[38;5;28mself\u001b[39m\u001b[38;5;241m.\u001b[39m_get_lines(\u001b[38;5;241m*\u001b[39margs, data\u001b[38;5;241m=\u001b[39mdata, \u001b[38;5;241m*\u001b[39m\u001b[38;5;241m*\u001b[39mkwargs)]\n\u001b[1;32m   1689\u001b[0m \u001b[38;5;28;01mfor\u001b[39;00m line \u001b[38;5;129;01min\u001b[39;00m lines:\n\u001b[1;32m   1690\u001b[0m     \u001b[38;5;28mself\u001b[39m\u001b[38;5;241m.\u001b[39madd_line(line)\n",
      "File \u001b[0;32m/opt/anaconda3/envs/eds220-env/lib/python3.11/site-packages/matplotlib/axes/_base.py:311\u001b[0m, in \u001b[0;36m_process_plot_var_args.__call__\u001b[0;34m(self, data, *args, **kwargs)\u001b[0m\n\u001b[1;32m    309\u001b[0m     this \u001b[38;5;241m+\u001b[39m\u001b[38;5;241m=\u001b[39m args[\u001b[38;5;241m0\u001b[39m],\n\u001b[1;32m    310\u001b[0m     args \u001b[38;5;241m=\u001b[39m args[\u001b[38;5;241m1\u001b[39m:]\n\u001b[0;32m--> 311\u001b[0m \u001b[38;5;28;01myield from\u001b[39;00m \u001b[38;5;28;43mself\u001b[39;49m\u001b[38;5;241;43m.\u001b[39;49m\u001b[43m_plot_args\u001b[49m\u001b[43m(\u001b[49m\n\u001b[1;32m    312\u001b[0m \u001b[43m    \u001b[49m\u001b[43mthis\u001b[49m\u001b[43m,\u001b[49m\u001b[43m \u001b[49m\u001b[43mkwargs\u001b[49m\u001b[43m,\u001b[49m\u001b[43m \u001b[49m\u001b[43mambiguous_fmt_datakey\u001b[49m\u001b[38;5;241;43m=\u001b[39;49m\u001b[43mambiguous_fmt_datakey\u001b[49m\u001b[43m)\u001b[49m\n",
      "File \u001b[0;32m/opt/anaconda3/envs/eds220-env/lib/python3.11/site-packages/matplotlib/axes/_base.py:544\u001b[0m, in \u001b[0;36m_process_plot_var_args._plot_args\u001b[0;34m(self, tup, kwargs, return_kwargs, ambiguous_fmt_datakey)\u001b[0m\n\u001b[1;32m    542\u001b[0m     \u001b[38;5;28;01mreturn\u001b[39;00m \u001b[38;5;28mlist\u001b[39m(result)\n\u001b[1;32m    543\u001b[0m \u001b[38;5;28;01melse\u001b[39;00m:\n\u001b[0;32m--> 544\u001b[0m     \u001b[38;5;28;01mreturn\u001b[39;00m \u001b[43m[\u001b[49m\u001b[43ml\u001b[49m\u001b[43m[\u001b[49m\u001b[38;5;241;43m0\u001b[39;49m\u001b[43m]\u001b[49m\u001b[43m \u001b[49m\u001b[38;5;28;43;01mfor\u001b[39;49;00m\u001b[43m \u001b[49m\u001b[43ml\u001b[49m\u001b[43m \u001b[49m\u001b[38;5;129;43;01min\u001b[39;49;00m\u001b[43m \u001b[49m\u001b[43mresult\u001b[49m\u001b[43m]\u001b[49m\n",
      "File \u001b[0;32m/opt/anaconda3/envs/eds220-env/lib/python3.11/site-packages/matplotlib/axes/_base.py:544\u001b[0m, in \u001b[0;36m<listcomp>\u001b[0;34m(.0)\u001b[0m\n\u001b[1;32m    542\u001b[0m     \u001b[38;5;28;01mreturn\u001b[39;00m \u001b[38;5;28mlist\u001b[39m(result)\n\u001b[1;32m    543\u001b[0m \u001b[38;5;28;01melse\u001b[39;00m:\n\u001b[0;32m--> 544\u001b[0m     \u001b[38;5;28;01mreturn\u001b[39;00m \u001b[43m[\u001b[49m\u001b[43ml\u001b[49m\u001b[43m[\u001b[49m\u001b[38;5;241;43m0\u001b[39;49m\u001b[43m]\u001b[49m\u001b[43m \u001b[49m\u001b[38;5;28;43;01mfor\u001b[39;49;00m\u001b[43m \u001b[49m\u001b[43ml\u001b[49m\u001b[43m \u001b[49m\u001b[38;5;129;43;01min\u001b[39;49;00m\u001b[43m \u001b[49m\u001b[43mresult\u001b[49m\u001b[43m]\u001b[49m\n",
      "File \u001b[0;32m/opt/anaconda3/envs/eds220-env/lib/python3.11/site-packages/matplotlib/axes/_base.py:537\u001b[0m, in \u001b[0;36m<genexpr>\u001b[0;34m(.0)\u001b[0m\n\u001b[1;32m    534\u001b[0m \u001b[38;5;28;01melse\u001b[39;00m:\n\u001b[1;32m    535\u001b[0m     labels \u001b[38;5;241m=\u001b[39m [label] \u001b[38;5;241m*\u001b[39m n_datasets\n\u001b[0;32m--> 537\u001b[0m result \u001b[38;5;241m=\u001b[39m (\u001b[43mmake_artist\u001b[49m\u001b[43m(\u001b[49m\u001b[43mx\u001b[49m\u001b[43m[\u001b[49m\u001b[43m:\u001b[49m\u001b[43m,\u001b[49m\u001b[43m \u001b[49m\u001b[43mj\u001b[49m\u001b[43m \u001b[49m\u001b[38;5;241;43m%\u001b[39;49m\u001b[43m \u001b[49m\u001b[43mncx\u001b[49m\u001b[43m]\u001b[49m\u001b[43m,\u001b[49m\u001b[43m \u001b[49m\u001b[43my\u001b[49m\u001b[43m[\u001b[49m\u001b[43m:\u001b[49m\u001b[43m,\u001b[49m\u001b[43m \u001b[49m\u001b[43mj\u001b[49m\u001b[43m \u001b[49m\u001b[38;5;241;43m%\u001b[39;49m\u001b[43m \u001b[49m\u001b[43mncy\u001b[49m\u001b[43m]\u001b[49m\u001b[43m,\u001b[49m\u001b[43m \u001b[49m\u001b[43mkw\u001b[49m\u001b[43m,\u001b[49m\n\u001b[1;32m    538\u001b[0m \u001b[43m                      \u001b[49m\u001b[43m{\u001b[49m\u001b[38;5;241;43m*\u001b[39;49m\u001b[38;5;241;43m*\u001b[39;49m\u001b[43mkwargs\u001b[49m\u001b[43m,\u001b[49m\u001b[43m \u001b[49m\u001b[38;5;124;43m'\u001b[39;49m\u001b[38;5;124;43mlabel\u001b[39;49m\u001b[38;5;124;43m'\u001b[39;49m\u001b[43m:\u001b[49m\u001b[43m \u001b[49m\u001b[43mlabel\u001b[49m\u001b[43m}\u001b[49m\u001b[43m)\u001b[49m\n\u001b[1;32m    539\u001b[0m           \u001b[38;5;28;01mfor\u001b[39;00m j, label \u001b[38;5;129;01min\u001b[39;00m \u001b[38;5;28menumerate\u001b[39m(labels))\n\u001b[1;32m    541\u001b[0m \u001b[38;5;28;01mif\u001b[39;00m return_kwargs:\n\u001b[1;32m    542\u001b[0m     \u001b[38;5;28;01mreturn\u001b[39;00m \u001b[38;5;28mlist\u001b[39m(result)\n",
      "File \u001b[0;32m/opt/anaconda3/envs/eds220-env/lib/python3.11/site-packages/matplotlib/axes/_base.py:351\u001b[0m, in \u001b[0;36m_process_plot_var_args._makeline\u001b[0;34m(self, x, y, kw, kwargs)\u001b[0m\n\u001b[1;32m    349\u001b[0m default_dict \u001b[38;5;241m=\u001b[39m \u001b[38;5;28mself\u001b[39m\u001b[38;5;241m.\u001b[39m_getdefaults(\u001b[38;5;28mset\u001b[39m(), kw)\n\u001b[1;32m    350\u001b[0m \u001b[38;5;28mself\u001b[39m\u001b[38;5;241m.\u001b[39m_setdefaults(default_dict, kw)\n\u001b[0;32m--> 351\u001b[0m seg \u001b[38;5;241m=\u001b[39m \u001b[43mmlines\u001b[49m\u001b[38;5;241;43m.\u001b[39;49m\u001b[43mLine2D\u001b[49m\u001b[43m(\u001b[49m\u001b[43mx\u001b[49m\u001b[43m,\u001b[49m\u001b[43m \u001b[49m\u001b[43my\u001b[49m\u001b[43m,\u001b[49m\u001b[43m \u001b[49m\u001b[38;5;241;43m*\u001b[39;49m\u001b[38;5;241;43m*\u001b[39;49m\u001b[43mkw\u001b[49m\u001b[43m)\u001b[49m\n\u001b[1;32m    352\u001b[0m \u001b[38;5;28;01mreturn\u001b[39;00m seg, kw\n",
      "File \u001b[0;32m/opt/anaconda3/envs/eds220-env/lib/python3.11/site-packages/matplotlib/_api/deprecation.py:454\u001b[0m, in \u001b[0;36mmake_keyword_only.<locals>.wrapper\u001b[0;34m(*args, **kwargs)\u001b[0m\n\u001b[1;32m    448\u001b[0m \u001b[38;5;28;01mif\u001b[39;00m \u001b[38;5;28mlen\u001b[39m(args) \u001b[38;5;241m>\u001b[39m name_idx:\n\u001b[1;32m    449\u001b[0m     warn_deprecated(\n\u001b[1;32m    450\u001b[0m         since, message\u001b[38;5;241m=\u001b[39m\u001b[38;5;124m\"\u001b[39m\u001b[38;5;124mPassing the \u001b[39m\u001b[38;5;132;01m%(name)s\u001b[39;00m\u001b[38;5;124m \u001b[39m\u001b[38;5;132;01m%(obj_type)s\u001b[39;00m\u001b[38;5;124m \u001b[39m\u001b[38;5;124m\"\u001b[39m\n\u001b[1;32m    451\u001b[0m         \u001b[38;5;124m\"\u001b[39m\u001b[38;5;124mpositionally is deprecated since Matplotlib \u001b[39m\u001b[38;5;132;01m%(since)s\u001b[39;00m\u001b[38;5;124m; the \u001b[39m\u001b[38;5;124m\"\u001b[39m\n\u001b[1;32m    452\u001b[0m         \u001b[38;5;124m\"\u001b[39m\u001b[38;5;124mparameter will become keyword-only \u001b[39m\u001b[38;5;132;01m%(removal)s\u001b[39;00m\u001b[38;5;124m.\u001b[39m\u001b[38;5;124m\"\u001b[39m,\n\u001b[1;32m    453\u001b[0m         name\u001b[38;5;241m=\u001b[39mname, obj_type\u001b[38;5;241m=\u001b[39m\u001b[38;5;124mf\u001b[39m\u001b[38;5;124m\"\u001b[39m\u001b[38;5;124mparameter of \u001b[39m\u001b[38;5;132;01m{\u001b[39;00mfunc\u001b[38;5;241m.\u001b[39m\u001b[38;5;18m__name__\u001b[39m\u001b[38;5;132;01m}\u001b[39;00m\u001b[38;5;124m()\u001b[39m\u001b[38;5;124m\"\u001b[39m)\n\u001b[0;32m--> 454\u001b[0m \u001b[38;5;28;01mreturn\u001b[39;00m \u001b[43mfunc\u001b[49m\u001b[43m(\u001b[49m\u001b[38;5;241;43m*\u001b[39;49m\u001b[43margs\u001b[49m\u001b[43m,\u001b[49m\u001b[43m \u001b[49m\u001b[38;5;241;43m*\u001b[39;49m\u001b[38;5;241;43m*\u001b[39;49m\u001b[43mkwargs\u001b[49m\u001b[43m)\u001b[49m\n",
      "File \u001b[0;32m/opt/anaconda3/envs/eds220-env/lib/python3.11/site-packages/matplotlib/lines.py:393\u001b[0m, in \u001b[0;36mLine2D.__init__\u001b[0;34m(self, xdata, ydata, linewidth, linestyle, color, gapcolor, marker, markersize, markeredgewidth, markeredgecolor, markerfacecolor, markerfacecoloralt, fillstyle, antialiased, dash_capstyle, solid_capstyle, dash_joinstyle, solid_joinstyle, pickradius, drawstyle, markevery, **kwargs)\u001b[0m\n\u001b[1;32m    389\u001b[0m \u001b[38;5;28mself\u001b[39m\u001b[38;5;241m.\u001b[39mset_markeredgewidth(markeredgewidth)\n\u001b[1;32m    391\u001b[0m \u001b[38;5;66;03m# update kwargs before updating data to give the caller a\u001b[39;00m\n\u001b[1;32m    392\u001b[0m \u001b[38;5;66;03m# chance to init axes (and hence unit support)\u001b[39;00m\n\u001b[0;32m--> 393\u001b[0m \u001b[38;5;28;43mself\u001b[39;49m\u001b[38;5;241;43m.\u001b[39;49m\u001b[43m_internal_update\u001b[49m\u001b[43m(\u001b[49m\u001b[43mkwargs\u001b[49m\u001b[43m)\u001b[49m\n\u001b[1;32m    394\u001b[0m \u001b[38;5;28mself\u001b[39m\u001b[38;5;241m.\u001b[39m_pickradius \u001b[38;5;241m=\u001b[39m pickradius\n\u001b[1;32m    395\u001b[0m \u001b[38;5;28mself\u001b[39m\u001b[38;5;241m.\u001b[39mind_offset \u001b[38;5;241m=\u001b[39m \u001b[38;5;241m0\u001b[39m\n",
      "File \u001b[0;32m/opt/anaconda3/envs/eds220-env/lib/python3.11/site-packages/matplotlib/artist.py:1223\u001b[0m, in \u001b[0;36mArtist._internal_update\u001b[0;34m(self, kwargs)\u001b[0m\n\u001b[1;32m   1216\u001b[0m \u001b[38;5;28;01mdef\u001b[39;00m \u001b[38;5;21m_internal_update\u001b[39m(\u001b[38;5;28mself\u001b[39m, kwargs):\n\u001b[1;32m   1217\u001b[0m \u001b[38;5;250m    \u001b[39m\u001b[38;5;124;03m\"\"\"\u001b[39;00m\n\u001b[1;32m   1218\u001b[0m \u001b[38;5;124;03m    Update artist properties without prenormalizing them, but generating\u001b[39;00m\n\u001b[1;32m   1219\u001b[0m \u001b[38;5;124;03m    errors as if calling `set`.\u001b[39;00m\n\u001b[1;32m   1220\u001b[0m \n\u001b[1;32m   1221\u001b[0m \u001b[38;5;124;03m    The lack of prenormalization is to maintain backcompatibility.\u001b[39;00m\n\u001b[1;32m   1222\u001b[0m \u001b[38;5;124;03m    \"\"\"\u001b[39;00m\n\u001b[0;32m-> 1223\u001b[0m     \u001b[38;5;28;01mreturn\u001b[39;00m \u001b[38;5;28;43mself\u001b[39;49m\u001b[38;5;241;43m.\u001b[39;49m\u001b[43m_update_props\u001b[49m\u001b[43m(\u001b[49m\n\u001b[1;32m   1224\u001b[0m \u001b[43m        \u001b[49m\u001b[43mkwargs\u001b[49m\u001b[43m,\u001b[49m\u001b[43m \u001b[49m\u001b[38;5;124;43m\"\u001b[39;49m\u001b[38;5;132;43;01m{cls.__name__}\u001b[39;49;00m\u001b[38;5;124;43m.set() got an unexpected keyword argument \u001b[39;49m\u001b[38;5;124;43m\"\u001b[39;49m\n\u001b[1;32m   1225\u001b[0m \u001b[43m        \u001b[49m\u001b[38;5;124;43m\"\u001b[39;49m\u001b[38;5;132;43;01m{prop_name!r}\u001b[39;49;00m\u001b[38;5;124;43m\"\u001b[39;49m\u001b[43m)\u001b[49m\n",
      "File \u001b[0;32m/opt/anaconda3/envs/eds220-env/lib/python3.11/site-packages/matplotlib/artist.py:1197\u001b[0m, in \u001b[0;36mArtist._update_props\u001b[0;34m(self, props, errfmt)\u001b[0m\n\u001b[1;32m   1195\u001b[0m             func \u001b[38;5;241m=\u001b[39m \u001b[38;5;28mgetattr\u001b[39m(\u001b[38;5;28mself\u001b[39m, \u001b[38;5;124mf\u001b[39m\u001b[38;5;124m\"\u001b[39m\u001b[38;5;124mset_\u001b[39m\u001b[38;5;132;01m{\u001b[39;00mk\u001b[38;5;132;01m}\u001b[39;00m\u001b[38;5;124m\"\u001b[39m, \u001b[38;5;28;01mNone\u001b[39;00m)\n\u001b[1;32m   1196\u001b[0m             \u001b[38;5;28;01mif\u001b[39;00m \u001b[38;5;129;01mnot\u001b[39;00m \u001b[38;5;28mcallable\u001b[39m(func):\n\u001b[0;32m-> 1197\u001b[0m                 \u001b[38;5;28;01mraise\u001b[39;00m \u001b[38;5;167;01mAttributeError\u001b[39;00m(\n\u001b[1;32m   1198\u001b[0m                     errfmt\u001b[38;5;241m.\u001b[39mformat(\u001b[38;5;28mcls\u001b[39m\u001b[38;5;241m=\u001b[39m\u001b[38;5;28mtype\u001b[39m(\u001b[38;5;28mself\u001b[39m), prop_name\u001b[38;5;241m=\u001b[39mk))\n\u001b[1;32m   1199\u001b[0m             ret\u001b[38;5;241m.\u001b[39mappend(func(v))\n\u001b[1;32m   1200\u001b[0m \u001b[38;5;28;01mif\u001b[39;00m ret:\n",
      "\u001b[0;31mAttributeError\u001b[0m: Line2D.set() got an unexpected keyword argument 'legend_kwds'"
     ]
    },
    {
     "data": {
      "image/png": "[encoded data removed]",
      "text/plain": [
       "<Figure size 900x500 with 1 Axes>"
      ]
     },
     "metadata": {},
     "output_type": "display_data"
    }
   ],
   "source": [
    "# For some reason, size is in inches \n",
    "fig, ax = plt.subplots(figsize=(9,5))\n",
    "\n",
    "# Remove axis for a cleaner map\n",
    "ax.axis('off')\n",
    "\n",
    "ax.set_title('Electric Generating Plants in the contiguous US')\n",
    "\n",
    "# kwds is keywords, it expects a dictionary\n",
    "contiguous.plot(ax=ax,\n",
    "                color='none',\n",
    "                edgecolor='black')\n",
    "\n",
    "# Add electric power plants colored by energy source\n",
    "\n",
    "power_plants.plot(ax=ax,\n",
    "                  column='primsource', # Color by values in this column\n",
    "                  legend=True,\n",
    "                  markersize=4, # Change the size of the dots\n",
    "                  cmap='tab20', # Change color scheme of dots\n",
    "                  alpha=0.5,\n",
    "                  legend_kwds= {\n",
    "                      'title':'Primary energy source',\n",
    "                      'title_fontsize':'small',\n",
    "                      'ncol':6,\n",
    "                      'loc':'upper left',\n",
    "                      'bbox_to_anchor':(0,0)\n",
    "                  }\n",
    "                 )\n",
    "\n",
    "plt.show()"
   ]
  },
  {
   "cell_type": "markdown",
   "id": "beaf93f8-bda3-4d76-a077-72ce0047fce5",
   "metadata": {},
   "source": [
    "We controlled the legendlocation using `loc` andf `bboc_to_anchor` in the `legend_kwds` :\n",
    "\n",
    "- `loc` indicates the **the conrner of the legend that we watnt to use for placements**\n",
    "- `bboc_to_anchor` is a tuple with coordinates  indicating where to place the corner specified in `loc` relative to the aexes. Values between 0 and 1 are *inside* the axes\n"
   ]
  },
  {
   "cell_type": "markdown",
   "id": "91e1993d-4cbd-4b89-aa82-a10da9af0b84",
   "metadata": {},
   "source": [
    "## `for` with `zip`\n",
    "\n",
    "often we need to iterate simultanously over two lists (or iterables). \n",
    "\n",
    "`zip()` is a python function, that allows you to combine two lists so that you can interate over their elements in pairs.\n",
    "\n",
    "So when used in a `for` loop it allows you to process elements of each list together.\n",
    "\n",
    "Example:"
   ]
  },
  {
   "cell_type": "code",
   "execution_count": 21,
   "id": "89784e52-5651-49b1-aaf8-c8098138e40c",
   "metadata": {
    "tags": []
   },
   "outputs": [
    {
     "name": "stdout",
     "output_type": "stream",
     "text": [
      "1\n",
      "2.3\n"
     ]
    }
   ],
   "source": [
    "# Irerate over a list\n",
    "\n",
    "numbers = [1,2,3]\n",
    "for num in numbers:\n",
    "    print(num)"
   ]
  },
  {
   "cell_type": "code",
   "execution_count": 22,
   "id": "d852dc7c-741a-4ce5-81a2-06b8f045d78d",
   "metadata": {
    "tags": []
   },
   "outputs": [
    {
     "name": "stdout",
     "output_type": "stream",
     "text": [
      "1 a\n",
      "2.3 b\n"
     ]
    }
   ],
   "source": [
    "# Iterate over two lists in pairs using zip()\n",
    "letters = ['a', 'b', 'c']\n",
    "for num, letter in zip(numbers, letters):\n",
    "    print(num, letter)"
   ]
  },
  {
   "cell_type": "markdown",
   "id": "1463d521-968a-4c15-8528-1a69779b0645",
   "metadata": {},
   "source": [
    "Example: with `matplotlib`.\n",
    "A common situation when code gets repeated when creating subplots."
   ]
  },
  {
   "cell_type": "code",
   "execution_count": 34,
   "id": "16f80297-508c-4485-843d-cfeedf9f6a3a",
   "metadata": {
    "tags": []
   },
   "outputs": [
    {
     "data": {
      "image/png": "[encoded data removed]",
      "text/plain": [
       "<Figure size 700x300 with 3 Axes>"
      ]
     },
     "metadata": {},
     "output_type": "display_data"
    }
   ],
   "source": [
    "# Creating multiple plots, single row, 3 columns\n",
    "fig, axes = plt.subplots(nrows=1, ncols=3, figsize=(7,3))\n",
    "\n",
    "axes[0].set_title('This is axes 0')\n",
    "axes[1].set_title('This is axes 1')\n",
    "axes[2].set_title('This is axes 2')\n",
    "\n",
    "plt.show()"
   ]
  },
  {
   "cell_type": "code",
   "execution_count": 25,
   "id": "6fa78929-f56b-4fe5-955f-38f9c75cc6c4",
   "metadata": {
    "tags": []
   },
   "outputs": [
    {
     "data": {
      "text/plain": [
       "array([<Axes: title={'center': 'This is axes 0'}>,\n",
       "       <Axes: title={'center': 'This is axes 1'}>,\n",
       "       <Axes: title={'center': 'This is axes 2'}>], dtype=object)"
      ]
     },
     "execution_count": 25,
     "metadata": {},
     "output_type": "execute_result"
    }
   ],
   "source": [
    "# It is a list of axes \n",
    "\n",
    "axes"
   ]
  },
  {
   "cell_type": "markdown",
   "id": "e94a508e-0071-4a23-84e3-110f3cb2ec0e",
   "metadata": {},
   "source": [
    "## Check in\n",
    "\n",
    "Use `for` and `zip` to create the same subplots and avoid redundancy "
   ]
  },
  {
   "cell_type": "code",
   "execution_count": 40,
   "id": "c3893f40-c3e2-483e-ab6f-114e356c6341",
   "metadata": {
    "tags": []
   },
   "outputs": [
    {
     "data": {
      "text/plain": [
       "<function matplotlib.pyplot.show(close=None, block=None)>"
      ]
     },
     "execution_count": 40,
     "metadata": {},
     "output_type": "execute_result"
    },
    {
     "data": {
      "image/png": "[encoded data removed]",
      "text/plain": [
       "<Figure size 700x300 with 3 Axes>"
      ]
     },
     "metadata": {},
     "output_type": "display_data"
    }
   ],
   "source": [
    "fig, axes = plt.subplots(nrows=1, ncols=3, figsize=(7,3))\n",
    "\n",
    "# Iterate over axes\n",
    "for ax, i in zip(axes, [0,1,2]):\n",
    "    ax.set_title(f\"This is axis{i}\")\n",
    "    \n",
    "plt.show"
   ]
  },
  {
   "cell_type": "code",
   "execution_count": 42,
   "id": "42316a0d-806a-4924-be38-9763aa6aae2f",
   "metadata": {
    "tags": []
   },
   "outputs": [
    {
     "data": {
      "text/plain": [
       "<function matplotlib.pyplot.show(close=None, block=None)>"
      ]
     },
     "execution_count": 42,
     "metadata": {},
     "output_type": "execute_result"
    },
    {
     "data": {
      "image/png": "[encoded data removed]",
      "text/plain": [
       "<Figure size 700x300 with 3 Axes>"
      ]
     },
     "metadata": {},
     "output_type": "display_data"
    }
   ],
   "source": [
    "# Another solution, without zip\n",
    "fig, axes = plt.subplots(nrows=1, ncols=3, figsize=(7,3))\n",
    "\n",
    "# Iterate over axes\n",
    "for i in [0,1,2]:\n",
    "    axes[i].set_title(f\"This is axis{i}\")\n",
    "    \n",
    "plt.show"
   ]
  },
  {
   "cell_type": "code",
   "execution_count": 43,
   "id": "d7f352ce-1d81-41a0-b680-6b6246d689d1",
   "metadata": {
    "tags": []
   },
   "outputs": [
    {
     "data": {
      "text/html": [
       "<div>\n",
       "<style scoped>\n",
       "    .dataframe tbody tr th:only-of-type {\n",
       "        vertical-align: middle;\n",
       "    }\n",
       "\n",
       "    .dataframe tbody tr th {\n",
       "        vertical-align: top;\n",
       "    }\n",
       "\n",
       "    .dataframe thead th {\n",
       "        text-align: right;\n",
       "    }\n",
       "</style>\n",
       "<table border=\"1\" class=\"dataframe\">\n",
       "  <thead>\n",
       "    <tr style=\"text-align: right;\">\n",
       "      <th></th>\n",
       "      <th>objectid</th>\n",
       "      <th>plant_code</th>\n",
       "      <th>plant_name</th>\n",
       "      <th>utility_id</th>\n",
       "      <th>utility_name</th>\n",
       "      <th>sector_name</th>\n",
       "      <th>street_address</th>\n",
       "      <th>city</th>\n",
       "      <th>county</th>\n",
       "      <th>state</th>\n",
       "      <th>zip</th>\n",
       "      <th>primsource</th>\n",
       "      <th>source_desc</th>\n",
       "      <th>tech_desc</th>\n",
       "      <th>install_mw</th>\n",
       "      <th>total_mw</th>\n",
       "      <th>bat_mw</th>\n",
       "      <th>bio_mw</th>\n",
       "      <th>coal_mw</th>\n",
       "      <th>geo_mw</th>\n",
       "      <th>hydro_mw</th>\n",
       "      <th>hydrops_mw</th>\n",
       "      <th>ng_mw</th>\n",
       "      <th>nuclear_mw</th>\n",
       "      <th>crude_mw</th>\n",
       "      <th>solar_mw</th>\n",
       "      <th>wind_mw</th>\n",
       "      <th>other_mw</th>\n",
       "      <th>source</th>\n",
       "      <th>period</th>\n",
       "      <th>longitude</th>\n",
       "      <th>latitude</th>\n",
       "      <th>geometry</th>\n",
       "    </tr>\n",
       "  </thead>\n",
       "  <tbody>\n",
       "    <tr>\n",
       "      <th>0</th>\n",
       "      <td>11570</td>\n",
       "      <td>1</td>\n",
       "      <td>Sand Point</td>\n",
       "      <td>63560</td>\n",
       "      <td>TDX Sand Point Generating, LLC</td>\n",
       "      <td>Electric Utility</td>\n",
       "      <td>100 Power Plant Way</td>\n",
       "      <td>Sand Point</td>\n",
       "      <td>Aleutians East</td>\n",
       "      <td>Alaska</td>\n",
       "      <td>99661.0</td>\n",
       "      <td>petroleum</td>\n",
       "      <td>Petroleum = 1.3 MW, Wind = 0.4 MW</td>\n",
       "      <td>Petroleum Liquids; Onshore Wind Turbine;</td>\n",
       "      <td>3.7</td>\n",
       "      <td>1.7</td>\n",
       "      <td>NaN</td>\n",
       "      <td>NaN</td>\n",
       "      <td>NaN</td>\n",
       "      <td>NaN</td>\n",
       "      <td>NaN</td>\n",
       "      <td>NaN</td>\n",
       "      <td>NaN</td>\n",
       "      <td>NaN</td>\n",
       "      <td>1.3</td>\n",
       "      <td>NaN</td>\n",
       "      <td>0.4</td>\n",
       "      <td>NaN</td>\n",
       "      <td>EIA-860, EIA-860M and EIA-923</td>\n",
       "      <td>202305.0</td>\n",
       "      <td>-160.497222</td>\n",
       "      <td>55.339722</td>\n",
       "      <td>POINT (-160.49722 55.33972)</td>\n",
       "    </tr>\n",
       "    <tr>\n",
       "      <th>1</th>\n",
       "      <td>11571</td>\n",
       "      <td>2</td>\n",
       "      <td>Bankhead Dam</td>\n",
       "      <td>195</td>\n",
       "      <td>Alabama Power Co</td>\n",
       "      <td>Electric Utility</td>\n",
       "      <td>19001 Lock 17 Road</td>\n",
       "      <td>Northport</td>\n",
       "      <td>Tuscaloosa</td>\n",
       "      <td>Alabama</td>\n",
       "      <td>35476.0</td>\n",
       "      <td>hydroelectric</td>\n",
       "      <td>Hydroelectric = 53 MW</td>\n",
       "      <td>Conventional Hydroelectric</td>\n",
       "      <td>53.9</td>\n",
       "      <td>53.0</td>\n",
       "      <td>NaN</td>\n",
       "      <td>NaN</td>\n",
       "      <td>NaN</td>\n",
       "      <td>NaN</td>\n",
       "      <td>53.0</td>\n",
       "      <td>NaN</td>\n",
       "      <td>NaN</td>\n",
       "      <td>NaN</td>\n",
       "      <td>NaN</td>\n",
       "      <td>NaN</td>\n",
       "      <td>NaN</td>\n",
       "      <td>NaN</td>\n",
       "      <td>EIA-860, EIA-860M and EIA-923</td>\n",
       "      <td>202305.0</td>\n",
       "      <td>-87.356823</td>\n",
       "      <td>33.458665</td>\n",
       "      <td>POINT (-87.35682 33.45867)</td>\n",
       "    </tr>\n",
       "    <tr>\n",
       "      <th>2</th>\n",
       "      <td>11572</td>\n",
       "      <td>3</td>\n",
       "      <td>Barry</td>\n",
       "      <td>195</td>\n",
       "      <td>Alabama Power Co</td>\n",
       "      <td>Electric Utility</td>\n",
       "      <td>North Highway 43</td>\n",
       "      <td>Bucks</td>\n",
       "      <td>Mobile</td>\n",
       "      <td>Alabama</td>\n",
       "      <td>36512.0</td>\n",
       "      <td>natural gas</td>\n",
       "      <td>Coal = 1118.5 MW, Natural Gas = 1296.2 MW</td>\n",
       "      <td>Conventional Steam Coal; Natural Gas Fired Com...</td>\n",
       "      <td>2569.5</td>\n",
       "      <td>2414.7</td>\n",
       "      <td>NaN</td>\n",
       "      <td>NaN</td>\n",
       "      <td>1118.5</td>\n",
       "      <td>NaN</td>\n",
       "      <td>NaN</td>\n",
       "      <td>NaN</td>\n",
       "      <td>1296.2</td>\n",
       "      <td>NaN</td>\n",
       "      <td>NaN</td>\n",
       "      <td>NaN</td>\n",
       "      <td>NaN</td>\n",
       "      <td>NaN</td>\n",
       "      <td>EIA-860, EIA-860M and EIA-923</td>\n",
       "      <td>202305.0</td>\n",
       "      <td>-88.010300</td>\n",
       "      <td>31.006900</td>\n",
       "      <td>POINT (-88.01030 31.00690)</td>\n",
       "    </tr>\n",
       "    <tr>\n",
       "      <th>3</th>\n",
       "      <td>11573</td>\n",
       "      <td>4</td>\n",
       "      <td>Walter Bouldin Dam</td>\n",
       "      <td>195</td>\n",
       "      <td>Alabama Power Co</td>\n",
       "      <td>Electric Utility</td>\n",
       "      <td>750 Bouldin Dam Road</td>\n",
       "      <td>Wetumpka</td>\n",
       "      <td>Elmore</td>\n",
       "      <td>Alabama</td>\n",
       "      <td>36092.0</td>\n",
       "      <td>hydroelectric</td>\n",
       "      <td>Hydroelectric = 224.1 MW</td>\n",
       "      <td>Conventional Hydroelectric</td>\n",
       "      <td>225.0</td>\n",
       "      <td>224.1</td>\n",
       "      <td>NaN</td>\n",
       "      <td>NaN</td>\n",
       "      <td>NaN</td>\n",
       "      <td>NaN</td>\n",
       "      <td>224.1</td>\n",
       "      <td>NaN</td>\n",
       "      <td>NaN</td>\n",
       "      <td>NaN</td>\n",
       "      <td>NaN</td>\n",
       "      <td>NaN</td>\n",
       "      <td>NaN</td>\n",
       "      <td>NaN</td>\n",
       "      <td>EIA-860, EIA-860M and EIA-923</td>\n",
       "      <td>202305.0</td>\n",
       "      <td>-86.283056</td>\n",
       "      <td>32.583889</td>\n",
       "      <td>POINT (-86.28306 32.58389)</td>\n",
       "    </tr>\n",
       "    <tr>\n",
       "      <th>4</th>\n",
       "      <td>11574</td>\n",
       "      <td>9</td>\n",
       "      <td>Copper</td>\n",
       "      <td>5701</td>\n",
       "      <td>El Paso Electric Co</td>\n",
       "      <td>Electric Utility</td>\n",
       "      <td>651 Hawkins Blvd.</td>\n",
       "      <td>El Paso</td>\n",
       "      <td>El Paso</td>\n",
       "      <td>Texas</td>\n",
       "      <td>79915.0</td>\n",
       "      <td>natural gas</td>\n",
       "      <td>Natural Gas = 63 MW</td>\n",
       "      <td>Natural Gas Fired Combustion Turbine</td>\n",
       "      <td>86.9</td>\n",
       "      <td>63.0</td>\n",
       "      <td>NaN</td>\n",
       "      <td>NaN</td>\n",
       "      <td>NaN</td>\n",
       "      <td>NaN</td>\n",
       "      <td>NaN</td>\n",
       "      <td>NaN</td>\n",
       "      <td>63.0</td>\n",
       "      <td>NaN</td>\n",
       "      <td>NaN</td>\n",
       "      <td>NaN</td>\n",
       "      <td>NaN</td>\n",
       "      <td>NaN</td>\n",
       "      <td>EIA-860, EIA-860M and EIA-923</td>\n",
       "      <td>202305.0</td>\n",
       "      <td>-106.375000</td>\n",
       "      <td>31.756900</td>\n",
       "      <td>POINT (-106.37500 31.75690)</td>\n",
       "    </tr>\n",
       "  </tbody>\n",
       "</table>\n",
       "</div>"
      ],
      "text/plain": [
       "  objectid plant_code          plant_name utility_id  \\\n",
       "0    11570          1          Sand Point      63560   \n",
       "1    11571          2        Bankhead Dam        195   \n",
       "2    11572          3               Barry        195   \n",
       "3    11573          4  Walter Bouldin Dam        195   \n",
       "4    11574          9              Copper       5701   \n",
       "\n",
       "                     utility_name       sector_name        street_address  \\\n",
       "0  TDX Sand Point Generating, LLC  Electric Utility   100 Power Plant Way   \n",
       "1                Alabama Power Co  Electric Utility    19001 Lock 17 Road   \n",
       "2                Alabama Power Co  Electric Utility      North Highway 43   \n",
       "3                Alabama Power Co  Electric Utility  750 Bouldin Dam Road   \n",
       "4             El Paso Electric Co  Electric Utility     651 Hawkins Blvd.   \n",
       "\n",
       "         city          county    state      zip     primsource  \\\n",
       "0  Sand Point  Aleutians East   Alaska  99661.0      petroleum   \n",
       "1   Northport      Tuscaloosa  Alabama  35476.0  hydroelectric   \n",
       "2       Bucks          Mobile  Alabama  36512.0    natural gas   \n",
       "3    Wetumpka          Elmore  Alabama  36092.0  hydroelectric   \n",
       "4     El Paso         El Paso    Texas  79915.0    natural gas   \n",
       "\n",
       "                                 source_desc  \\\n",
       "0          Petroleum = 1.3 MW, Wind = 0.4 MW   \n",
       "1                      Hydroelectric = 53 MW   \n",
       "2  Coal = 1118.5 MW, Natural Gas = 1296.2 MW   \n",
       "3                   Hydroelectric = 224.1 MW   \n",
       "4                        Natural Gas = 63 MW   \n",
       "\n",
       "                                           tech_desc  install_mw  total_mw  \\\n",
       "0           Petroleum Liquids; Onshore Wind Turbine;         3.7       1.7   \n",
       "1                         Conventional Hydroelectric        53.9      53.0   \n",
       "2  Conventional Steam Coal; Natural Gas Fired Com...      2569.5    2414.7   \n",
       "3                         Conventional Hydroelectric       225.0     224.1   \n",
       "4               Natural Gas Fired Combustion Turbine        86.9      63.0   \n",
       "\n",
       "   bat_mw  bio_mw  coal_mw  geo_mw  hydro_mw  hydrops_mw   ng_mw nuclear_mw  \\\n",
       "0     NaN     NaN      NaN     NaN       NaN         NaN     NaN        NaN   \n",
       "1     NaN     NaN      NaN     NaN      53.0         NaN     NaN        NaN   \n",
       "2     NaN     NaN   1118.5     NaN       NaN         NaN  1296.2        NaN   \n",
       "3     NaN     NaN      NaN     NaN     224.1         NaN     NaN        NaN   \n",
       "4     NaN     NaN      NaN     NaN       NaN         NaN    63.0        NaN   \n",
       "\n",
       "   crude_mw  solar_mw  wind_mw  other_mw                         source  \\\n",
       "0       1.3       NaN      0.4       NaN  EIA-860, EIA-860M and EIA-923   \n",
       "1       NaN       NaN      NaN       NaN  EIA-860, EIA-860M and EIA-923   \n",
       "2       NaN       NaN      NaN       NaN  EIA-860, EIA-860M and EIA-923   \n",
       "3       NaN       NaN      NaN       NaN  EIA-860, EIA-860M and EIA-923   \n",
       "4       NaN       NaN      NaN       NaN  EIA-860, EIA-860M and EIA-923   \n",
       "\n",
       "     period   longitude   latitude                     geometry  \n",
       "0  202305.0 -160.497222  55.339722  POINT (-160.49722 55.33972)  \n",
       "1  202305.0  -87.356823  33.458665   POINT (-87.35682 33.45867)  \n",
       "2  202305.0  -88.010300  31.006900   POINT (-88.01030 31.00690)  \n",
       "3  202305.0  -86.283056  32.583889   POINT (-86.28306 32.58389)  \n",
       "4  202305.0 -106.375000  31.756900  POINT (-106.37500 31.75690)  "
      ]
     },
     "execution_count": 43,
     "metadata": {},
     "output_type": "execute_result"
    }
   ],
   "source": [
    "# Remember we have been working with 2 datasets\n",
    "power_plants.head()"
   ]
  },
  {
   "cell_type": "code",
   "execution_count": 44,
   "id": "214f297a-add8-4fa1-bb79-69c73216c24a",
   "metadata": {
    "tags": []
   },
   "outputs": [
    {
     "data": {
      "text/html": [
       "<div>\n",
       "<style scoped>\n",
       "    .dataframe tbody tr th:only-of-type {\n",
       "        vertical-align: middle;\n",
       "    }\n",
       "\n",
       "    .dataframe tbody tr th {\n",
       "        vertical-align: top;\n",
       "    }\n",
       "\n",
       "    .dataframe thead th {\n",
       "        text-align: right;\n",
       "    }\n",
       "</style>\n",
       "<table border=\"1\" class=\"dataframe\">\n",
       "  <thead>\n",
       "    <tr style=\"text-align: right;\">\n",
       "      <th></th>\n",
       "      <th>region</th>\n",
       "      <th>division</th>\n",
       "      <th>statefp</th>\n",
       "      <th>statens</th>\n",
       "      <th>geoid</th>\n",
       "      <th>stusps</th>\n",
       "      <th>name</th>\n",
       "      <th>lsad</th>\n",
       "      <th>mtfcc</th>\n",
       "      <th>funcstat</th>\n",
       "      <th>aland</th>\n",
       "      <th>awater</th>\n",
       "      <th>intptlat</th>\n",
       "      <th>intptlon</th>\n",
       "      <th>geometry</th>\n",
       "    </tr>\n",
       "  </thead>\n",
       "  <tbody>\n",
       "    <tr>\n",
       "      <th>0</th>\n",
       "      <td>3</td>\n",
       "      <td>5</td>\n",
       "      <td>54</td>\n",
       "      <td>01779805</td>\n",
       "      <td>54</td>\n",
       "      <td>WV</td>\n",
       "      <td>West Virginia</td>\n",
       "      <td>00</td>\n",
       "      <td>G4000</td>\n",
       "      <td>A</td>\n",
       "      <td>62266456923</td>\n",
       "      <td>489045863</td>\n",
       "      <td>+38.6472854</td>\n",
       "      <td>-080.6183274</td>\n",
       "      <td>POLYGON ((-77.75438 39.33346, -77.75422 39.333...</td>\n",
       "    </tr>\n",
       "    <tr>\n",
       "      <th>1</th>\n",
       "      <td>3</td>\n",
       "      <td>5</td>\n",
       "      <td>12</td>\n",
       "      <td>00294478</td>\n",
       "      <td>12</td>\n",
       "      <td>FL</td>\n",
       "      <td>Florida</td>\n",
       "      <td>00</td>\n",
       "      <td>G4000</td>\n",
       "      <td>A</td>\n",
       "      <td>138962819934</td>\n",
       "      <td>45971472526</td>\n",
       "      <td>+28.3989775</td>\n",
       "      <td>-082.5143005</td>\n",
       "      <td>MULTIPOLYGON (((-83.10874 24.62949, -83.10711 ...</td>\n",
       "    </tr>\n",
       "    <tr>\n",
       "      <th>2</th>\n",
       "      <td>2</td>\n",
       "      <td>3</td>\n",
       "      <td>17</td>\n",
       "      <td>01779784</td>\n",
       "      <td>17</td>\n",
       "      <td>IL</td>\n",
       "      <td>Illinois</td>\n",
       "      <td>00</td>\n",
       "      <td>G4000</td>\n",
       "      <td>A</td>\n",
       "      <td>143778515726</td>\n",
       "      <td>6216539665</td>\n",
       "      <td>+40.1028754</td>\n",
       "      <td>-089.1526108</td>\n",
       "      <td>POLYGON ((-87.89243 38.28285, -87.89334 38.282...</td>\n",
       "    </tr>\n",
       "  </tbody>\n",
       "</table>\n",
       "</div>"
      ],
      "text/plain": [
       "   region  division  statefp   statens geoid stusps           name lsad  \\\n",
       "0       3         5       54  01779805    54     WV  West Virginia   00   \n",
       "1       3         5       12  00294478    12     FL        Florida   00   \n",
       "2       2         3       17  01779784    17     IL       Illinois   00   \n",
       "\n",
       "   mtfcc funcstat         aland       awater     intptlat      intptlon  \\\n",
       "0  G4000        A   62266456923    489045863  +38.6472854  -080.6183274   \n",
       "1  G4000        A  138962819934  45971472526  +28.3989775  -082.5143005   \n",
       "2  G4000        A  143778515726   6216539665  +40.1028754  -089.1526108   \n",
       "\n",
       "                                            geometry  \n",
       "0  POLYGON ((-77.75438 39.33346, -77.75422 39.333...  \n",
       "1  MULTIPOLYGON (((-83.10874 24.62949, -83.10711 ...  \n",
       "2  POLYGON ((-87.89243 38.28285, -87.89334 38.282...  "
      ]
     },
     "execution_count": 44,
     "metadata": {},
     "output_type": "execute_result"
    }
   ],
   "source": [
    "states.head(3)"
   ]
  },
  {
   "cell_type": "code",
   "execution_count": 46,
   "id": "9151ba48-e2d8-4793-a30d-3f4830d8d0e2",
   "metadata": {
    "tags": []
   },
   "outputs": [
    {
     "data": {
      "text/plain": [
       "<Axes: >"
      ]
     },
     "execution_count": 46,
     "metadata": {},
     "output_type": "execute_result"
    },
    {
     "data": {
      "image/png": "[encoded data removed]",
      "text/plain": [
       "<Figure size 640x480 with 1 Axes>"
      ]
     },
     "metadata": {},
     "output_type": "display_data"
    },
    {
     "data": {
      "image/png": "[encoded data removed]",
      "text/plain": [
       "<Figure size 640x480 with 1 Axes>"
      ]
     },
     "metadata": {},
     "output_type": "display_data"
    }
   ],
   "source": [
    "states.plot()\n",
    "power_plants.plot()"
   ]
  },
  {
   "cell_type": "markdown",
   "id": "f9388cf7-defd-4be2-82ce-5902ff012f09",
   "metadata": {},
   "source": [
    "## Exercise\n",
    "\n",
    "1. select the power plants in california in a variable named ca power plants\n",
    "\n",
    "2. Create a list named top_sources with californias top 3 electric sources\n",
    "\n",
    "3. recreate the plot"
   ]
  },
  {
   "cell_type": "code",
   "execution_count": 72,
   "id": "c1b447f8-558b-4cd1-b59a-ffaf231fa40b",
   "metadata": {
    "tags": []
   },
   "outputs": [],
   "source": [
    "# Select only power plants in california\n",
    "ca_power_plants = power_plants[power_plants['state'] == 'California']"
   ]
  },
  {
   "cell_type": "code",
   "execution_count": 73,
   "id": "f530e334-792f-48a6-8cab-aa3f131129ab",
   "metadata": {
    "tags": []
   },
   "outputs": [
    {
     "data": {
      "text/html": [
       "<div>\n",
       "<style scoped>\n",
       "    .dataframe tbody tr th:only-of-type {\n",
       "        vertical-align: middle;\n",
       "    }\n",
       "\n",
       "    .dataframe tbody tr th {\n",
       "        vertical-align: top;\n",
       "    }\n",
       "\n",
       "    .dataframe thead th {\n",
       "        text-align: right;\n",
       "    }\n",
       "</style>\n",
       "<table border=\"1\" class=\"dataframe\">\n",
       "  <thead>\n",
       "    <tr style=\"text-align: right;\">\n",
       "      <th></th>\n",
       "      <th>objectid</th>\n",
       "      <th>plant_code</th>\n",
       "      <th>plant_name</th>\n",
       "      <th>utility_id</th>\n",
       "      <th>utility_name</th>\n",
       "      <th>sector_name</th>\n",
       "      <th>street_address</th>\n",
       "      <th>city</th>\n",
       "      <th>county</th>\n",
       "      <th>state</th>\n",
       "      <th>zip</th>\n",
       "      <th>primsource</th>\n",
       "      <th>source_desc</th>\n",
       "      <th>tech_desc</th>\n",
       "      <th>install_mw</th>\n",
       "      <th>total_mw</th>\n",
       "      <th>bat_mw</th>\n",
       "      <th>bio_mw</th>\n",
       "      <th>coal_mw</th>\n",
       "      <th>geo_mw</th>\n",
       "      <th>hydro_mw</th>\n",
       "      <th>hydrops_mw</th>\n",
       "      <th>ng_mw</th>\n",
       "      <th>nuclear_mw</th>\n",
       "      <th>crude_mw</th>\n",
       "      <th>solar_mw</th>\n",
       "      <th>wind_mw</th>\n",
       "      <th>other_mw</th>\n",
       "      <th>source</th>\n",
       "      <th>period</th>\n",
       "      <th>longitude</th>\n",
       "      <th>latitude</th>\n",
       "      <th>geometry</th>\n",
       "    </tr>\n",
       "  </thead>\n",
       "  <tbody>\n",
       "    <tr>\n",
       "      <th>19</th>\n",
       "      <td>11589</td>\n",
       "      <td>34</td>\n",
       "      <td>Rollins</td>\n",
       "      <td>13402</td>\n",
       "      <td>Nevada Irrigation District</td>\n",
       "      <td>IPP Non-CHP</td>\n",
       "      <td>15531 Arrow Head Lane</td>\n",
       "      <td>Colfax</td>\n",
       "      <td>Placer</td>\n",
       "      <td>California</td>\n",
       "      <td>95713.0</td>\n",
       "      <td>hydroelectric</td>\n",
       "      <td>Hydroelectric = 12.1 MW</td>\n",
       "      <td>Conventional Hydroelectric</td>\n",
       "      <td>12.1</td>\n",
       "      <td>12.1</td>\n",
       "      <td>NaN</td>\n",
       "      <td>NaN</td>\n",
       "      <td>NaN</td>\n",
       "      <td>NaN</td>\n",
       "      <td>12.1</td>\n",
       "      <td>NaN</td>\n",
       "      <td>NaN</td>\n",
       "      <td>NaN</td>\n",
       "      <td>NaN</td>\n",
       "      <td>NaN</td>\n",
       "      <td>NaN</td>\n",
       "      <td>NaN</td>\n",
       "      <td>EIA-860, EIA-860M and EIA-923</td>\n",
       "      <td>202305.0</td>\n",
       "      <td>-120.953341</td>\n",
       "      <td>39.134259</td>\n",
       "      <td>POINT (-120.95334 39.13426)</td>\n",
       "    </tr>\n",
       "    <tr>\n",
       "      <th>38</th>\n",
       "      <td>11608</td>\n",
       "      <td>72</td>\n",
       "      <td>Venice Hydro</td>\n",
       "      <td>12397</td>\n",
       "      <td>Metropolitan Water District of S CA</td>\n",
       "      <td>Electric Utility</td>\n",
       "      <td>3815 Sepulveda Blvd</td>\n",
       "      <td>Culver City</td>\n",
       "      <td>Los Angeles</td>\n",
       "      <td>California</td>\n",
       "      <td>90230.0</td>\n",
       "      <td>hydroelectric</td>\n",
       "      <td>Hydroelectric = 10.1 MW</td>\n",
       "      <td>Conventional Hydroelectric</td>\n",
       "      <td>10.1</td>\n",
       "      <td>10.1</td>\n",
       "      <td>NaN</td>\n",
       "      <td>NaN</td>\n",
       "      <td>NaN</td>\n",
       "      <td>NaN</td>\n",
       "      <td>10.1</td>\n",
       "      <td>NaN</td>\n",
       "      <td>NaN</td>\n",
       "      <td>NaN</td>\n",
       "      <td>NaN</td>\n",
       "      <td>NaN</td>\n",
       "      <td>NaN</td>\n",
       "      <td>NaN</td>\n",
       "      <td>EIA-860, EIA-860M and EIA-923</td>\n",
       "      <td>202305.0</td>\n",
       "      <td>-118.416800</td>\n",
       "      <td>34.011350</td>\n",
       "      <td>POINT (-118.41680 34.01135)</td>\n",
       "    </tr>\n",
       "    <tr>\n",
       "      <th>54</th>\n",
       "      <td>11624</td>\n",
       "      <td>104</td>\n",
       "      <td>J S Eastwood</td>\n",
       "      <td>17609</td>\n",
       "      <td>Southern California Edison Co</td>\n",
       "      <td>Electric Utility</td>\n",
       "      <td>Hwy 168 Sierra National Forest</td>\n",
       "      <td>Shaver Lake</td>\n",
       "      <td>Fresno</td>\n",
       "      <td>California</td>\n",
       "      <td>93664.0</td>\n",
       "      <td>pumped storage</td>\n",
       "      <td>Pumped Storage = 199.8 MW</td>\n",
       "      <td>Hydroelectric Pumped Storage</td>\n",
       "      <td>199.8</td>\n",
       "      <td>199.8</td>\n",
       "      <td>NaN</td>\n",
       "      <td>NaN</td>\n",
       "      <td>NaN</td>\n",
       "      <td>NaN</td>\n",
       "      <td>NaN</td>\n",
       "      <td>199.8</td>\n",
       "      <td>NaN</td>\n",
       "      <td>NaN</td>\n",
       "      <td>NaN</td>\n",
       "      <td>NaN</td>\n",
       "      <td>NaN</td>\n",
       "      <td>NaN</td>\n",
       "      <td>EIA-860, EIA-860M and EIA-923</td>\n",
       "      <td>202305.0</td>\n",
       "      <td>-119.256700</td>\n",
       "      <td>37.147926</td>\n",
       "      <td>POINT (-119.25670 37.14793)</td>\n",
       "    </tr>\n",
       "    <tr>\n",
       "      <th>74</th>\n",
       "      <td>11644</td>\n",
       "      <td>151</td>\n",
       "      <td>McClure</td>\n",
       "      <td>12745</td>\n",
       "      <td>Modesto Irrigation District</td>\n",
       "      <td>Electric Utility</td>\n",
       "      <td>639 S. McClure Rd.</td>\n",
       "      <td>Modesto</td>\n",
       "      <td>Stanislaus</td>\n",
       "      <td>California</td>\n",
       "      <td>95354.0</td>\n",
       "      <td>natural gas</td>\n",
       "      <td>Natural Gas = 53.5 MW, Petroleum = 53.5 MW</td>\n",
       "      <td>Natural Gas Fired Combustion Turbine; Petroleu...</td>\n",
       "      <td>142.4</td>\n",
       "      <td>107.0</td>\n",
       "      <td>NaN</td>\n",
       "      <td>NaN</td>\n",
       "      <td>NaN</td>\n",
       "      <td>NaN</td>\n",
       "      <td>NaN</td>\n",
       "      <td>NaN</td>\n",
       "      <td>53.5</td>\n",
       "      <td>NaN</td>\n",
       "      <td>53.5</td>\n",
       "      <td>NaN</td>\n",
       "      <td>NaN</td>\n",
       "      <td>NaN</td>\n",
       "      <td>EIA-860, EIA-860M and EIA-923</td>\n",
       "      <td>202305.0</td>\n",
       "      <td>-120.931390</td>\n",
       "      <td>37.629360</td>\n",
       "      <td>POINT (-120.93139 37.62936)</td>\n",
       "    </tr>\n",
       "    <tr>\n",
       "      <th>80</th>\n",
       "      <td>11650</td>\n",
       "      <td>161</td>\n",
       "      <td>Turlock Lake</td>\n",
       "      <td>19281</td>\n",
       "      <td>Turlock Irrigation District</td>\n",
       "      <td>Electric Utility</td>\n",
       "      <td>21642 Davis Road</td>\n",
       "      <td>Hickman</td>\n",
       "      <td>Stanislaus</td>\n",
       "      <td>California</td>\n",
       "      <td>95323.0</td>\n",
       "      <td>hydroelectric</td>\n",
       "      <td>Hydroelectric = 3.3 MW</td>\n",
       "      <td>Conventional Hydroelectric</td>\n",
       "      <td>3.3</td>\n",
       "      <td>3.3</td>\n",
       "      <td>NaN</td>\n",
       "      <td>NaN</td>\n",
       "      <td>NaN</td>\n",
       "      <td>NaN</td>\n",
       "      <td>3.3</td>\n",
       "      <td>NaN</td>\n",
       "      <td>NaN</td>\n",
       "      <td>NaN</td>\n",
       "      <td>NaN</td>\n",
       "      <td>NaN</td>\n",
       "      <td>NaN</td>\n",
       "      <td>NaN</td>\n",
       "      <td>EIA-860, EIA-860M and EIA-923</td>\n",
       "      <td>202305.0</td>\n",
       "      <td>-120.594678</td>\n",
       "      <td>37.611461</td>\n",
       "      <td>POINT (-120.59468 37.61146)</td>\n",
       "    </tr>\n",
       "    <tr>\n",
       "      <th>...</th>\n",
       "      <td>...</td>\n",
       "      <td>...</td>\n",
       "      <td>...</td>\n",
       "      <td>...</td>\n",
       "      <td>...</td>\n",
       "      <td>...</td>\n",
       "      <td>...</td>\n",
       "      <td>...</td>\n",
       "      <td>...</td>\n",
       "      <td>...</td>\n",
       "      <td>...</td>\n",
       "      <td>...</td>\n",
       "      <td>...</td>\n",
       "      <td>...</td>\n",
       "      <td>...</td>\n",
       "      <td>...</td>\n",
       "      <td>...</td>\n",
       "      <td>...</td>\n",
       "      <td>...</td>\n",
       "      <td>...</td>\n",
       "      <td>...</td>\n",
       "      <td>...</td>\n",
       "      <td>...</td>\n",
       "      <td>...</td>\n",
       "      <td>...</td>\n",
       "      <td>...</td>\n",
       "      <td>...</td>\n",
       "      <td>...</td>\n",
       "      <td>...</td>\n",
       "      <td>...</td>\n",
       "      <td>...</td>\n",
       "      <td>...</td>\n",
       "      <td>...</td>\n",
       "    </tr>\n",
       "    <tr>\n",
       "      <th>11931</th>\n",
       "      <td>23500</td>\n",
       "      <td>66472</td>\n",
       "      <td>San Manuel Central Plant Cogens</td>\n",
       "      <td>65525</td>\n",
       "      <td>San Manuel Mission Band of Indians</td>\n",
       "      <td>Industrial CHP</td>\n",
       "      <td>777 San Manuel Blvd.</td>\n",
       "      <td>Highland</td>\n",
       "      <td>San Bernardino</td>\n",
       "      <td>California</td>\n",
       "      <td>92346.0</td>\n",
       "      <td>natural gas</td>\n",
       "      <td>Natural Gas = 5 MW</td>\n",
       "      <td>Natural Gas Internal Combustion Engine</td>\n",
       "      <td>5.4</td>\n",
       "      <td>5.0</td>\n",
       "      <td>NaN</td>\n",
       "      <td>NaN</td>\n",
       "      <td>NaN</td>\n",
       "      <td>NaN</td>\n",
       "      <td>NaN</td>\n",
       "      <td>NaN</td>\n",
       "      <td>5.0</td>\n",
       "      <td>NaN</td>\n",
       "      <td>NaN</td>\n",
       "      <td>NaN</td>\n",
       "      <td>NaN</td>\n",
       "      <td>NaN</td>\n",
       "      <td>EIA-860, EIA-860M and EIA-923</td>\n",
       "      <td>202305.0</td>\n",
       "      <td>-117.230250</td>\n",
       "      <td>34.151193</td>\n",
       "      <td>POINT (-117.23025 34.15119)</td>\n",
       "    </tr>\n",
       "    <tr>\n",
       "      <th>11942</th>\n",
       "      <td>23511</td>\n",
       "      <td>66492</td>\n",
       "      <td>Henry Miller RD</td>\n",
       "      <td>65537</td>\n",
       "      <td>Henry Miller Reclamation District</td>\n",
       "      <td>Commercial Non-CHP</td>\n",
       "      <td>7767 Santa Rita Grade</td>\n",
       "      <td>Dos Palos</td>\n",
       "      <td>Merced</td>\n",
       "      <td>California</td>\n",
       "      <td>93620.0</td>\n",
       "      <td>solar</td>\n",
       "      <td>Solar = 1.5 MW</td>\n",
       "      <td>Solar Photovoltaic</td>\n",
       "      <td>1.5</td>\n",
       "      <td>1.5</td>\n",
       "      <td>NaN</td>\n",
       "      <td>NaN</td>\n",
       "      <td>NaN</td>\n",
       "      <td>NaN</td>\n",
       "      <td>NaN</td>\n",
       "      <td>NaN</td>\n",
       "      <td>NaN</td>\n",
       "      <td>NaN</td>\n",
       "      <td>NaN</td>\n",
       "      <td>1.5</td>\n",
       "      <td>NaN</td>\n",
       "      <td>NaN</td>\n",
       "      <td>EIA-860, EIA-860M and EIA-923</td>\n",
       "      <td>202305.0</td>\n",
       "      <td>-120.635230</td>\n",
       "      <td>37.054300</td>\n",
       "      <td>POINT (-120.63523 37.05430)</td>\n",
       "    </tr>\n",
       "    <tr>\n",
       "      <th>11944</th>\n",
       "      <td>23513</td>\n",
       "      <td>66500</td>\n",
       "      <td>Valley Center 85</td>\n",
       "      <td>65552</td>\n",
       "      <td>Terra-Gen Operating Co-BESS 2</td>\n",
       "      <td>IPP Non-CHP</td>\n",
       "      <td>29523 Valley Center Road</td>\n",
       "      <td>Valley Center</td>\n",
       "      <td>San Diego</td>\n",
       "      <td>California</td>\n",
       "      <td>92082.0</td>\n",
       "      <td>batteries</td>\n",
       "      <td>Battery = 85 MW</td>\n",
       "      <td>Batteries</td>\n",
       "      <td>85.0</td>\n",
       "      <td>85.0</td>\n",
       "      <td>85.0</td>\n",
       "      <td>NaN</td>\n",
       "      <td>NaN</td>\n",
       "      <td>NaN</td>\n",
       "      <td>NaN</td>\n",
       "      <td>NaN</td>\n",
       "      <td>NaN</td>\n",
       "      <td>NaN</td>\n",
       "      <td>NaN</td>\n",
       "      <td>NaN</td>\n",
       "      <td>NaN</td>\n",
       "      <td>NaN</td>\n",
       "      <td>EIA-860, EIA-860M and EIA-923</td>\n",
       "      <td>202305.0</td>\n",
       "      <td>-117.017744</td>\n",
       "      <td>33.227236</td>\n",
       "      <td>POINT (-117.01774 33.22724)</td>\n",
       "    </tr>\n",
       "    <tr>\n",
       "      <th>11946</th>\n",
       "      <td>23515</td>\n",
       "      <td>66502</td>\n",
       "      <td>Valley Center 54</td>\n",
       "      <td>65552</td>\n",
       "      <td>Terra-Gen Operating Co-BESS 2</td>\n",
       "      <td>IPP Non-CHP</td>\n",
       "      <td>29523 Valley Center Road</td>\n",
       "      <td>Valley Center</td>\n",
       "      <td>San Diego</td>\n",
       "      <td>California</td>\n",
       "      <td>92082.0</td>\n",
       "      <td>batteries</td>\n",
       "      <td>Battery = 54 MW</td>\n",
       "      <td>Batteries</td>\n",
       "      <td>54.0</td>\n",
       "      <td>54.0</td>\n",
       "      <td>54.0</td>\n",
       "      <td>NaN</td>\n",
       "      <td>NaN</td>\n",
       "      <td>NaN</td>\n",
       "      <td>NaN</td>\n",
       "      <td>NaN</td>\n",
       "      <td>NaN</td>\n",
       "      <td>NaN</td>\n",
       "      <td>NaN</td>\n",
       "      <td>NaN</td>\n",
       "      <td>NaN</td>\n",
       "      <td>NaN</td>\n",
       "      <td>EIA-860, EIA-860M and EIA-923</td>\n",
       "      <td>202305.0</td>\n",
       "      <td>-117.017744</td>\n",
       "      <td>33.227236</td>\n",
       "      <td>POINT (-117.01774 33.22724)</td>\n",
       "    </tr>\n",
       "    <tr>\n",
       "      <th>11992</th>\n",
       "      <td>23561</td>\n",
       "      <td>66622</td>\n",
       "      <td>9150 Hermosa Solar GM</td>\n",
       "      <td>61980</td>\n",
       "      <td>Valta Energy</td>\n",
       "      <td>IPP Non-CHP</td>\n",
       "      <td>NaN</td>\n",
       "      <td>NaN</td>\n",
       "      <td>NaN</td>\n",
       "      <td>California</td>\n",
       "      <td>NaN</td>\n",
       "      <td>solar</td>\n",
       "      <td>Solar = 1.3 MW</td>\n",
       "      <td>Solar Photovoltaic</td>\n",
       "      <td>1.3</td>\n",
       "      <td>1.3</td>\n",
       "      <td>NaN</td>\n",
       "      <td>NaN</td>\n",
       "      <td>NaN</td>\n",
       "      <td>NaN</td>\n",
       "      <td>NaN</td>\n",
       "      <td>NaN</td>\n",
       "      <td>NaN</td>\n",
       "      <td>NaN</td>\n",
       "      <td>NaN</td>\n",
       "      <td>1.3</td>\n",
       "      <td>NaN</td>\n",
       "      <td>NaN</td>\n",
       "      <td>EIA-860, EIA-860M and EIA-923</td>\n",
       "      <td>202305.0</td>\n",
       "      <td>-117.587200</td>\n",
       "      <td>34.087800</td>\n",
       "      <td>POINT (-117.58720 34.08780)</td>\n",
       "    </tr>\n",
       "  </tbody>\n",
       "</table>\n",
       "<p>1677 rows × 33 columns</p>\n",
       "</div>"
      ],
      "text/plain": [
       "      objectid plant_code                       plant_name utility_id  \\\n",
       "19       11589         34                          Rollins      13402   \n",
       "38       11608         72                     Venice Hydro      12397   \n",
       "54       11624        104                     J S Eastwood      17609   \n",
       "74       11644        151                          McClure      12745   \n",
       "80       11650        161                     Turlock Lake      19281   \n",
       "...        ...        ...                              ...        ...   \n",
       "11931    23500      66472  San Manuel Central Plant Cogens      65525   \n",
       "11942    23511      66492                  Henry Miller RD      65537   \n",
       "11944    23513      66500                 Valley Center 85      65552   \n",
       "11946    23515      66502                 Valley Center 54      65552   \n",
       "11992    23561      66622            9150 Hermosa Solar GM      61980   \n",
       "\n",
       "                              utility_name         sector_name  \\\n",
       "19              Nevada Irrigation District         IPP Non-CHP   \n",
       "38     Metropolitan Water District of S CA    Electric Utility   \n",
       "54           Southern California Edison Co    Electric Utility   \n",
       "74             Modesto Irrigation District    Electric Utility   \n",
       "80             Turlock Irrigation District    Electric Utility   \n",
       "...                                    ...                 ...   \n",
       "11931   San Manuel Mission Band of Indians      Industrial CHP   \n",
       "11942    Henry Miller Reclamation District  Commercial Non-CHP   \n",
       "11944        Terra-Gen Operating Co-BESS 2         IPP Non-CHP   \n",
       "11946        Terra-Gen Operating Co-BESS 2         IPP Non-CHP   \n",
       "11992                         Valta Energy         IPP Non-CHP   \n",
       "\n",
       "                       street_address           city          county  \\\n",
       "19              15531 Arrow Head Lane         Colfax          Placer   \n",
       "38                3815 Sepulveda Blvd    Culver City     Los Angeles   \n",
       "54     Hwy 168 Sierra National Forest    Shaver Lake          Fresno   \n",
       "74                 639 S. McClure Rd.        Modesto      Stanislaus   \n",
       "80                   21642 Davis Road        Hickman      Stanislaus   \n",
       "...                               ...            ...             ...   \n",
       "11931            777 San Manuel Blvd.       Highland  San Bernardino   \n",
       "11942           7767 Santa Rita Grade      Dos Palos          Merced   \n",
       "11944        29523 Valley Center Road  Valley Center       San Diego   \n",
       "11946        29523 Valley Center Road  Valley Center       San Diego   \n",
       "11992                             NaN            NaN             NaN   \n",
       "\n",
       "            state      zip      primsource  \\\n",
       "19     California  95713.0   hydroelectric   \n",
       "38     California  90230.0   hydroelectric   \n",
       "54     California  93664.0  pumped storage   \n",
       "74     California  95354.0     natural gas   \n",
       "80     California  95323.0   hydroelectric   \n",
       "...           ...      ...             ...   \n",
       "11931  California  92346.0     natural gas   \n",
       "11942  California  93620.0           solar   \n",
       "11944  California  92082.0       batteries   \n",
       "11946  California  92082.0       batteries   \n",
       "11992  California      NaN           solar   \n",
       "\n",
       "                                      source_desc  \\\n",
       "19                        Hydroelectric = 12.1 MW   \n",
       "38                        Hydroelectric = 10.1 MW   \n",
       "54                      Pumped Storage = 199.8 MW   \n",
       "74     Natural Gas = 53.5 MW, Petroleum = 53.5 MW   \n",
       "80                         Hydroelectric = 3.3 MW   \n",
       "...                                           ...   \n",
       "11931                          Natural Gas = 5 MW   \n",
       "11942                              Solar = 1.5 MW   \n",
       "11944                             Battery = 85 MW   \n",
       "11946                             Battery = 54 MW   \n",
       "11992                              Solar = 1.3 MW   \n",
       "\n",
       "                                               tech_desc  install_mw  \\\n",
       "19                            Conventional Hydroelectric        12.1   \n",
       "38                            Conventional Hydroelectric        10.1   \n",
       "54                          Hydroelectric Pumped Storage       199.8   \n",
       "74     Natural Gas Fired Combustion Turbine; Petroleu...       142.4   \n",
       "80                            Conventional Hydroelectric         3.3   \n",
       "...                                                  ...         ...   \n",
       "11931             Natural Gas Internal Combustion Engine         5.4   \n",
       "11942                                 Solar Photovoltaic         1.5   \n",
       "11944                                          Batteries        85.0   \n",
       "11946                                          Batteries        54.0   \n",
       "11992                                 Solar Photovoltaic         1.3   \n",
       "\n",
       "       total_mw  bat_mw  bio_mw  coal_mw  geo_mw  hydro_mw  hydrops_mw  ng_mw  \\\n",
       "19         12.1     NaN     NaN      NaN     NaN      12.1         NaN    NaN   \n",
       "38         10.1     NaN     NaN      NaN     NaN      10.1         NaN    NaN   \n",
       "54        199.8     NaN     NaN      NaN     NaN       NaN       199.8    NaN   \n",
       "74        107.0     NaN     NaN      NaN     NaN       NaN         NaN   53.5   \n",
       "80          3.3     NaN     NaN      NaN     NaN       3.3         NaN    NaN   \n",
       "...         ...     ...     ...      ...     ...       ...         ...    ...   \n",
       "11931       5.0     NaN     NaN      NaN     NaN       NaN         NaN    5.0   \n",
       "11942       1.5     NaN     NaN      NaN     NaN       NaN         NaN    NaN   \n",
       "11944      85.0    85.0     NaN      NaN     NaN       NaN         NaN    NaN   \n",
       "11946      54.0    54.0     NaN      NaN     NaN       NaN         NaN    NaN   \n",
       "11992       1.3     NaN     NaN      NaN     NaN       NaN         NaN    NaN   \n",
       "\n",
       "      nuclear_mw  crude_mw  solar_mw  wind_mw  other_mw  \\\n",
       "19           NaN       NaN       NaN      NaN       NaN   \n",
       "38           NaN       NaN       NaN      NaN       NaN   \n",
       "54           NaN       NaN       NaN      NaN       NaN   \n",
       "74           NaN      53.5       NaN      NaN       NaN   \n",
       "80           NaN       NaN       NaN      NaN       NaN   \n",
       "...          ...       ...       ...      ...       ...   \n",
       "11931        NaN       NaN       NaN      NaN       NaN   \n",
       "11942        NaN       NaN       1.5      NaN       NaN   \n",
       "11944        NaN       NaN       NaN      NaN       NaN   \n",
       "11946        NaN       NaN       NaN      NaN       NaN   \n",
       "11992        NaN       NaN       1.3      NaN       NaN   \n",
       "\n",
       "                              source    period   longitude   latitude  \\\n",
       "19     EIA-860, EIA-860M and EIA-923  202305.0 -120.953341  39.134259   \n",
       "38     EIA-860, EIA-860M and EIA-923  202305.0 -118.416800  34.011350   \n",
       "54     EIA-860, EIA-860M and EIA-923  202305.0 -119.256700  37.147926   \n",
       "74     EIA-860, EIA-860M and EIA-923  202305.0 -120.931390  37.629360   \n",
       "80     EIA-860, EIA-860M and EIA-923  202305.0 -120.594678  37.611461   \n",
       "...                              ...       ...         ...        ...   \n",
       "11931  EIA-860, EIA-860M and EIA-923  202305.0 -117.230250  34.151193   \n",
       "11942  EIA-860, EIA-860M and EIA-923  202305.0 -120.635230  37.054300   \n",
       "11944  EIA-860, EIA-860M and EIA-923  202305.0 -117.017744  33.227236   \n",
       "11946  EIA-860, EIA-860M and EIA-923  202305.0 -117.017744  33.227236   \n",
       "11992  EIA-860, EIA-860M and EIA-923  202305.0 -117.587200  34.087800   \n",
       "\n",
       "                          geometry  \n",
       "19     POINT (-120.95334 39.13426)  \n",
       "38     POINT (-118.41680 34.01135)  \n",
       "54     POINT (-119.25670 37.14793)  \n",
       "74     POINT (-120.93139 37.62936)  \n",
       "80     POINT (-120.59468 37.61146)  \n",
       "...                            ...  \n",
       "11931  POINT (-117.23025 34.15119)  \n",
       "11942  POINT (-120.63523 37.05430)  \n",
       "11944  POINT (-117.01774 33.22724)  \n",
       "11946  POINT (-117.01774 33.22724)  \n",
       "11992  POINT (-117.58720 34.08780)  \n",
       "\n",
       "[1677 rows x 33 columns]"
      ]
     },
     "execution_count": 73,
     "metadata": {},
     "output_type": "execute_result"
    }
   ],
   "source": [
    "ca_power_plants"
   ]
  },
  {
   "cell_type": "code",
   "execution_count": 63,
   "id": "98448b01-090a-4ec6-9718-0b6dce13ebb0",
   "metadata": {
    "tags": []
   },
   "outputs": [
    {
     "data": {
      "text/plain": [
       "['solar', 'natural gas', 'hydroelectric']"
      ]
     },
     "execution_count": 63,
     "metadata": {},
     "output_type": "execute_result"
    }
   ],
   "source": [
    "# Create a list with top sources\n",
    "\n",
    "top_sources = list(power_plants['primsource'].value_counts()\n",
    "                                .index[:3]\n",
    "                                .tolist()\n",
    "                                )\n",
    "\n",
    "top_sources"
   ]
  },
  {
   "cell_type": "code",
   "execution_count": 74,
   "id": "23ce6494-8bf2-420f-9160-5b5e3dbf8d01",
   "metadata": {
    "tags": []
   },
   "outputs": [
    {
     "data": {
      "text/plain": [
       "<Axes: >"
      ]
     },
     "execution_count": 74,
     "metadata": {},
     "output_type": "execute_result"
    },
    {
     "data": {
      "image/png": "[encoded data removed]",
      "text/plain": [
       "<Figure size 640x480 with 1 Axes>"
      ]
     },
     "metadata": {},
     "output_type": "display_data"
    }
   ],
   "source": [
    "ca_power_plants.plot()"
   ]
  },
  {
   "cell_type": "code",
   "execution_count": 71,
   "id": "11108b03-5541-441a-8d43-09c04e48b65c",
   "metadata": {
    "tags": []
   },
   "outputs": [
    {
     "data": {
      "text/plain": [
       "<Axes: >"
      ]
     },
     "execution_count": 71,
     "metadata": {},
     "output_type": "execute_result"
    },
    {
     "data": {
      "image/png": "[encoded data removed]",
      "text/plain": [
       "<Figure size 640x480 with 1 Axes>"
      ]
     },
     "metadata": {},
     "output_type": "display_data"
    }
   ],
   "source": [
    "ca = states [(states['name'] == 'California')]\n",
    "\n",
    "ca.plot()"
   ]
  },
  {
   "cell_type": "code",
   "execution_count": 93,
   "id": "1df67e25-2e24-47d7-bc77-9788ce999a53",
   "metadata": {
    "tags": []
   },
   "outputs": [
    {
     "data": {
      "image/png": "[encoded data removed]",
      "text/plain": [
       "<Figure size 600x300 with 3 Axes>"
      ]
     },
     "metadata": {},
     "output_type": "display_data"
    }
   ],
   "source": [
    "# Create plot\n",
    "\n",
    "fig, axes = plt.subplots(nrows = 1, ncols =3, figsize = (6,3))\n",
    "\n",
    "for ax, source in zip(axes, top_sources):\n",
    "    ca.plot(ax=ax,\n",
    "                     color='none')\n",
    "    # Select points for the source\n",
    "    subset = ca_power_plants[ca_power_plants.primsource == source]\n",
    "    subset.plot(ax=ax, markersize=0.5)\n",
    "    ax.set_title(source)\n",
    "    ax.axis('off')"
   ]
  },
  {
   "cell_type": "markdown",
   "id": "e9d3ef13-1399-4e61-8366-629e65244227",
   "metadata": {},
   "source": [
    "## Functions\n",
    "What about the other states? We create a function!\n",
    "\n",
    "Functions in python are blocks of reusable code deisgned to perform specific tasts and make your code more modular and organized \n",
    "\n",
    "Docstring talks about the function\n",
    "the general syntax:\n",
    "\n",
    "```python\n",
    "def function_name(parameter_1, ..., paremeter_n):\n",
    "    \"\"\"Docstring\"\"\"\n",
    "    <body of the function>\n",
    "    return value # Depends on the function\n",
    "```\n",
    "\n",
    "Example:\n",
    "\n",
    "A simple function with a one-line docstring and no return values.\n"
   ]
  },
  {
   "cell_type": "code",
   "execution_count": 98,
   "id": "415d6c49-6af4-46f4-a73a-01af4e849c6f",
   "metadata": {
    "tags": []
   },
   "outputs": [
    {
     "name": "stdout",
     "output_type": "stream",
     "text": [
      "Hello, welcome to the class!\n"
     ]
    }
   ],
   "source": [
    "# Create function\n",
    "\n",
    "def greet():\n",
    "    \"\"\"Print a greeting message\"\"\"\n",
    "    print('Hello, welcome to the class!')\n",
    "\n",
    "greet()"
   ]
  },
  {
   "cell_type": "markdown",
   "id": "f461fc1e-579e-4184-946c-f186606e3f5d",
   "metadata": {},
   "source": [
    "Example 2:\n",
    "\n",
    "A function with a more detailed docstring and a return value"
   ]
  },
  {
   "cell_type": "code",
   "execution_count": 104,
   "id": "1763cd9b-26c2-4573-8f58-8d16344867b7",
   "metadata": {
    "tags": []
   },
   "outputs": [
    {
     "data": {
      "text/plain": [
       "78.53975"
      ]
     },
     "execution_count": 104,
     "metadata": {},
     "output_type": "execute_result"
    }
   ],
   "source": [
    "# A function with a parameter \n",
    "\n",
    "def circle_area(radius):\n",
    "    \"\"\"\n",
    "    Calculate the area of a circle given its radius.\n",
    "    \n",
    "    Args:\n",
    "        radius(float): The radius of the circle \n",
    "    Returns:\n",
    "        float: The area of the circle, calculated as pi * radius^2\n",
    "    \"\"\"\n",
    "    area = 3.14159 * radius ** 2\n",
    "    return area\n",
    "\n",
    "circle_area(5)"
   ]
  },
  {
   "cell_type": "markdown",
   "id": "6bcdba48-fd8c-472a-b197-6479aa6ab251",
   "metadata": {},
   "source": [
    "## Example\n",
    "\n",
    "Going back to our power_plants data frames, let's create a function that will give us the top 3 primary sources for a given state"
   ]
  },
  {
   "cell_type": "code",
   "execution_count": 107,
   "id": "326b9e5e-f5d8-4f0e-b6da-558885ca5cf2",
   "metadata": {
    "tags": []
   },
   "outputs": [],
   "source": [
    "# We need to replace california with something else\n",
    "\n",
    "def top3_sources(state):\n",
    "\n",
    "    state_power_plants = power_plants[power_plants['state'] == state]\n",
    "    top_sources = list(power_plants['primsource'].value_counts().index[:3].tolist())\n",
    "    return top_sources"
   ]
  },
  {
   "cell_type": "code",
   "execution_count": 108,
   "id": "61ae0a5f-c004-475e-b942-d1dcc385d0a8",
   "metadata": {
    "tags": []
   },
   "outputs": [
    {
     "data": {
      "text/plain": [
       "['solar', 'natural gas', 'hydroelectric']"
      ]
     },
     "execution_count": 108,
     "metadata": {},
     "output_type": "execute_result"
    }
   ],
   "source": [
    "# Then it will fill it in \n",
    "top3_sources('New York')"
   ]
  }
 ],
 "metadata": {
  "kernelspec": {
   "display_name": "Anaconda 3 (EDS220)",
   "language": "python",
   "name": "eds220-env"
  },
  "language_info": {
   "codemirror_mode": {
    "name": "ipython",
    "version": 3
   },
   "file_extension": ".py",
   "mimetype": "text/x-python",
   "name": "python",
   "nbconvert_exporter": "python",
   "pygments_lexer": "ipython3",
   "version": "3.11.4"
  }
 },
 "nbformat": 4,
 "nbformat_minor": 5
}
