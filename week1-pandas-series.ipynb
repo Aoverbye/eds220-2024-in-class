{
 "cells": [
  {
   "cell_type": "markdown",
   "id": "401597a4-d246-453c-a8fa-8f88c348f0a1",
   "metadata": {},
   "source": [
    "# EDS220 Assignment Week 1: Panda Series and Data Frames\n",
    "\n",
    "From this [link](https://meds-eds-220.github.io/MEDS-eds-220-course/book/chapters/lesson-2-series-dataframes.html) \n"
   ]
  },
  {
   "cell_type": "code",
   "execution_count": 4,
   "id": "44dc181e-27f0-487e-9fa9-db588b576399",
   "metadata": {
    "tags": []
   },
   "outputs": [],
   "source": [
    "#importing libraries\n",
    "import pandas as pd\n",
    "import numpy as np"
   ]
  },
  {
   "cell_type": "markdown",
   "id": "d2db375b-8967-44f2-984b-28870efc3d8c",
   "metadata": {},
   "source": [
    "# Core Object: Series \n",
    "\n",
    "A **series** is a one-dimensional array of indexed data"
   ]
  },
  {
   "cell_type": "code",
   "execution_count": 5,
   "id": "2511d170-b0b6-4628-827f-931f04a84606",
   "metadata": {
    "tags": []
   },
   "outputs": [
    {
     "name": "stdout",
     "output_type": "stream",
     "text": [
      "<class 'numpy.ndarray'>\n",
      "[-0.49105361  1.58184133 -0.27201867 -0.64089814] \n",
      "\n",
      "<class 'pandas.core.series.Series'>\n",
      "0   -0.491054\n",
      "1    1.581841\n",
      "2   -0.272019\n",
      "3   -0.640898\n",
      "dtype: float64\n"
     ]
    }
   ],
   "source": [
    "# A numpy array\n",
    "arr = np.random.randn(4) # random values from std normal distribution\n",
    "print(type(arr))\n",
    "print(arr, \"\\n\")\n",
    "\n",
    "# A pandas series made from the previous array\n",
    "s = pd.Series(arr)\n",
    "print(type(s))\n",
    "print(s)"
   ]
  },
  {
   "cell_type": "markdown",
   "id": "d2b46946-853a-476d-9ecc-0f6b7ac3a541",
   "metadata": {},
   "source": [
    "A pandas series has an index as part of the data structure, whereas Numpy does not (even though Numpy is still indexable)."
   ]
  },
  {
   "cell_type": "markdown",
   "id": "67d7d63e-088b-485b-abf4-725a715afd62",
   "metadata": {},
   "source": [
    "### Creating a Pandas Series\n",
    "\n",
    "Basic method to create a pandas series: \n",
    "\n",
    "`s = pd.Series(data, index=index)`\n",
    "\n",
    "The \"data\" can be: \n",
    "- a list or NumPy array\n",
    "- a dictionary\n",
    "- a single number\n",
    "- boolean\n",
    "- string\n",
    "\n",
    "Index is optional, but the default is to make the index to 0? Because its python?"
   ]
  },
  {
   "cell_type": "code",
   "execution_count": 7,
   "id": "a5aa5e18-cbe7-4dc1-a633-4cfd964d0b82",
   "metadata": {
    "tags": []
   },
   "outputs": [
    {
     "data": {
      "text/plain": [
       "2023    0\n",
       "2024    1\n",
       "2025    2\n",
       "dtype: int64"
      ]
     },
     "execution_count": 7,
     "metadata": {},
     "output_type": "execute_result"
    }
   ],
   "source": [
    "# Creating a Panda series from a numpy array \n",
    "pd.Series(np.arange(3), index=[2023, 2024, 2025])"
   ]
  },
  {
   "cell_type": "code",
   "execution_count": 8,
   "id": "308172b1-1853-4368-90f8-c3f93c63d43b",
   "metadata": {
    "tags": []
   },
   "outputs": [
    {
     "data": {
      "text/plain": [
       "0    EDS 220\n",
       "1    EDS 222\n",
       "2    EDS 223\n",
       "3    EDS 242\n",
       "dtype: object"
      ]
     },
     "execution_count": 8,
     "metadata": {},
     "output_type": "execute_result"
    }
   ],
   "source": [
    "# Creating a Panda series from a list with default index\n",
    "pd.Series(['EDS 220', 'EDS 222', 'EDS 223', 'EDS 242'])"
   ]
  },
  {
   "cell_type": "code",
   "execution_count": 9,
   "id": "2fc84bb2-de18-48f5-bcf6-85c14ddb4fc5",
   "metadata": {
    "tags": []
   },
   "outputs": [
    {
     "data": {
      "text/plain": [
       "key_0    2\n",
       "key_1    3\n",
       "key_2    5\n",
       "dtype: object"
      ]
     },
     "execution_count": 9,
     "metadata": {},
     "output_type": "execute_result"
    }
   ],
   "source": [
    "# Creating Pandas series from dictionary \n",
    "\n",
    "d = {'key_0':2, 'key_1':'3', 'key_2':5}\n",
    "\n",
    "# Initialize series using a dictionary\n",
    "pd.Series(d)"
   ]
  },
  {
   "cell_type": "code",
   "execution_count": 10,
   "id": "65ce437b-91b0-431c-819b-f51de3abde97",
   "metadata": {
    "tags": []
   },
   "outputs": [
    {
     "data": {
      "text/plain": [
       "A    3.0\n",
       "B    3.0\n",
       "C    3.0\n",
       "dtype: float64"
      ]
     },
     "execution_count": 10,
     "metadata": {},
     "output_type": "execute_result"
    }
   ],
   "source": [
    "# Creating a Pandas.series from a single value \n",
    "pd.Series(3.0, index = ['A', 'B', 'C'])"
   ]
  },
  {
   "cell_type": "markdown",
   "id": "f8cbfdbd-0472-44d1-8dca-e9da32ac4a88",
   "metadata": {},
   "source": [
    "### Simple Operations/Arithmetic \n",
    "\n",
    "It works in series, ergo it works with most numpy"
   ]
  },
  {
   "cell_type": "code",
   "execution_count": 11,
   "id": "023c8cf5-2e6a-4ecf-a8f6-6224330197b7",
   "metadata": {
    "tags": []
   },
   "outputs": [
    {
     "name": "stdout",
     "output_type": "stream",
     "text": [
      "Andrea      9.8\n",
      "Beth        7.3\n",
      "Carolina    6.5\n",
      "dtype: float64 \n",
      "\n",
      "Andrea      3.637971e+42\n",
      "Beth        5.052394e+31\n",
      "Carolina    1.694889e+28\n",
      "dtype: float64 \n",
      "\n",
      "Andrea      98\n",
      "Beth        73\n",
      "Carolina    65\n",
      "dtype: int64\n"
     ]
    }
   ],
   "source": [
    "# Define a series\n",
    "s = pd.Series([98,73,65],index=['Andrea', 'Beth', 'Carolina'])\n",
    "\n",
    "# Divide each element in series by 10\n",
    "print(s /10, '\\n')\n",
    "\n",
    "# Take the exponential of each element in series\n",
    "print(np.exp(s), '\\n')\n",
    "\n",
    "# Original series is unchanged\n",
    "print(s)"
   ]
  },
  {
   "cell_type": "markdown",
   "id": "7ba18a88-3c54-444e-9caa-d95f8a46675e",
   "metadata": {
    "tags": []
   },
   "source": [
    "Creating a new `pandas.Series` with `True/False` values\n",
    "\n",
    "A simple condition that will be useful when getting data from data frames"
   ]
  },
  {
   "cell_type": "code",
   "execution_count": 13,
   "id": "7b0b88df-ea6f-46bd-98a5-cd96e1c32a21",
   "metadata": {
    "tags": []
   },
   "outputs": [
    {
     "data": {
      "text/plain": [
       "Andrea       True\n",
       "Beth         True\n",
       "Carolina    False\n",
       "dtype: bool"
      ]
     },
     "execution_count": 13,
     "metadata": {},
     "output_type": "execute_result"
    }
   ],
   "source": [
    "s > 70"
   ]
  },
  {
   "cell_type": "markdown",
   "id": "54dcf103-c5ca-4886-9d5b-9a0e5e703caa",
   "metadata": {},
   "source": [
    "### Identifying Missing Values\n",
    "\n",
    "Dealing with Nulls and Nas by using float value `numpy.nan` \n",
    "- Nan stands for \"not a number\"\n"
   ]
  },
  {
   "cell_type": "code",
   "execution_count": 14,
   "id": "e425ba16-65f4-45b4-803c-8100ea6e21eb",
   "metadata": {
    "tags": []
   },
   "outputs": [
    {
     "data": {
      "text/plain": [
       "0    1.0\n",
       "1    2.0\n",
       "2    NaN\n",
       "3    4.0\n",
       "4    NaN\n",
       "dtype: float64"
      ]
     },
     "execution_count": 14,
     "metadata": {},
     "output_type": "execute_result"
    }
   ],
   "source": [
    "# Making a series with NAs in it\n",
    "s = pd.Series([1, 2, np.nan, 4, np.nan])\n",
    "s"
   ]
  },
  {
   "cell_type": "code",
   "execution_count": 16,
   "id": "fa3345a2-43fa-46da-830b-c3eecf177f3c",
   "metadata": {
    "tags": []
   },
   "outputs": [
    {
     "data": {
      "text/plain": [
       "True"
      ]
     },
     "execution_count": 16,
     "metadata": {},
     "output_type": "execute_result"
    }
   ],
   "source": [
    "# Checking if the series has NAs, it will say True if it has Nas\n",
    "s.hasnans"
   ]
  },
  {
   "cell_type": "code",
   "execution_count": 17,
   "id": "c3318bf9-f0f4-441d-9a86-565e0537738d",
   "metadata": {
    "tags": []
   },
   "outputs": [
    {
     "data": {
      "text/plain": [
       "0    False\n",
       "1    False\n",
       "2     True\n",
       "3    False\n",
       "4     True\n",
       "dtype: bool"
      ]
     },
     "execution_count": 17,
     "metadata": {},
     "output_type": "execute_result"
    }
   ],
   "source": [
    "# Figuring out which element has the NAs\n",
    "\n",
    "s.isna()"
   ]
  }
 ],
 "metadata": {
  "kernelspec": {
   "display_name": "Anaconda 3 (Base)",
   "language": "python",
   "name": "base"
  },
  "language_info": {
   "codemirror_mode": {
    "name": "ipython",
    "version": 3
   },
   "file_extension": ".py",
   "mimetype": "text/x-python",
   "name": "python",
   "nbconvert_exporter": "python",
   "pygments_lexer": "ipython3",
   "version": "3.9.13"
  }
 },
 "nbformat": 4,
 "nbformat_minor": 5
}
