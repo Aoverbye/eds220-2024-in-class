{
 "cells": [
  {
   "cell_type": "markdown",
   "id": "50fa991c-e389-4763-a0d7-d49844ea1125",
   "metadata": {},
   "source": [
    "# Subsetting\n",
    "Review core mehtods to select data from a `pandas.DataFrame`\n",
    "\n",
    "## Read in CSV\n",
    "\n",
    "To read in a CSV into our Python workspace as `pandas.DataFrame` we use the `pandas.read.csv` function:\n"
   ]
  },
  {
   "cell_type": "code",
   "execution_count": 1,
   "id": "72db487e-5f7a-4c26-9a34-37d0ee989a90",
   "metadata": {
    "tags": []
   },
   "outputs": [
    {
     "data": {
      "text/html": [
       "<div>\n",
       "<style scoped>\n",
       "    .dataframe tbody tr th:only-of-type {\n",
       "        vertical-align: middle;\n",
       "    }\n",
       "\n",
       "    .dataframe tbody tr th {\n",
       "        vertical-align: top;\n",
       "    }\n",
       "\n",
       "    .dataframe thead th {\n",
       "        text-align: right;\n",
       "    }\n",
       "</style>\n",
       "<table border=\"1\" class=\"dataframe\">\n",
       "  <thead>\n",
       "    <tr style=\"text-align: right;\">\n",
       "      <th></th>\n",
       "      <th>year</th>\n",
       "      <th>CSM_winter</th>\n",
       "      <th>CSM_spring</th>\n",
       "      <th>CSM_fall</th>\n",
       "      <th>MUL_winter</th>\n",
       "      <th>MUL_spring</th>\n",
       "      <th>MUL_fall</th>\n",
       "      <th>SDW_winter</th>\n",
       "      <th>SDW_spring</th>\n",
       "      <th>SDW_fall</th>\n",
       "      <th>TJE_winter</th>\n",
       "      <th>TJE_spring</th>\n",
       "      <th>TJE_fall</th>\n",
       "    </tr>\n",
       "  </thead>\n",
       "  <tbody>\n",
       "    <tr>\n",
       "      <th>0</th>\n",
       "      <td>2010</td>\n",
       "      <td>39.0</td>\n",
       "      <td>40.0</td>\n",
       "      <td>50.0</td>\n",
       "      <td>45.0</td>\n",
       "      <td>NaN</td>\n",
       "      <td>61.0</td>\n",
       "      <td>NaN</td>\n",
       "      <td>75.0</td>\n",
       "      <td>85.0</td>\n",
       "      <td>NaN</td>\n",
       "      <td>NaN</td>\n",
       "      <td>81.0</td>\n",
       "    </tr>\n",
       "    <tr>\n",
       "      <th>1</th>\n",
       "      <td>2011</td>\n",
       "      <td>48.0</td>\n",
       "      <td>44.0</td>\n",
       "      <td>NaN</td>\n",
       "      <td>58.0</td>\n",
       "      <td>52.0</td>\n",
       "      <td>NaN</td>\n",
       "      <td>78.0</td>\n",
       "      <td>74.0</td>\n",
       "      <td>NaN</td>\n",
       "      <td>67.0</td>\n",
       "      <td>70.0</td>\n",
       "      <td>NaN</td>\n",
       "    </tr>\n",
       "    <tr>\n",
       "      <th>2</th>\n",
       "      <td>2012</td>\n",
       "      <td>51.0</td>\n",
       "      <td>43.0</td>\n",
       "      <td>49.0</td>\n",
       "      <td>57.0</td>\n",
       "      <td>58.0</td>\n",
       "      <td>53.0</td>\n",
       "      <td>71.0</td>\n",
       "      <td>72.0</td>\n",
       "      <td>73.0</td>\n",
       "      <td>70.0</td>\n",
       "      <td>63.0</td>\n",
       "      <td>69.0</td>\n",
       "    </tr>\n",
       "    <tr>\n",
       "      <th>3</th>\n",
       "      <td>2013</td>\n",
       "      <td>42.0</td>\n",
       "      <td>46.0</td>\n",
       "      <td>38.0</td>\n",
       "      <td>60.0</td>\n",
       "      <td>58.0</td>\n",
       "      <td>62.0</td>\n",
       "      <td>69.0</td>\n",
       "      <td>70.0</td>\n",
       "      <td>70.0</td>\n",
       "      <td>69.0</td>\n",
       "      <td>74.0</td>\n",
       "      <td>64.0</td>\n",
       "    </tr>\n",
       "    <tr>\n",
       "      <th>4</th>\n",
       "      <td>2014</td>\n",
       "      <td>38.0</td>\n",
       "      <td>43.0</td>\n",
       "      <td>45.0</td>\n",
       "      <td>49.0</td>\n",
       "      <td>52.0</td>\n",
       "      <td>57.0</td>\n",
       "      <td>61.0</td>\n",
       "      <td>78.0</td>\n",
       "      <td>71.0</td>\n",
       "      <td>60.0</td>\n",
       "      <td>81.0</td>\n",
       "      <td>62.0</td>\n",
       "    </tr>\n",
       "  </tbody>\n",
       "</table>\n",
       "</div>"
      ],
      "text/plain": [
       "   year  CSM_winter  CSM_spring  CSM_fall  MUL_winter  MUL_spring  MUL_fall  \\\n",
       "0  2010        39.0        40.0      50.0        45.0         NaN      61.0   \n",
       "1  2011        48.0        44.0       NaN        58.0        52.0       NaN   \n",
       "2  2012        51.0        43.0      49.0        57.0        58.0      53.0   \n",
       "3  2013        42.0        46.0      38.0        60.0        58.0      62.0   \n",
       "4  2014        38.0        43.0      45.0        49.0        52.0      57.0   \n",
       "\n",
       "   SDW_winter  SDW_spring  SDW_fall  TJE_winter  TJE_spring  TJE_fall  \n",
       "0         NaN        75.0      85.0         NaN         NaN      81.0  \n",
       "1        78.0        74.0       NaN        67.0        70.0       NaN  \n",
       "2        71.0        72.0      73.0        70.0        63.0      69.0  \n",
       "3        69.0        70.0      70.0        69.0        74.0      64.0  \n",
       "4        61.0        78.0      71.0        60.0        81.0      62.0  "
      ]
     },
     "execution_count": 1,
     "metadata": {},
     "output_type": "execute_result"
    }
   ],
   "source": [
    "import pandas as pd\n",
    "\n",
    "# Read in file, argument is the file path as a string\n",
    "df = pd.read_csv('data/wetlands_seasonal_bird_diversity.csv')\n",
    "\n",
    "# Print df's first five rows\n",
    "df.head()\n"
   ]
  },
  {
   "cell_type": "markdown",
   "id": "84faf0a4-c83a-4f89-9edf-eb4469efc8c9",
   "metadata": {},
   "source": [
    "### About the data\n",
    "Birds were surveyed in four wetlands:\n",
    "\n",
    "    -Carpinteria Salt Marsh (CSM)\n",
    "    -Mugu Lagoon (MULL)\n",
    "    -San Dieguito Wetland (SDW)\n",
    "    -Tijuana Estuary (TJE)\n",
    "    \n",
    "Values from second column to the last colum = the number of different bird species across the survey sites in each wetland during springm winter, and, fall, for a given year\n",
    "\n",
    "year column = year on which data was collected"
   ]
  },
  {
   "cell_type": "code",
   "execution_count": 2,
   "id": "3f8e7689-df74-47fe-ac80-4cecf84caddd",
   "metadata": {
    "tags": []
   },
   "outputs": [
    {
     "data": {
      "text/plain": [
       "Index(['year', 'CSM_winter', 'CSM_spring', 'CSM_fall', 'MUL_winter',\n",
       "       'MUL_spring', 'MUL_fall', 'SDW_winter', 'SDW_spring', 'SDW_fall',\n",
       "       'TJE_winter', 'TJE_spring', 'TJE_fall'],\n",
       "      dtype='object')"
      ]
     },
     "execution_count": 2,
     "metadata": {},
     "output_type": "execute_result"
    }
   ],
   "source": [
    "# Print dfs column names\n",
    "df.columns"
   ]
  },
  {
   "cell_type": "code",
   "execution_count": 3,
   "id": "fad630de-85dc-4f19-bfc7-556b51b8fcf4",
   "metadata": {
    "tags": []
   },
   "outputs": [
    {
     "data": {
      "text/plain": [
       "year            int64\n",
       "CSM_winter    float64\n",
       "CSM_spring    float64\n",
       "CSM_fall      float64\n",
       "MUL_winter    float64\n",
       "MUL_spring    float64\n",
       "MUL_fall      float64\n",
       "SDW_winter    float64\n",
       "SDW_spring    float64\n",
       "SDW_fall      float64\n",
       "TJE_winter    float64\n",
       "TJE_spring    float64\n",
       "TJE_fall      float64\n",
       "dtype: object"
      ]
     },
     "execution_count": 3,
     "metadata": {},
     "output_type": "execute_result"
    }
   ],
   "source": [
    "# List dtypes of each column\n",
    "df.dtypes"
   ]
  },
  {
   "cell_type": "code",
   "execution_count": 4,
   "id": "a64fe485-7ea3-4d45-a620-3b49099144dd",
   "metadata": {
    "tags": []
   },
   "outputs": [
    {
     "data": {
      "text/plain": [
       "(14, 13)"
      ]
     },
     "execution_count": 4,
     "metadata": {},
     "output_type": "execute_result"
    }
   ],
   "source": [
    "# Print df's shape output is a tople (# rows, # columns)\n",
    "df.shape"
   ]
  },
  {
   "cell_type": "markdown",
   "id": "2a7d97a4-b2a2-4055-8f80-466179c67a77",
   "metadata": {},
   "source": [
    "## Selecting a single column\n",
    "\n",
    "Simple case: select a single column by column name\n",
    "\n",
    "General syntax:\n",
    "```python\n",
    "df['column_name']\n",
    "```\n",
    "\n",
    "This is an example of **label-based subseting**, which means we want to select data from the data frame using ther names of the columns not by their position.\n",
    "\n",
    "### Example\n",
    "Select number of bird species observed at Mugu Lagoon in spring\n"
   ]
  },
  {
   "cell_type": "code",
   "execution_count": 5,
   "id": "5ca82af6-6d7b-42ef-8119-0850fc25a939",
   "metadata": {
    "tags": []
   },
   "outputs": [
    {
     "data": {
      "text/plain": [
       "0      NaN\n",
       "1     52.0\n",
       "2     58.0\n",
       "3     58.0\n",
       "4     52.0\n",
       "5     50.0\n",
       "6     48.0\n",
       "7     54.0\n",
       "8     54.0\n",
       "9     52.0\n",
       "10     NaN\n",
       "11    55.0\n",
       "12    55.0\n",
       "13    59.0\n",
       "Name: MUL_spring, dtype: float64"
      ]
     },
     "execution_count": 5,
     "metadata": {},
     "output_type": "execute_result"
    }
   ],
   "source": [
    "# Select a single column by using square brackets []\n",
    "mul_spring = df['MUL_spring']\n",
    "\n",
    "mul_spring\n",
    "\n",
    "# It is a pandas series"
   ]
  },
  {
   "cell_type": "code",
   "execution_count": 6,
   "id": "0882876d-2c90-463d-84fd-2ea121b37600",
   "metadata": {
    "tags": []
   },
   "outputs": [
    {
     "name": "stdout",
     "output_type": "stream",
     "text": [
      "<class 'pandas.core.series.Series'>\n"
     ]
    }
   ],
   "source": [
    "# Confirm the type of the output\n",
    "print(type(mul_spring))"
   ]
  },
  {
   "cell_type": "markdown",
   "id": "0d1ab54c-d212-4cf7-9676-eb24f3793a15",
   "metadata": {},
   "source": [
    "Recall: we can think of a `pandas.DataFrame` as a dictionry of its columns. \n",
    "Then, we can access a single column using the column name as the *key*, just like we would \n",
    "in a dictionary\n",
    "\n",
    "`df['column_name']`\n",
    "\n",
    "We can also do label-based subsetting of a single column using attribute syntax:\n",
    "```python\n",
    "df.column_name\n",
    "```\n",
    "Example:\n"
   ]
  },
  {
   "cell_type": "code",
   "execution_count": 7,
   "id": "0146c8e8-7995-4090-a28f-1647fff44a28",
   "metadata": {
    "tags": []
   },
   "outputs": [
    {
     "data": {
      "text/plain": [
       "0      NaN\n",
       "1     52.0\n",
       "2     58.0\n",
       "3     58.0\n",
       "4     52.0\n",
       "5     50.0\n",
       "6     48.0\n",
       "7     54.0\n",
       "8     54.0\n",
       "9     52.0\n",
       "10     NaN\n",
       "11    55.0\n",
       "12    55.0\n",
       "13    59.0\n",
       "Name: MUL_spring, dtype: float64"
      ]
     },
     "execution_count": 7,
     "metadata": {},
     "output_type": "execute_result"
    }
   ],
   "source": [
    "df.MUL_spring"
   ]
  },
  {
   "cell_type": "markdown",
   "id": "82659210-1c3a-43f9-92a4-170c7468681d",
   "metadata": {
    "tags": []
   },
   "source": [
    "**Favor df['column_name'] instead of df.column_name**\n",
    "\n",
    "Why?\n",
    "\n",
    "- `df[column_name]` avoids conflicts with `pd.DataFrames` methods and attributes. For example if `df` has a column named `count`, its ambigious whether `pd.count` is referring to the `count()` method or the `count` column \n",
    "- df['column_name']\n",
    "-`df.column_name` only works if the column name has no spaces or special characters\n",
    "\n",
    "## Selcting multiple columns...\n",
    "\n",
    "### ... using a list of column names\n",
    "\n",
    "select multiple columns in a single call by passing a list of column names to square brackets `[]`\n",
    "\n",
    "Second square brackets come from the list\n",
    "\n",
    "```python\n",
    "df[ [ 'col1,' 'col2', 'col3']]\n",
    "```\n",
    "\n",
    "Notice the \"double-brackets.\" This is because we are passing the list of names  [ 'col1,' 'col2', 'col3'] to selection brackets\n",
    "     \n",
    "     "
   ]
  },
  {
   "cell_type": "markdown",
   "id": "4291bed4-5977-46e7-a2c4-23c340069b1c",
   "metadata": {},
   "source": [
    "## Check-in \n",
    "\n",
    "Is this label based or location-based?\n",
    "\n",
    "### Example"
   ]
  },
  {
   "cell_type": "code",
   "execution_count": 8,
   "id": "5125cb22-6538-40db-83ee-08197b84315d",
   "metadata": {
    "tags": []
   },
   "outputs": [
    {
     "ename": "NameError",
     "evalue": "name 'TJE_wf' is not defined",
     "output_type": "error",
     "traceback": [
      "\u001b[0;31m---------------------------------------------------------------------------\u001b[0m",
      "\u001b[0;31mNameError\u001b[0m                                 Traceback (most recent call last)",
      "\u001b[0;32m/tmp/ipykernel_1604905/2757383036.py\u001b[0m in \u001b[0;36m<module>\u001b[0;34m\u001b[0m\n\u001b[1;32m      1\u001b[0m \u001b[0;31m# Select column with names 'TJE_winter' and 'TJE_fall'\u001b[0m\u001b[0;34m\u001b[0m\u001b[0;34m\u001b[0m\u001b[0m\n\u001b[1;32m      2\u001b[0m \u001b[0;34m\u001b[0m\u001b[0m\n\u001b[0;32m----> 3\u001b[0;31m \u001b[0mTJE_wf\u001b[0m\u001b[0;34m\u001b[0m\u001b[0;34m\u001b[0m\u001b[0m\n\u001b[0m",
      "\u001b[0;31mNameError\u001b[0m: name 'TJE_wf' is not defined"
     ]
    }
   ],
   "source": [
    "# Select column with names 'TJE_winter' and 'TJE_fall'\n",
    "\n",
    "TJE_wf"
   ]
  },
  {
   "cell_type": "markdown",
   "id": "e49ddb9c-4df0-46ef-a45d-f41ada38dbc5",
   "metadata": {},
   "source": [
    "### ...using a slice\n",
    "\n",
    "To select a slice of the columns we wwill use a special case of **`loc` selection**. General syntax:\n",
    "\n",
    "```python\n",
    "df.loc[ : , 'column_start':column_end']\n",
    "```\n",
    "\n",
    "`column_start` and `column_end` = the starting and ending points of the column slice we want to subset from the data frame. \n",
    "\n",
    "Notice\n",
    "\n",
    "- the first value passed to `loc` is used for selecting rows, using a colon ``:` as the row-selection parameter means \"select all the rows\"\n",
    "\n",
    "- the slice of the resulting data frame includes both endpoints of the slice"
   ]
  },
  {
   "cell_type": "code",
   "execution_count": null,
   "id": "199fa43c-9522-4bc1-985a-a7ce48289290",
   "metadata": {
    "tags": []
   },
   "outputs": [],
   "source": [
    "# Select columns between 'CSM_winter' and 'MUL_fall'\n",
    "csm_mul = df.loc[:, \"CSM_winter':'Mul_fall']\n",
    "csm_mul.head()"
   ]
  },
  {
   "cell_type": "markdown",
   "id": "ea3a0b94-af5c-46ad-b592-77d0841aa281",
   "metadata": {},
   "source": [
    "## Selecting rows ...\n",
    "### ...using a condition\n",
    "\n",
    "To select rows that satisfy a particular condition the general syntax is \n",
    "\n",
    "```python\n",
    "df[condition_on_rows]\n",
    "```\n",
    "\n",
    "The `condition_on_rows` can be many things, lets see some usual scenarios\n",
    "\n",
    "### Example\n",
    "\n",
    "We are interested in data after 2020 \n",
    "\"select all the roads after 2020\""
   ]
  },
  {
   "cell_type": "code",
   "execution_count": null,
   "id": "c9128738-9e67-4266-a37a-57848856ba62",
   "metadata": {
    "tags": []
   },
   "outputs": [],
   "source": [
    "# Select all rows with year > 2020\n",
    "post_2020 = df[df['year']>2020]\n",
    "post_2020"
   ]
  },
  {
   "cell_type": "markdown",
   "id": "394ebc8c-992d-47aa-815f-1ed89f9c5c52",
   "metadata": {},
   "source": [
    "condition for our rows = `df['year']>2020`\n",
    "this is a `pandas.Series` with booooolean values (`True` or `False`) indicating which rows satisfy the condition\n",
    "year>2020"
   ]
  },
  {
   "cell_type": "code",
   "execution_count": null,
   "id": "1ece82f5-26c3-4aa9-8a7f-c7c95f94e7ef",
   "metadata": {
    "tags": []
   },
   "outputs": [],
   "source": [
    "# Check the type of df['year']>2020\n",
    "print(type(df['year']>2020))\n",
    "\n",
    "# Pring boolean series \n",
    "df['year']>2020"
   ]
  },
  {
   "cell_type": "markdown",
   "id": "11d2215b-6145-4fe7-8f44-9d397727f056",
   "metadata": {},
   "source": [
    "Series is acting as a mask for the data frame"
   ]
  },
  {
   "cell_type": "code",
   "execution_count": null,
   "id": "23f0a881-aa95-4ff8-aed4-066b4711963e",
   "metadata": {},
   "outputs": [],
   "source": []
  },
  {
   "cell_type": "markdown",
   "id": "fec5f10f-6951-40a2-b3c2-436e6cad1d4e",
   "metadata": {},
   "source": [
    "When we pass such a series of boolean values to the selection brackets `[]` we keep only the \n",
    "that correspond to a `True` value\n",
    "\n",
    "## Check in \n",
    "Get the subset of the frame on which the sand dieguito wetlands jas at least 75 species during spring"
   ]
  },
  {
   "cell_type": "code",
   "execution_count": null,
   "id": "2927666d-f131-45f3-aed9-bb131f104b76",
   "metadata": {
    "tags": []
   },
   "outputs": [],
   "source": [
    "sdw_spring = df['SDW_spring']\n",
    "df_subset =df['SDW_spring']>= 75\n",
    "\n",
    "df_subset"
   ]
  },
  {
   "cell_type": "code",
   "execution_count": null,
   "id": "c3fc2575-eb3e-4929-86b0-e73d8d99cd47",
   "metadata": {
    "tags": []
   },
   "outputs": [],
   "source": [
    "sdw_spring1 = df[df['SDW_spring']>=75]"
   ]
  },
  {
   "cell_type": "code",
   "execution_count": null,
   "id": "58a4f312-3ff3-4fd3-b28e-5435dec3bc8b",
   "metadata": {
    "tags": []
   },
   "outputs": [],
   "source": [
    "df['SDW_spring']>=75"
   ]
  },
  {
   "cell_type": "markdown",
   "id": "353c0e54-1bb2-4780-8ee7-3b795130de0a",
   "metadata": {},
   "source": [
    "#### Example\n",
    "We want to look at data from years 2012 to 2015 including both years\n",
    "We can use this `between` method in our conditions:\n"
   ]
  },
  {
   "cell_type": "code",
   "execution_count": null,
   "id": "81aef282-22b2-4ea6-9819-47a434a61ca7",
   "metadata": {
    "tags": []
   },
   "outputs": [],
   "source": [
    "subset = df[ df['year'].between(2012,20150)]"
   ]
  },
  {
   "cell_type": "markdown",
   "id": "e5e2f8bb-0ae3-4e36-a515-b2b4b630ed1d",
   "metadata": {},
   "source": [
    "Let's break it down:\n",
    "\n",
    "1. df[`year`] = column with the year values, a `panda.Series`\n",
    "2. in `df['year'].beatween()` we are acessing a method for the `panda.Series` ueasing \",\"\n",
    "3. (2012,2015) = parameters tjos omcludes both endpoints\n",
    "4. sdw_spring1 = df[df['SDW_spring']>=75] '=' `panda.series` of boolean values indicating which rows have year value between 2012 and 2015\n",
    "5. When we put df[ df['year'].between(2012,20150)] inside the selection brackets '[]' we obtain rows we wanted to select\n"
   ]
  },
  {
   "cell_type": "markdown",
   "id": "2d061093-cf78-4345-a1f3-626fa4997cf4",
   "metadata": {},
   "source": [
    "#### Avoid using loc for selecting only rows\n",
    "its the same to write"
   ]
  },
  {
   "cell_type": "code",
   "execution_count": null,
   "id": "34af82db-bc6e-4da8-a92e-20e87587c006",
   "metadata": {
    "tags": []
   },
   "outputs": [],
   "source": [
    "# select rows with year <2015\n",
    "df[df['year']<2015]"
   ]
  },
  {
   "cell_type": "code",
   "execution_count": null,
   "id": "b8459ba5-a21e-490b-a6f8-1fe6b2bd5e8c",
   "metadata": {
    "tags": []
   },
   "outputs": [],
   "source": [
    "# Select rows with year <2015 usign loc \n",
    "df.loc[df['year']<2015, :]"
   ]
  },
  {
   "cell_type": "markdown",
   "id": "6e15f571-b995-49f0-a0d7-63b9f4550e56",
   "metadata": {},
   "source": [
    "We prefer the first syntax bc it is simpler\n",
    "\n",
    "### Select columns using multiple conditions\n",
    "\n",
    "We can combine multiple conditions to select rows by surrounding each one in () and using the or operator | and the and operator &\n",
    "\n",
    "## Example: or \n",
    "Select rows in wich the csm has more than 50 species registered in winter *or* march \n",
    "Square brackets are always selection brackets"
   ]
  },
  {
   "cell_type": "code",
   "execution_count": null,
   "id": "34cae218-4a1b-4e56-a520-7bea850ad00e",
   "metadata": {
    "tags": []
   },
   "outputs": [],
   "source": [
    "df[(df['CSM_winter']>50) |(df['CSM_fall']>5)]"
   ]
  },
  {
   "cell_type": "markdown",
   "id": "252fd7bf-e82f-47b4-9aca-2622553e1979",
   "metadata": {},
   "source": [
    "## Example: and\n",
    "Select rows in boths the CSM and the SDW have morw than 60 species during spring"
   ]
  },
  {
   "cell_type": "code",
   "execution_count": null,
   "id": "f2c94d4e-1da9-4a66-b60c-17c68697e006",
   "metadata": {
    "tags": []
   },
   "outputs": [],
   "source": [
    "df[(df['CSM_winter']>50) & (df['CSM_fall']>5)]"
   ]
  },
  {
   "cell_type": "markdown",
   "id": "adef31f7-e621-4aac-aded-9ae2e4b67b9b",
   "metadata": {},
   "source": [
    "An empty data frame thats okay no rows satisfy the conditions\n",
    "\n",
    "## Select rows by positions\n",
    "soemtimes we may want to select certain rows based on there actual position in the data frame. In other words using **position based** \n",
    "\n",
    "To do this there is a different position from loc, we use **iloc selection** santax\n",
    "\n",
    "```python \n",
    "df.iloc[row-indices]\n",
    "```\n",
    "\n",
    "`iloc` = stands for interger-location based indexing\n",
    "\n",
    "## Select the fifit row (index=4)"
   ]
  },
  {
   "cell_type": "code",
   "execution_count": null,
   "id": "81486135-fed9-4614-9a26-65262dbdd23a",
   "metadata": {
    "tags": []
   },
   "outputs": [],
   "source": [
    "df.iloc[4]"
   ]
  },
  {
   "cell_type": "code",
   "execution_count": null,
   "id": "39869de3-de08-48bb-a3c2-275e126f6bc0",
   "metadata": {
    "tags": []
   },
   "outputs": [],
   "source": [
    "# Select rows 9 through 13\n",
    "df.iloc[9:14]\n",
    "\n",
    "# Remember, in python it will go one less than the one you put"
   ]
  },
  {
   "cell_type": "markdown",
   "id": "007749ca-d762-42b6-b371-00b4a5a0e14d",
   "metadata": {},
   "source": [
    "### Selecting rows and columsn at the same time\n",
    "\n",
    "Can be done using `loc` (labels) or using `iloc` (positions).\n",
    "\n",
    "### ...By labels or conditions\n",
    "\n",
    "When we want to select rows and columns simultaneously by labels (including using conditions) we can use the `loc` selection with the syntax:\n",
    "\n",
    "```python\n",
    "df.loc[ row-selection, column-selection]\n",
    "```\n",
    "\n",
    "Example:\n",
    "\n",
    "Select winter surveys from MUL and tje after 2020\n"
   ]
  },
  {
   "cell_type": "code",
   "execution_count": null,
   "id": "4d3ea6cc-2c21-4957-b7b1-008b2e647c4c",
   "metadata": {
    "tags": []
   },
   "outputs": [],
   "source": [
    "df.loc[df['year'] >2020, ['MUL_winter', 'TJE_winter']] "
   ]
  },
  {
   "cell_type": "markdown",
   "id": "3dab8ba1-a691-4540-bcb6-9c18f28c6298",
   "metadata": {},
   "source": [
    "## Selecting by position\n",
    "\n",
    "Suppose we want to select rows 3-7 (including 7) and columns 4th and 5th "
   ]
  },
  {
   "cell_type": "code",
   "execution_count": null,
   "id": "f6f91b2c-793b-4d0b-8e87-f35e42e56ff4",
   "metadata": {
    "tags": []
   },
   "outputs": [],
   "source": [
    "#Its about position so use iloc\n",
    "df.iloc[3:8, [3,4]]"
   ]
  },
  {
   "cell_type": "markdown",
   "id": "c22ad3c3-391c-456c-8cba-7cb89e211086",
   "metadata": {},
   "source": [
    "## Notes about iloc and loc\n",
    "### Which one does what?\n",
    "\n",
    "Rememeber that the i in iloc stands for integer location and it uses integer indexing the way as indexing for python list\n",
    "\n",
    "### `iloc` for columns selection? Avoid it!\n",
    "We can also access columns by posisition using iloc but best not to if possible \n",
    "\n",
    "Example:\n",
    "\n",
    "We want to access the 9th column of the df and we want to select a column by position.\n",
    "\n"
   ]
  },
  {
   "cell_type": "code",
   "execution_count": null,
   "id": "47775c3b-3987-42c2-9ce6-efad0a57bf53",
   "metadata": {
    "tags": []
   },
   "outputs": [],
   "source": [
    "# Your code should be able to be read as if you were reading a normal text\n",
    "df.iloc[8]"
   ]
  },
  {
   "cell_type": "markdown",
   "id": "7efde1f6-10fc-4e41-9668-b8cd674bc676",
   "metadata": {},
   "source": [
    "Unless you are *really* looking for infor about the 9th columns **do not access a column by position** this can break in many ways:\n",
    "\n",
    "1. it relies on you correctly counting th eposiiton of a columns. Eveen with a small data set this can be a problem\n",
    "\n",
    "2. It is not explicit: if we want infor about that colymn then we use `df['SDW_spring']` data might be updated too"
   ]
  },
  {
   "cell_type": "markdown",
   "id": "0aa10052-ddc7-4526-81f0-d57caaba023c",
   "metadata": {},
   "source": [
    "## Method chaining \n",
    "\n",
    "the code used in the check in \n",
    "df.set_index(year).loc [: ].plot \n",
    "Is an example of method chaning\n",
    "eath method in the chain returns an object, allowing the next method to be called directly on the result,., Great techniwure to maker your code concise and readable\n",
    "You can also beak lines in method chaning, so one line per method"
   ]
  },
  {
   "cell_type": "markdown",
   "id": "5b668c84-2038-445a-b843-97bb34492a86",
   "metadata": {},
   "source": [
    "## About the data\n",
    "\n",
    "We will use the palmer penguins dataset.\n",
    "Data about size measurements for three penguin species in the palmer archipelago during 2008,2007,2009\n"
   ]
  },
  {
   "cell_type": "code",
   "execution_count": null,
   "id": "34b88dd4-d338-46cd-b135-d8a80ec98509",
   "metadata": {
    "tags": []
   },
   "outputs": [],
   "source": [
    "#load the data\n",
    "URL = 'https://raw.githubusercontent.com/allisonhorst/palmerpenguins/main/inst/extdata/penguins.csv'\n",
    "penguins = pd.read_csv(URL)\n",
    "\n",
    "penguins.head()"
   ]
  },
  {
   "cell_type": "code",
   "execution_count": null,
   "id": "573df22b-3591-431e-b49a-7f01d9fbc7f4",
   "metadata": {
    "tags": []
   },
   "outputs": [],
   "source": [
    "# Check the column data types and NA values\n",
    "penguins.info()"
   ]
  },
  {
   "cell_type": "code",
   "execution_count": null,
   "id": "f89235b7-19d5-4bee-9c1b-7a02291a2382",
   "metadata": {
    "tags": []
   },
   "outputs": [],
   "source": [
    "# Count the unique calues in categorical columns and year\n",
    "penguins[['species','island','sex','year']].nunique"
   ]
  },
  {
   "cell_type": "code",
   "execution_count": null,
   "id": "4a168f56-69f0-42d4-b98e-a1a6cc842fba",
   "metadata": {
    "tags": []
   },
   "outputs": [],
   "source": [
    "# Get unique values in species column\n",
    "penguins['species'].unique()"
   ]
  },
  {
   "cell_type": "code",
   "execution_count": null,
   "id": "ea6c9468-aa35-4a2c-8c37-bcf29efe084e",
   "metadata": {
    "tags": []
   },
   "outputs": [],
   "source": [
    "# Count per unique value in species column\n",
    "penguins['species'].value_counts()"
   ]
  },
  {
   "cell_type": "markdown",
   "id": "38c8abda-005a-479c-a2b2-a85b7475184f",
   "metadata": {},
   "source": [
    "# `kind` argument in `plot`\n",
    "\n",
    "`plot()` method creates a line plot by default. \n",
    "if we change the value of the `kind` paramenter we can create different kinds of plots\n",
    "\n",
    "example scatter plot"
   ]
  },
  {
   "cell_type": "code",
   "execution_count": 9,
   "id": "d5e2168b-0305-4cfc-bfce-8feeba167ee0",
   "metadata": {
    "tags": []
   },
   "outputs": [
    {
     "ename": "NameError",
     "evalue": "name 'penguins' is not defined",
     "output_type": "error",
     "traceback": [
      "\u001b[0;31m---------------------------------------------------------------------------\u001b[0m",
      "\u001b[0;31mNameError\u001b[0m                                 Traceback (most recent call last)",
      "\u001b[0;32m/tmp/ipykernel_1604905/1677949848.py\u001b[0m in \u001b[0;36m<module>\u001b[0;34m\u001b[0m\n\u001b[1;32m      1\u001b[0m \u001b[0;31m# Compare the flipper\u001b[0m\u001b[0;34m\u001b[0m\u001b[0;34m\u001b[0m\u001b[0m\n\u001b[1;32m      2\u001b[0m \u001b[0;34m\u001b[0m\u001b[0m\n\u001b[0;32m----> 3\u001b[0;31m penguins.plot(kind='scatter',\n\u001b[0m\u001b[1;32m      4\u001b[0m               \u001b[0mx\u001b[0m \u001b[0;34m=\u001b[0m\u001b[0;34m'flipper_length_mm'\u001b[0m\u001b[0;34m,\u001b[0m\u001b[0;34m\u001b[0m\u001b[0;34m\u001b[0m\u001b[0m\n\u001b[1;32m      5\u001b[0m               \u001b[0my\u001b[0m\u001b[0;34m=\u001b[0m\u001b[0;34m'body_mass_g'\u001b[0m\u001b[0;34m,\u001b[0m\u001b[0;34m\u001b[0m\u001b[0;34m\u001b[0m\u001b[0m\n",
      "\u001b[0;31mNameError\u001b[0m: name 'penguins' is not defined"
     ]
    }
   ],
   "source": [
    "# Compare the flipper\n",
    "\n",
    "penguins.plot(kind='scatter',\n",
    "              x ='flipper_length_mm',\n",
    "              y='body_mass_g',\n",
    "             alpha=0.4 )\n",
    "              # alpha controls the transperancy "
   ]
  }
 ],
 "metadata": {
  "kernelspec": {
   "display_name": "Anaconda 3 (Base)",
   "language": "python",
   "name": "base"
  },
  "language_info": {
   "codemirror_mode": {
    "name": "ipython",
    "version": 3
   },
   "file_extension": ".py",
   "mimetype": "text/x-python",
   "name": "python",
   "nbconvert_exporter": "python",
   "pygments_lexer": "ipython3",
   "version": "3.9.13"
  }
 },
 "nbformat": 4,
 "nbformat_minor": 5
}
